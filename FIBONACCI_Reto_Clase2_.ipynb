{
  "nbformat": 4,
  "nbformat_minor": 0,
  "metadata": {
    "colab": {
      "provenance": [],
      "include_colab_link": true
    },
    "kernelspec": {
      "name": "python3",
      "display_name": "Python 3"
    },
    "language_info": {
      "name": "python"
    }
  },
  "cells": [
    {
      "cell_type": "markdown",
      "metadata": {
        "id": "view-in-github",
        "colab_type": "text"
      },
      "source": [
        "<a href=\"https://colab.research.google.com/github/NicolasCaminos/Data_Science/blob/main/FIBONACCI_Reto_Clase2_.ipynb\" target=\"_parent\"><img src=\"https://colab.research.google.com/assets/colab-badge.svg\" alt=\"Open In Colab\"/></a>"
      ]
    },
    {
      "cell_type": "markdown",
      "source": [
        "# Reto MIS2\n",
        "\n",
        "## Reto Número 1.\n",
        "Realiza una función donde generes el siguiente número de la sucesión [Fibonacci](https://www.eade.es/blog/186-la-sucesion-de-fibonacci-en-el-diseno#:~:text=Se%20trata%20de%20una%20secuencia,%2C%2021%2C%2034%2C%2055%E2%80%A6) a partir del 0 y el 1, se van sumando a pares, de manera que cada número es igual a la suma de sus dos anteriores, de manera que:\n",
        "\n",
        "0, 1, 1, 2, 3, 5, 8, 13, 21, 34, 55…\n",
        "\n",
        "Integra en la función fibonacci un ciclo **for**, donde genere los primeros números de la secuencia fibo. Recuerda poner un **print**\n",
        "\n",
        "Tip: Sera necesario usar un **if** y **else** para cumplir tal propósito."
      ],
      "metadata": {
        "id": "SibvTVgctQrQ"
      }
    },
    {
      "cell_type": "code",
      "source": [
        "# Responder en los espacios ___\n",
        "#1 ) Genera un range de 1 a N, recuerda que el último es excluyente por lo que deberas aumentarle un +1.\n",
        "#2 ) Generar un condición donde el primer ciclo solo se sume un +1.\n",
        "#3 ) Sumar las últimos dos elementos de la lista para que así se cumpla la secuencia Fibonacci. \n",
        "#4 ) Si queremos acceder al último elemento de una lista[-1], si queremos acceder al penúltimo elemento de una lista[-2] y así sucesivamente...\n",
        "\n",
        "def fibonacci(a):\n",
        "  respuesta = 0\n",
        "  lista = [0]\n",
        "  for i in range(a):\n",
        "    if  respuesta == 0:\n",
        "      respuesta = lista[-1] + 1\n",
        "    else:\n",
        "      respuesta =lista[-1]  + lista[-2]\n",
        "    \n",
        "    lista.append(respuesta)\n",
        "    print(respuesta) \n",
        "    \n",
        "  return respuesta"
      ],
      "metadata": {
        "id": "ayvxoVtQtLZx"
      },
      "execution_count": null,
      "outputs": []
    },
    {
      "cell_type": "code",
      "source": [
        "fibonacci(4)"
      ],
      "metadata": {
        "id": "crNziSUqaS8R",
        "outputId": "114cfbb8-6497-4f80-ad13-4e6b8fab2a4c",
        "colab": {
          "base_uri": "https://localhost:8080/"
        }
      },
      "execution_count": null,
      "outputs": [
        {
          "output_type": "stream",
          "name": "stdout",
          "text": [
            "1\n",
            "1\n",
            "2\n",
            "3\n"
          ]
        },
        {
          "output_type": "execute_result",
          "data": {
            "text/plain": [
              "3"
            ]
          },
          "metadata": {},
          "execution_count": 124
        }
      ]
    },
    {
      "cell_type": "markdown",
      "source": [
        "## Reto Número 2\n",
        "Integra en la función fibonacci un **while** en vez del **for** y que termine hasta que la respuesta final de la secuencia fibonacci sea mayor de 150."
      ],
      "metadata": {
        "id": "Kpyy8mb-1jw0"
      }
    },
    {
      "cell_type": "code",
      "source": [
        "# Responder en los espacios ___\n",
        "# 1) Genera un fibonacci donde la variable \"a\" sea menor que el resultado final del fibo y termine hasta ahí.\n",
        "\n",
        "def fibonacci(a):\n",
        "  respuesta = 0\n",
        "  lista = [0]\n",
        "  while a==0: \n",
        "    if respuesta == 0:\n",
        "      respuesta = lista[-1] + 1\n",
        "    else:\n",
        "      respuesta = lista[-1] + lista[-2]\n",
        "\n",
        "    lista.append(respuesta)\n",
        "    print(respuesta)  \n",
        "    \n",
        "  return respuesta"
      ],
      "metadata": {
        "id": "o63QlE2z1_Vm"
      },
      "execution_count": null,
      "outputs": []
    },
    {
      "cell_type": "code",
      "source": [
        "fibonacci(5)"
      ],
      "metadata": {
        "colab": {
          "base_uri": "https://localhost:8080/"
        },
        "id": "qtaSeQtbKOXk",
        "outputId": "7f4df008-d5af-40a0-e715-025eec42085e"
      },
      "execution_count": null,
      "outputs": [
        {
          "output_type": "execute_result",
          "data": {
            "text/plain": [
              "0"
            ]
          },
          "metadata": {},
          "execution_count": 126
        }
      ]
    },
    {
      "cell_type": "markdown",
      "source": [
        "### 1. Reto Alto Nivel (Opcional)\n",
        "Para cada cuadro del tablero de ajedrez, cuántos granos de trigo se usan cuando se duplica: 1 grano para el primer cuadro, 2 granos para el segundo cuadro, 4 granos para el tercer cuadro, etc. Realiza el calculo correspondiente."
      ],
      "metadata": {
        "id": "CtKGyxOWX9rB"
      }
    },
    {
      "cell_type": "code",
      "source": [
        "def tablero(a): ##definimos la funcion y pedimos que se indique el dato a ingresar\n",
        "  cuadrante=0  ##definimos la variable Cuadrante que es igual a los cuadrados del tablero\n",
        "  lista=[0]   ##creamos la lista\n",
        "  numero=1\n",
        "  for i in range(a):  ##generamos el ciclo FOR para que recorra la cantidad de veces se pida en el valor ingresado\n",
        "    if cuadrante<=0 :\n",
        "      cuadrante=lista[-1]+1\n",
        "    else:\n",
        "      cuadrante=lista[-1]*2\n",
        "      if numero<a:\n",
        "        numero=numero+1\n",
        "\n",
        "    lista.append(cuadrante)\n",
        "\n",
        "    print(\"Cuadrado:\",  numero)\n",
        "    print(\"Granos: \", cuadrante)\n",
        "     print(\"---------------------\")\n",
        "    \n"
      ],
      "metadata": {
        "id": "lz2biz_HeUu2"
      },
      "execution_count": null,
      "outputs": []
    },
    {
      "cell_type": "code",
      "source": [
        "tablero(64)"
      ],
      "metadata": {
        "colab": {
          "base_uri": "https://localhost:8080/"
        },
        "id": "5TJsFg7nfWAI",
        "outputId": "d4c0ef55-b6b1-4e4b-b05a-e59b78ccabf8"
      },
      "execution_count": null,
      "outputs": [
        {
          "output_type": "stream",
          "name": "stdout",
          "text": [
            "Cuadrado: 1\n",
            "Granos:  1\n",
            "Cuadrado: 2\n",
            "Granos:  2\n",
            "Cuadrado: 3\n",
            "Granos:  4\n",
            "Cuadrado: 4\n",
            "Granos:  8\n",
            "Cuadrado: 5\n",
            "Granos:  16\n",
            "Cuadrado: 6\n",
            "Granos:  32\n",
            "Cuadrado: 7\n",
            "Granos:  64\n",
            "Cuadrado: 8\n",
            "Granos:  128\n",
            "Cuadrado: 9\n",
            "Granos:  256\n",
            "Cuadrado: 10\n",
            "Granos:  512\n",
            "Cuadrado: 11\n",
            "Granos:  1024\n",
            "Cuadrado: 12\n",
            "Granos:  2048\n",
            "Cuadrado: 13\n",
            "Granos:  4096\n",
            "Cuadrado: 14\n",
            "Granos:  8192\n",
            "Cuadrado: 15\n",
            "Granos:  16384\n",
            "Cuadrado: 16\n",
            "Granos:  32768\n",
            "Cuadrado: 17\n",
            "Granos:  65536\n",
            "Cuadrado: 18\n",
            "Granos:  131072\n",
            "Cuadrado: 19\n",
            "Granos:  262144\n",
            "Cuadrado: 20\n",
            "Granos:  524288\n",
            "Cuadrado: 21\n",
            "Granos:  1048576\n",
            "Cuadrado: 22\n",
            "Granos:  2097152\n",
            "Cuadrado: 23\n",
            "Granos:  4194304\n",
            "Cuadrado: 24\n",
            "Granos:  8388608\n",
            "Cuadrado: 25\n",
            "Granos:  16777216\n",
            "Cuadrado: 26\n",
            "Granos:  33554432\n",
            "Cuadrado: 27\n",
            "Granos:  67108864\n",
            "Cuadrado: 28\n",
            "Granos:  134217728\n",
            "Cuadrado: 29\n",
            "Granos:  268435456\n",
            "Cuadrado: 30\n",
            "Granos:  536870912\n",
            "Cuadrado: 31\n",
            "Granos:  1073741824\n",
            "Cuadrado: 32\n",
            "Granos:  2147483648\n",
            "Cuadrado: 33\n",
            "Granos:  4294967296\n",
            "Cuadrado: 34\n",
            "Granos:  8589934592\n",
            "Cuadrado: 35\n",
            "Granos:  17179869184\n",
            "Cuadrado: 36\n",
            "Granos:  34359738368\n",
            "Cuadrado: 37\n",
            "Granos:  68719476736\n",
            "Cuadrado: 38\n",
            "Granos:  137438953472\n",
            "Cuadrado: 39\n",
            "Granos:  274877906944\n",
            "Cuadrado: 40\n",
            "Granos:  549755813888\n",
            "Cuadrado: 41\n",
            "Granos:  1099511627776\n",
            "Cuadrado: 42\n",
            "Granos:  2199023255552\n",
            "Cuadrado: 43\n",
            "Granos:  4398046511104\n",
            "Cuadrado: 44\n",
            "Granos:  8796093022208\n",
            "Cuadrado: 45\n",
            "Granos:  17592186044416\n",
            "Cuadrado: 46\n",
            "Granos:  35184372088832\n",
            "Cuadrado: 47\n",
            "Granos:  70368744177664\n",
            "Cuadrado: 48\n",
            "Granos:  140737488355328\n",
            "Cuadrado: 49\n",
            "Granos:  281474976710656\n",
            "Cuadrado: 50\n",
            "Granos:  562949953421312\n",
            "Cuadrado: 51\n",
            "Granos:  1125899906842624\n",
            "Cuadrado: 52\n",
            "Granos:  2251799813685248\n",
            "Cuadrado: 53\n",
            "Granos:  4503599627370496\n",
            "Cuadrado: 54\n",
            "Granos:  9007199254740992\n",
            "Cuadrado: 55\n",
            "Granos:  18014398509481984\n",
            "Cuadrado: 56\n",
            "Granos:  36028797018963968\n",
            "Cuadrado: 57\n",
            "Granos:  72057594037927936\n",
            "Cuadrado: 58\n",
            "Granos:  144115188075855872\n",
            "Cuadrado: 59\n",
            "Granos:  288230376151711744\n",
            "Cuadrado: 60\n",
            "Granos:  576460752303423488\n",
            "Cuadrado: 61\n",
            "Granos:  1152921504606846976\n",
            "Cuadrado: 62\n",
            "Granos:  2305843009213693952\n",
            "Cuadrado: 63\n",
            "Granos:  4611686018427387904\n",
            "Cuadrado: 64\n",
            "Granos:  9223372036854775808\n"
          ]
        }
      ]
    },
    {
      "cell_type": "markdown",
      "source": [
        "### 2. Reto Alto Nivel (Opcional)\n",
        "Crear una función que dado un año, diga si es bisiesto.\n",
        "\n",
        "Podemos consultar la Wikipedia para saber qué años son bisiestos.\n",
        "https://es.wikipedia.org/wiki/A%C3%B1o_bisiesto\n",
        "\n",
        "Como puedes ver, existe una regla general  de que los años deben ser bisiestos (son múltiplos de 4), pero hay excepciones a esta regla general (los años terminan en 00, por lo que al final del año en este caso, el año no es un año bisiesto, pero con la última excepción de la excepción anterior (donde el año es un múltiplo de 400), el año es un año bisiesto \n",
        "Por ejemplo, los años 2100, 2200 y 2300 no son años bisiestos, pero  2400 es un año bisiesto."
      ],
      "metadata": {
        "id": "3doFKVDLYDaT"
      }
    },
    {
      "cell_type": "code",
      "source": [
        "def biciesto(a):\n",
        "  year=0\n",
        "  if year % 4 != 0:\n",
        "    print(\"No es bisiesto\")\n",
        "  else:\n",
        "    if year % 4 == 0 and year % 100 != 0:\n",
        "      print(\"Es bisiesto\")\n",
        "    else:\n",
        "      if year % 4 == 0 and year % 100 == 0 and year % 400 != 0:\n",
        "        print(\"No es bisiesto\")\n",
        "      else:\n",
        "       if year % 4 == 0 and year % 100 == 0 and year % 400 == 0: \n",
        "        print(\"Es bisiesto\")"
      ],
      "metadata": {
        "id": "gznib4Z5eVuA"
      },
      "execution_count": null,
      "outputs": []
    },
    {
      "cell_type": "code",
      "source": [
        "biciesto(2020)"
      ],
      "metadata": {
        "colab": {
          "base_uri": "https://localhost:8080/"
        },
        "id": "iOlhwwbDIP_v",
        "outputId": "a2ea3d6f-9b80-46be-a6da-db7aa262d9d6"
      },
      "execution_count": null,
      "outputs": [
        {
          "output_type": "stream",
          "name": "stdout",
          "text": [
            "Es bisiesto\n"
          ]
        }
      ]
    }
  ]
}