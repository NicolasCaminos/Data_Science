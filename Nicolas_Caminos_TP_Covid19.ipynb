{
  "nbformat": 4,
  "nbformat_minor": 0,
  "metadata": {
    "colab": {
      "provenance": [],
      "collapsed_sections": [
        "fKHzai7KPT72",
        "R-pAeCDWMxHj",
        "9iSz5m4SQIV3",
        "smqGOrQUEFhd"
      ],
      "toc_visible": true,
      "include_colab_link": true
    },
    "kernelspec": {
      "name": "python3",
      "display_name": "Python 3"
    },
    "language_info": {
      "name": "python"
    }
  },
  "cells": [
    {
      "cell_type": "markdown",
      "metadata": {
        "id": "view-in-github",
        "colab_type": "text"
      },
      "source": [
        "<a href=\"https://colab.research.google.com/github/NicolasCaminos/Data_Science/blob/main/Nicolas_Caminos_TP_Covid19.ipynb\" target=\"_parent\"><img src=\"https://colab.research.google.com/assets/colab-badge.svg\" alt=\"Open In Colab\"/></a>"
      ]
    },
    {
      "cell_type": "markdown",
      "source": [
        "# Introducción al Trabajo"
      ],
      "metadata": {
        "id": "1fwF6bYRq8u1"
      }
    },
    {
      "cell_type": "markdown",
      "source": [
        "La pandemia de COVID-19 ha afectado a millones de personas en todo el mundo y ha generado una gran cantidad de datos sobre la enfermedad y sus efectos en la salud de las personas. Este trabajo de Machine Learning se enfoca en analizar una base de datos sobre casos de COVID-19 obtenida de Kaggle.com, con el objetivo de determinar el riesgo de muerte de los pacientes.\n",
        "\n",
        "La base de datos incluye información relevante sobre las variables de análisis, tales como el sexo, edad, clasificación según test de COVID-19, tipo de tratamiento recibido por el paciente, presencia o ausencia de neumonía, embarazo (en caso de ser paciente femenino), diabetes, asma, enfermedades que obstruyen las vías respiratorias de manera crónica, enfermedades inmuno supresoras, hipertensión, enfermedades cardiovasculares, enfermedades crónicas renales, otras enfermedades, obesidad, nivel de atención médica recibido, intubación, admisión en una unidad de cuidados intensivos y, en su caso, fecha de muerte.\n",
        "\n",
        "El análisis de esta información permitirá entender mejor los factores que aumentan o disminuyen el riesgo de muerte en pacientes con COVID-19. Esta información puede ser de gran importancia para la toma de decisiones en el ámbito de la atención médica y para el desarrollo de estrategias de prevención y tratamiento efectivas. Además, el estudio de esta base de datos contribuirá a la investigación en torno a la COVID-19 y a la comprensión de la enfermedad.\n",
        "\n",
        "Se utilizarán técnicas de Machine Learning para entrenar un modelo capaz de predecir el riesgo de muerte de los pacientes con base en las variables de análisis mencionadas. Se evaluarán diferentes algoritmos de aprendizaje automático y se seleccionará el que proporcione mejores resultados.\n",
        "\n",
        "En conclusión, este trabajo de Machine Learning tiene el objetivo de analizar una base de datos sobre casos de COVID-19 y determinar el riesgo de muerte de los pacientes. Los resultados de este análisis pueden tener un impacto significativo en la atención médica y en la comprensión de la COVID-19. Esto contribuirá al avance del conocimiento en este ámbito y puede ser una herramienta valiosa para tomar decisiones informadas sobre el tratamiento de dicha enfermedad."
      ],
      "metadata": {
        "id": "LBFv1hlj8UUl"
      }
    },
    {
      "cell_type": "markdown",
      "source": [
        "<base>&nbsp;&nbsp;La idea principal de este trabajo es averiguar si existe una relación entre los casos de muerte, la sintomatologia y fisiologia del paciente para luego poder usar estas variables recolectadas en un modelo que permita reconocer los pacientes de riesgo que cursan por dicha enfermedad.<br>\n",
        "&nbsp;&nbsp;Para ello utilizaremos un Dataset que contiene el registro de casos de covid-19 con sus sintomas y en caso de que hayan muerto, sus fechas de muerte.<br>\n",
        "&nbsp;&nbsp;Los sintomas seran utilizados como variables independientes y la variable dependiente sera una que indique si murio o no, que deribara de dicha fecha.</base>"
      ],
      "metadata": {
        "id": "MfYvnCT5rHEC"
      }
    },
    {
      "cell_type": "markdown",
      "source": [
        "# About the DataSet (fuente y datos copiados de la misma)"
      ],
      "metadata": {
        "id": "yeX_5iVAO2lt"
      }
    },
    {
      "cell_type": "markdown",
      "source": [
        "## Fuente:"
      ],
      "metadata": {
        "id": "HDyuR1dRPe5l"
      }
    },
    {
      "cell_type": "markdown",
      "source": [
        "COVID-19 Dataset (kaggle):\n",
        "kaggle.com/datasets/meirnizri/covid19-dataset?resource=download"
      ],
      "metadata": {
        "id": "zVpKfefTPi15"
      }
    },
    {
      "cell_type": "markdown",
      "source": [
        "## Cotext"
      ],
      "metadata": {
        "id": "Ho-jzKLPPE6X"
      }
    },
    {
      "cell_type": "markdown",
      "source": [
        "Coronavirus disease (COVID-19) is an infectious disease caused by a newly discovered coronavirus. Most people infected with COVID-19 virus will experience mild to moderate respiratory illness and recover without requiring special treatment. Older people, and those with underlying medical problems like cardiovascular disease, diabetes, chronic respiratory disease, and cancer are more likely to develop serious illness.\n",
        "During the entire course of the pandemic, one of the main problems that healthcare providers have faced is the shortage of medical resources and a proper plan to efficiently distribute them. In these tough times, being able to predict what kind of resource an individual might require at the time of being tested positive or even before that will be of immense help to the authorities as they would be able to procure and arrange for the resources necessary to save the life of that patient.\n",
        "\n",
        "The main goal of this project is to build a machine learning model that, given a Covid-19 patient's current symptom, status, and medical history, will predict whether the patient is in high risk or not."
      ],
      "metadata": {
        "id": "JU_zqu9uPNO9"
      }
    },
    {
      "cell_type": "markdown",
      "source": [
        "## Content:"
      ],
      "metadata": {
        "id": "fKHzai7KPT72"
      }
    },
    {
      "cell_type": "markdown",
      "source": [
        "The dataset was provided by the Mexican government (link). This dataset contains an enormous number of anonymized patient-related information including pre-conditions. The raw dataset consists of 21 unique features and 1,048,576 unique patients. In the Boolean features, 1 means \"yes\" and 2 means \"no\". values as 97 and 99 are missing data.\n",
        "\n",
        "1. sex: 1 for female and 2 for male.\n",
        "2. age: of the patient.\n",
        "3. classification: covid test findings. Values 1-3 mean that the patient was diagnosed with covid in different\n",
        "degrees. 4 or higher means that the patient is not a carrier of covid or that the test is inconclusive.\n",
        "4. patient type: type of care the patient received in the unit. 1 for returned home and 2 for hospitalization.\n",
        "5. pneumonia: whether the patient already have air sacs inflammation or not.\n",
        "6. pregnancy: whether the patient is pregnant or not.\n",
        "7. diabetes: whether the patient has diabetes or not.\n",
        "8. copd: Indicates whether the patient has Chronic obstructive pulmonary disease or not.\n",
        "9. asthma: whether the patient has asthma or not.\n",
        "10. inmsupr: whether the patient is immunosuppressed or not.\n",
        "11. hypertension: whether the patient has hypertension or not.\n",
        "12. cardiovascular: whether the patient has heart or blood vessels related disease.\n",
        "13. renal chronic: whether the patient has chronic renal disease or not.\n",
        "14. other disease: whether the patient has other disease or not.\n",
        "15. obesity: whether the patient is obese or not.\n",
        "16. tobacco: whether the patient is a tobacco user.\n",
        "17. usmr: Indicates whether the patient treated medical units of the first, second or third level.\n",
        "18. medical unit: type of institution of the National Health System that provided the care.\n",
        "19. intubed: whether the patient was connected to the ventilator.\n",
        "20. icu: Indicates whether the patient had been admitted to an Intensive Care Unit.\n",
        "21. date died: If the patient died indicate the date of death, and 9999-99-99 otherwise."
      ],
      "metadata": {
        "id": "mChj92KRO9Q0"
      }
    },
    {
      "cell_type": "markdown",
      "source": [
        "# Importación de Archivos y Librerías"
      ],
      "metadata": {
        "id": "R-pAeCDWMxHj"
      }
    },
    {
      "cell_type": "markdown",
      "source": [
        "El archivo que utilizaremos sera: </content/drive/MyDrive/PROGRAMACION/coderhouse/tps/Covid19/CovidData.csv>"
      ],
      "metadata": {
        "id": "Y7HzFeRuM9v9"
      }
    },
    {
      "cell_type": "code",
      "execution_count": 2,
      "metadata": {
        "id": "yUa1475DMmoW"
      },
      "outputs": [],
      "source": [
        "#importar librerias\n",
        "from google.colab import drive\n",
        "import pandas as pd\n",
        "import matplotlib as mpl\n",
        "import matplotlib.pyplot as plt\n",
        "import seaborn as sns\n",
        "import os\n",
        "import numpy as np"
      ]
    },
    {
      "cell_type": "code",
      "source": [
        "# Montar drive:\n",
        "drive.mount('/content/gdrive')\n",
        "# Establecer ruta de acceso en drive\n",
        "import os\n",
        "%cd '/content/gdrive/MyDrive'\n",
        "df= pd.read_csv('covid.csv',sep=',')"
      ],
      "metadata": {
        "id": "gLYCIvP7NsQM",
        "colab": {
          "base_uri": "https://localhost:8080/"
        },
        "outputId": "617b914a-77d8-4f33-d164-753dc1c43188"
      },
      "execution_count": 3,
      "outputs": [
        {
          "output_type": "stream",
          "name": "stdout",
          "text": [
            "Drive already mounted at /content/gdrive; to attempt to forcibly remount, call drive.mount(\"/content/gdrive\", force_remount=True).\n",
            "/content/gdrive/MyDrive\n"
          ]
        }
      ]
    },
    {
      "cell_type": "markdown",
      "source": [
        "# Presentacion de Datos:"
      ],
      "metadata": {
        "id": "9iSz5m4SQIV3"
      }
    },
    {
      "cell_type": "code",
      "source": [
        "df.columns"
      ],
      "metadata": {
        "id": "dWEtNutkVW9M",
        "colab": {
          "base_uri": "https://localhost:8080/"
        },
        "outputId": "63724b97-4003-4b4f-c281-8fa20cd08dfd"
      },
      "execution_count": 4,
      "outputs": [
        {
          "output_type": "execute_result",
          "data": {
            "text/plain": [
              "Index(['USMER', 'MEDICAL_UNIT', 'SEX', 'PATIENT_TYPE', 'DATE_DIED', 'INTUBED',\n",
              "       'PNEUMONIA', 'AGE', 'PREGNANT', 'DIABETES', 'COPD', 'ASTHMA', 'INMSUPR',\n",
              "       'HIPERTENSION', 'OTHER_DISEASE', 'CARDIOVASCULAR', 'OBESITY',\n",
              "       'RENAL_CHRONIC', 'TOBACCO', 'CLASIFFICATION_FINAL', 'ICU'],\n",
              "      dtype='object')"
            ]
          },
          "metadata": {},
          "execution_count": 4
        }
      ]
    },
    {
      "cell_type": "code",
      "source": [
        "df.head(2)"
      ],
      "metadata": {
        "id": "W8Tl4F_RQT94",
        "colab": {
          "base_uri": "https://localhost:8080/",
          "height": 0
        },
        "outputId": "3dfc0f7d-60e9-4f03-d65d-efc1c3ed2ed6"
      },
      "execution_count": 5,
      "outputs": [
        {
          "output_type": "execute_result",
          "data": {
            "text/plain": [
              "   USMER  MEDICAL_UNIT  SEX  PATIENT_TYPE   DATE_DIED  INTUBED  PNEUMONIA  \\\n",
              "0      2             1    1             1  03/05/2020       97          1   \n",
              "1      2             1    2             1  03/06/2020       97          1   \n",
              "\n",
              "   AGE  PREGNANT  DIABETES  ...  ASTHMA  INMSUPR  HIPERTENSION  OTHER_DISEASE  \\\n",
              "0   65         2         2  ...       2        2             1              2   \n",
              "1   72        97         2  ...       2        2             1              2   \n",
              "\n",
              "   CARDIOVASCULAR  OBESITY  RENAL_CHRONIC  TOBACCO  CLASIFFICATION_FINAL  ICU  \n",
              "0               2        2              2        2                     3   97  \n",
              "1               2        1              1        2                     5   97  \n",
              "\n",
              "[2 rows x 21 columns]"
            ],
            "text/html": [
              "\n",
              "  <div id=\"df-086a27bf-d9e5-4613-816e-5dc564cc863f\">\n",
              "    <div class=\"colab-df-container\">\n",
              "      <div>\n",
              "<style scoped>\n",
              "    .dataframe tbody tr th:only-of-type {\n",
              "        vertical-align: middle;\n",
              "    }\n",
              "\n",
              "    .dataframe tbody tr th {\n",
              "        vertical-align: top;\n",
              "    }\n",
              "\n",
              "    .dataframe thead th {\n",
              "        text-align: right;\n",
              "    }\n",
              "</style>\n",
              "<table border=\"1\" class=\"dataframe\">\n",
              "  <thead>\n",
              "    <tr style=\"text-align: right;\">\n",
              "      <th></th>\n",
              "      <th>USMER</th>\n",
              "      <th>MEDICAL_UNIT</th>\n",
              "      <th>SEX</th>\n",
              "      <th>PATIENT_TYPE</th>\n",
              "      <th>DATE_DIED</th>\n",
              "      <th>INTUBED</th>\n",
              "      <th>PNEUMONIA</th>\n",
              "      <th>AGE</th>\n",
              "      <th>PREGNANT</th>\n",
              "      <th>DIABETES</th>\n",
              "      <th>...</th>\n",
              "      <th>ASTHMA</th>\n",
              "      <th>INMSUPR</th>\n",
              "      <th>HIPERTENSION</th>\n",
              "      <th>OTHER_DISEASE</th>\n",
              "      <th>CARDIOVASCULAR</th>\n",
              "      <th>OBESITY</th>\n",
              "      <th>RENAL_CHRONIC</th>\n",
              "      <th>TOBACCO</th>\n",
              "      <th>CLASIFFICATION_FINAL</th>\n",
              "      <th>ICU</th>\n",
              "    </tr>\n",
              "  </thead>\n",
              "  <tbody>\n",
              "    <tr>\n",
              "      <th>0</th>\n",
              "      <td>2</td>\n",
              "      <td>1</td>\n",
              "      <td>1</td>\n",
              "      <td>1</td>\n",
              "      <td>03/05/2020</td>\n",
              "      <td>97</td>\n",
              "      <td>1</td>\n",
              "      <td>65</td>\n",
              "      <td>2</td>\n",
              "      <td>2</td>\n",
              "      <td>...</td>\n",
              "      <td>2</td>\n",
              "      <td>2</td>\n",
              "      <td>1</td>\n",
              "      <td>2</td>\n",
              "      <td>2</td>\n",
              "      <td>2</td>\n",
              "      <td>2</td>\n",
              "      <td>2</td>\n",
              "      <td>3</td>\n",
              "      <td>97</td>\n",
              "    </tr>\n",
              "    <tr>\n",
              "      <th>1</th>\n",
              "      <td>2</td>\n",
              "      <td>1</td>\n",
              "      <td>2</td>\n",
              "      <td>1</td>\n",
              "      <td>03/06/2020</td>\n",
              "      <td>97</td>\n",
              "      <td>1</td>\n",
              "      <td>72</td>\n",
              "      <td>97</td>\n",
              "      <td>2</td>\n",
              "      <td>...</td>\n",
              "      <td>2</td>\n",
              "      <td>2</td>\n",
              "      <td>1</td>\n",
              "      <td>2</td>\n",
              "      <td>2</td>\n",
              "      <td>1</td>\n",
              "      <td>1</td>\n",
              "      <td>2</td>\n",
              "      <td>5</td>\n",
              "      <td>97</td>\n",
              "    </tr>\n",
              "  </tbody>\n",
              "</table>\n",
              "<p>2 rows × 21 columns</p>\n",
              "</div>\n",
              "      <button class=\"colab-df-convert\" onclick=\"convertToInteractive('df-086a27bf-d9e5-4613-816e-5dc564cc863f')\"\n",
              "              title=\"Convert this dataframe to an interactive table.\"\n",
              "              style=\"display:none;\">\n",
              "        \n",
              "  <svg xmlns=\"http://www.w3.org/2000/svg\" height=\"24px\"viewBox=\"0 0 24 24\"\n",
              "       width=\"24px\">\n",
              "    <path d=\"M0 0h24v24H0V0z\" fill=\"none\"/>\n",
              "    <path d=\"M18.56 5.44l.94 2.06.94-2.06 2.06-.94-2.06-.94-.94-2.06-.94 2.06-2.06.94zm-11 1L8.5 8.5l.94-2.06 2.06-.94-2.06-.94L8.5 2.5l-.94 2.06-2.06.94zm10 10l.94 2.06.94-2.06 2.06-.94-2.06-.94-.94-2.06-.94 2.06-2.06.94z\"/><path d=\"M17.41 7.96l-1.37-1.37c-.4-.4-.92-.59-1.43-.59-.52 0-1.04.2-1.43.59L10.3 9.45l-7.72 7.72c-.78.78-.78 2.05 0 2.83L4 21.41c.39.39.9.59 1.41.59.51 0 1.02-.2 1.41-.59l7.78-7.78 2.81-2.81c.8-.78.8-2.07 0-2.86zM5.41 20L4 18.59l7.72-7.72 1.47 1.35L5.41 20z\"/>\n",
              "  </svg>\n",
              "      </button>\n",
              "      \n",
              "  <style>\n",
              "    .colab-df-container {\n",
              "      display:flex;\n",
              "      flex-wrap:wrap;\n",
              "      gap: 12px;\n",
              "    }\n",
              "\n",
              "    .colab-df-convert {\n",
              "      background-color: #E8F0FE;\n",
              "      border: none;\n",
              "      border-radius: 50%;\n",
              "      cursor: pointer;\n",
              "      display: none;\n",
              "      fill: #1967D2;\n",
              "      height: 32px;\n",
              "      padding: 0 0 0 0;\n",
              "      width: 32px;\n",
              "    }\n",
              "\n",
              "    .colab-df-convert:hover {\n",
              "      background-color: #E2EBFA;\n",
              "      box-shadow: 0px 1px 2px rgba(60, 64, 67, 0.3), 0px 1px 3px 1px rgba(60, 64, 67, 0.15);\n",
              "      fill: #174EA6;\n",
              "    }\n",
              "\n",
              "    [theme=dark] .colab-df-convert {\n",
              "      background-color: #3B4455;\n",
              "      fill: #D2E3FC;\n",
              "    }\n",
              "\n",
              "    [theme=dark] .colab-df-convert:hover {\n",
              "      background-color: #434B5C;\n",
              "      box-shadow: 0px 1px 3px 1px rgba(0, 0, 0, 0.15);\n",
              "      filter: drop-shadow(0px 1px 2px rgba(0, 0, 0, 0.3));\n",
              "      fill: #FFFFFF;\n",
              "    }\n",
              "  </style>\n",
              "\n",
              "      <script>\n",
              "        const buttonEl =\n",
              "          document.querySelector('#df-086a27bf-d9e5-4613-816e-5dc564cc863f button.colab-df-convert');\n",
              "        buttonEl.style.display =\n",
              "          google.colab.kernel.accessAllowed ? 'block' : 'none';\n",
              "\n",
              "        async function convertToInteractive(key) {\n",
              "          const element = document.querySelector('#df-086a27bf-d9e5-4613-816e-5dc564cc863f');\n",
              "          const dataTable =\n",
              "            await google.colab.kernel.invokeFunction('convertToInteractive',\n",
              "                                                     [key], {});\n",
              "          if (!dataTable) return;\n",
              "\n",
              "          const docLinkHtml = 'Like what you see? Visit the ' +\n",
              "            '<a target=\"_blank\" href=https://colab.research.google.com/notebooks/data_table.ipynb>data table notebook</a>'\n",
              "            + ' to learn more about interactive tables.';\n",
              "          element.innerHTML = '';\n",
              "          dataTable['output_type'] = 'display_data';\n",
              "          await google.colab.output.renderOutput(dataTable, element);\n",
              "          const docLink = document.createElement('div');\n",
              "          docLink.innerHTML = docLinkHtml;\n",
              "          element.appendChild(docLink);\n",
              "        }\n",
              "      </script>\n",
              "    </div>\n",
              "  </div>\n",
              "  "
            ]
          },
          "metadata": {},
          "execution_count": 5
        }
      ]
    },
    {
      "cell_type": "markdown",
      "source": [
        "## DATE_DIED --> MUERTE"
      ],
      "metadata": {
        "id": "Wqq-CTBPnEey"
      }
    },
    {
      "cell_type": "markdown",
      "source": [
        "Primero que nada vamos a visualizar y trabajar sobre nuestra variable principal que es la que usaremos como etiqueta."
      ],
      "metadata": {
        "id": "aNv-iwnwnQO1"
      }
    },
    {
      "cell_type": "markdown",
      "source": [
        "DATE_DIED es una variable que contiene las fechas de muerte de las personas registradas en la base de datos con formato dd/mm/aaaa y en caso de no coresponder la fecha de muerte porque el pasiente no murio, el dato sera \"9999-99-99\"."
      ],
      "metadata": {
        "id": "l5j707KCpnyb"
      }
    },
    {
      "cell_type": "code",
      "source": [
        "df[\"DATE_DIED\"][:10:2]"
      ],
      "metadata": {
        "id": "ptixTpmNp5ny",
        "colab": {
          "base_uri": "https://localhost:8080/"
        },
        "outputId": "ce7b15ce-6f56-490a-b08e-e6ee91eae599"
      },
      "execution_count": 6,
      "outputs": [
        {
          "output_type": "execute_result",
          "data": {
            "text/plain": [
              "0    03/05/2020\n",
              "2    09/06/2020\n",
              "4    21/06/2020\n",
              "6    9999-99-99\n",
              "8    9999-99-99\n",
              "Name: DATE_DIED, dtype: object"
            ]
          },
          "metadata": {},
          "execution_count": 6
        }
      ]
    },
    {
      "cell_type": "code",
      "source": [
        "nm = len(df.loc[(df[\"DATE_DIED\"] != \"9999-99-99\"), \"DATE_DIED\"])\n",
        "ns = len(df.loc[(df[\"DATE_DIED\"] == \"9999-99-99\"), \"DATE_DIED\"])\n",
        "print(\"Numero de fechas de muertes: \",nm)\n",
        "print(\"Numero de sobrevivientes: \",ns)\n",
        "print(\"Total: \",nm+ns)"
      ],
      "metadata": {
        "id": "gpJFVZadVtIA",
        "colab": {
          "base_uri": "https://localhost:8080/"
        },
        "outputId": "68e32eba-c023-431c-fa1b-58becbd4160e"
      },
      "execution_count": 7,
      "outputs": [
        {
          "output_type": "stream",
          "name": "stdout",
          "text": [
            "Numero de fechas de muertes:  76942\n",
            "Numero de sobrevivientes:  971633\n",
            "Total:  1048575\n"
          ]
        }
      ]
    },
    {
      "cell_type": "markdown",
      "source": [
        "El dato de la fecha de muerte en si no nos interesa como tal, sino nos interesa saber si murio o no el pasiente por lo tanto vamos a reclasificar el dato simplificandolo a un simple dato booleano donde 1 significa muerto y o significa vivo."
      ],
      "metadata": {
        "id": "JKawcYLzs1e1"
      }
    },
    {
      "cell_type": "code",
      "source": [
        "df.loc[(df[\"DATE_DIED\"] == \"9999-99-99\"), \"MUERTE\"] = 0 # El valor indicara la supervivencia\n",
        "df.loc[(df[\"DATE_DIED\"] != \"9999-99-99\"), \"MUERTE\"] = 1 # El valor indicara la muerte\n",
        "df = df.drop([\"DATE_DIED\"], axis=\"columns\")\n",
        "df.head(2)"
      ],
      "metadata": {
        "id": "o-1qjBkcks7I",
        "colab": {
          "base_uri": "https://localhost:8080/",
          "height": 0
        },
        "outputId": "1242f320-43bf-42a0-afbb-29e4055ac24c"
      },
      "execution_count": 8,
      "outputs": [
        {
          "output_type": "execute_result",
          "data": {
            "text/plain": [
              "   USMER  MEDICAL_UNIT  SEX  PATIENT_TYPE  INTUBED  PNEUMONIA  AGE  PREGNANT  \\\n",
              "0      2             1    1             1       97          1   65         2   \n",
              "1      2             1    2             1       97          1   72        97   \n",
              "\n",
              "   DIABETES  COPD  ...  INMSUPR  HIPERTENSION  OTHER_DISEASE  CARDIOVASCULAR  \\\n",
              "0         2     2  ...        2             1              2               2   \n",
              "1         2     2  ...        2             1              2               2   \n",
              "\n",
              "   OBESITY  RENAL_CHRONIC  TOBACCO  CLASIFFICATION_FINAL  ICU  MUERTE  \n",
              "0        2              2        2                     3   97     1.0  \n",
              "1        1              1        2                     5   97     1.0  \n",
              "\n",
              "[2 rows x 21 columns]"
            ],
            "text/html": [
              "\n",
              "  <div id=\"df-874a863f-6e47-49d4-abb1-0d3c459c5a5a\">\n",
              "    <div class=\"colab-df-container\">\n",
              "      <div>\n",
              "<style scoped>\n",
              "    .dataframe tbody tr th:only-of-type {\n",
              "        vertical-align: middle;\n",
              "    }\n",
              "\n",
              "    .dataframe tbody tr th {\n",
              "        vertical-align: top;\n",
              "    }\n",
              "\n",
              "    .dataframe thead th {\n",
              "        text-align: right;\n",
              "    }\n",
              "</style>\n",
              "<table border=\"1\" class=\"dataframe\">\n",
              "  <thead>\n",
              "    <tr style=\"text-align: right;\">\n",
              "      <th></th>\n",
              "      <th>USMER</th>\n",
              "      <th>MEDICAL_UNIT</th>\n",
              "      <th>SEX</th>\n",
              "      <th>PATIENT_TYPE</th>\n",
              "      <th>INTUBED</th>\n",
              "      <th>PNEUMONIA</th>\n",
              "      <th>AGE</th>\n",
              "      <th>PREGNANT</th>\n",
              "      <th>DIABETES</th>\n",
              "      <th>COPD</th>\n",
              "      <th>...</th>\n",
              "      <th>INMSUPR</th>\n",
              "      <th>HIPERTENSION</th>\n",
              "      <th>OTHER_DISEASE</th>\n",
              "      <th>CARDIOVASCULAR</th>\n",
              "      <th>OBESITY</th>\n",
              "      <th>RENAL_CHRONIC</th>\n",
              "      <th>TOBACCO</th>\n",
              "      <th>CLASIFFICATION_FINAL</th>\n",
              "      <th>ICU</th>\n",
              "      <th>MUERTE</th>\n",
              "    </tr>\n",
              "  </thead>\n",
              "  <tbody>\n",
              "    <tr>\n",
              "      <th>0</th>\n",
              "      <td>2</td>\n",
              "      <td>1</td>\n",
              "      <td>1</td>\n",
              "      <td>1</td>\n",
              "      <td>97</td>\n",
              "      <td>1</td>\n",
              "      <td>65</td>\n",
              "      <td>2</td>\n",
              "      <td>2</td>\n",
              "      <td>2</td>\n",
              "      <td>...</td>\n",
              "      <td>2</td>\n",
              "      <td>1</td>\n",
              "      <td>2</td>\n",
              "      <td>2</td>\n",
              "      <td>2</td>\n",
              "      <td>2</td>\n",
              "      <td>2</td>\n",
              "      <td>3</td>\n",
              "      <td>97</td>\n",
              "      <td>1.0</td>\n",
              "    </tr>\n",
              "    <tr>\n",
              "      <th>1</th>\n",
              "      <td>2</td>\n",
              "      <td>1</td>\n",
              "      <td>2</td>\n",
              "      <td>1</td>\n",
              "      <td>97</td>\n",
              "      <td>1</td>\n",
              "      <td>72</td>\n",
              "      <td>97</td>\n",
              "      <td>2</td>\n",
              "      <td>2</td>\n",
              "      <td>...</td>\n",
              "      <td>2</td>\n",
              "      <td>1</td>\n",
              "      <td>2</td>\n",
              "      <td>2</td>\n",
              "      <td>1</td>\n",
              "      <td>1</td>\n",
              "      <td>2</td>\n",
              "      <td>5</td>\n",
              "      <td>97</td>\n",
              "      <td>1.0</td>\n",
              "    </tr>\n",
              "  </tbody>\n",
              "</table>\n",
              "<p>2 rows × 21 columns</p>\n",
              "</div>\n",
              "      <button class=\"colab-df-convert\" onclick=\"convertToInteractive('df-874a863f-6e47-49d4-abb1-0d3c459c5a5a')\"\n",
              "              title=\"Convert this dataframe to an interactive table.\"\n",
              "              style=\"display:none;\">\n",
              "        \n",
              "  <svg xmlns=\"http://www.w3.org/2000/svg\" height=\"24px\"viewBox=\"0 0 24 24\"\n",
              "       width=\"24px\">\n",
              "    <path d=\"M0 0h24v24H0V0z\" fill=\"none\"/>\n",
              "    <path d=\"M18.56 5.44l.94 2.06.94-2.06 2.06-.94-2.06-.94-.94-2.06-.94 2.06-2.06.94zm-11 1L8.5 8.5l.94-2.06 2.06-.94-2.06-.94L8.5 2.5l-.94 2.06-2.06.94zm10 10l.94 2.06.94-2.06 2.06-.94-2.06-.94-.94-2.06-.94 2.06-2.06.94z\"/><path d=\"M17.41 7.96l-1.37-1.37c-.4-.4-.92-.59-1.43-.59-.52 0-1.04.2-1.43.59L10.3 9.45l-7.72 7.72c-.78.78-.78 2.05 0 2.83L4 21.41c.39.39.9.59 1.41.59.51 0 1.02-.2 1.41-.59l7.78-7.78 2.81-2.81c.8-.78.8-2.07 0-2.86zM5.41 20L4 18.59l7.72-7.72 1.47 1.35L5.41 20z\"/>\n",
              "  </svg>\n",
              "      </button>\n",
              "      \n",
              "  <style>\n",
              "    .colab-df-container {\n",
              "      display:flex;\n",
              "      flex-wrap:wrap;\n",
              "      gap: 12px;\n",
              "    }\n",
              "\n",
              "    .colab-df-convert {\n",
              "      background-color: #E8F0FE;\n",
              "      border: none;\n",
              "      border-radius: 50%;\n",
              "      cursor: pointer;\n",
              "      display: none;\n",
              "      fill: #1967D2;\n",
              "      height: 32px;\n",
              "      padding: 0 0 0 0;\n",
              "      width: 32px;\n",
              "    }\n",
              "\n",
              "    .colab-df-convert:hover {\n",
              "      background-color: #E2EBFA;\n",
              "      box-shadow: 0px 1px 2px rgba(60, 64, 67, 0.3), 0px 1px 3px 1px rgba(60, 64, 67, 0.15);\n",
              "      fill: #174EA6;\n",
              "    }\n",
              "\n",
              "    [theme=dark] .colab-df-convert {\n",
              "      background-color: #3B4455;\n",
              "      fill: #D2E3FC;\n",
              "    }\n",
              "\n",
              "    [theme=dark] .colab-df-convert:hover {\n",
              "      background-color: #434B5C;\n",
              "      box-shadow: 0px 1px 3px 1px rgba(0, 0, 0, 0.15);\n",
              "      filter: drop-shadow(0px 1px 2px rgba(0, 0, 0, 0.3));\n",
              "      fill: #FFFFFF;\n",
              "    }\n",
              "  </style>\n",
              "\n",
              "      <script>\n",
              "        const buttonEl =\n",
              "          document.querySelector('#df-874a863f-6e47-49d4-abb1-0d3c459c5a5a button.colab-df-convert');\n",
              "        buttonEl.style.display =\n",
              "          google.colab.kernel.accessAllowed ? 'block' : 'none';\n",
              "\n",
              "        async function convertToInteractive(key) {\n",
              "          const element = document.querySelector('#df-874a863f-6e47-49d4-abb1-0d3c459c5a5a');\n",
              "          const dataTable =\n",
              "            await google.colab.kernel.invokeFunction('convertToInteractive',\n",
              "                                                     [key], {});\n",
              "          if (!dataTable) return;\n",
              "\n",
              "          const docLinkHtml = 'Like what you see? Visit the ' +\n",
              "            '<a target=\"_blank\" href=https://colab.research.google.com/notebooks/data_table.ipynb>data table notebook</a>'\n",
              "            + ' to learn more about interactive tables.';\n",
              "          element.innerHTML = '';\n",
              "          dataTable['output_type'] = 'display_data';\n",
              "          await google.colab.output.renderOutput(dataTable, element);\n",
              "          const docLink = document.createElement('div');\n",
              "          docLink.innerHTML = docLinkHtml;\n",
              "          element.appendChild(docLink);\n",
              "        }\n",
              "      </script>\n",
              "    </div>\n",
              "  </div>\n",
              "  "
            ]
          },
          "metadata": {},
          "execution_count": 8
        }
      ]
    },
    {
      "cell_type": "markdown",
      "source": [
        "## USMER"
      ],
      "metadata": {
        "id": "nNpE86acu3jr"
      }
    },
    {
      "cell_type": "markdown",
      "source": [
        "USMER es una variable que indica si el paciente fue tratado por unidades medicas de primer, segundo o tercer nivel."
      ],
      "metadata": {
        "id": "uX6XWYgFwFKf"
      }
    },
    {
      "cell_type": "code",
      "source": [
        "df[\"USMER\"].value_counts()"
      ],
      "metadata": {
        "id": "QcG7DjTbwYq0",
        "colab": {
          "base_uri": "https://localhost:8080/"
        },
        "outputId": "b2796a05-bda2-4e8b-92bd-0efb74934fa4"
      },
      "execution_count": 9,
      "outputs": [
        {
          "output_type": "execute_result",
          "data": {
            "text/plain": [
              "2    662903\n",
              "1    385672\n",
              "Name: USMER, dtype: int64"
            ]
          },
          "metadata": {},
          "execution_count": 9
        }
      ]
    },
    {
      "cell_type": "markdown",
      "source": [
        "Al parecer la variable no contiene registros de pasientes que sean atendidos en UM del tercer nivel, como tampoco contiene unidades nulas o no registradas."
      ],
      "metadata": {
        "id": "-KMO0ayMw8Eq"
      }
    },
    {
      "cell_type": "markdown",
      "source": [
        "Por conveniencia matemática, transformare el atributo en un booleano de 1 para los pacientes tratados en unidades medicas de primera categoria y 0 para los demás."
      ],
      "metadata": {
        "id": "PLxxtn-KxXb1"
      }
    },
    {
      "cell_type": "code",
      "source": [
        "df.loc[(df[\"USMER\"] == 2), \"USMER\"] = 0\n",
        "df[\"USMER\"].value_counts()"
      ],
      "metadata": {
        "id": "DFtoXaUoyD6G",
        "colab": {
          "base_uri": "https://localhost:8080/"
        },
        "outputId": "2ac0ea2b-0149-4d39-da1c-baa17a18788d"
      },
      "execution_count": 10,
      "outputs": [
        {
          "output_type": "execute_result",
          "data": {
            "text/plain": [
              "0    662903\n",
              "1    385672\n",
              "Name: USMER, dtype: int64"
            ]
          },
          "metadata": {},
          "execution_count": 10
        }
      ]
    },
    {
      "cell_type": "markdown",
      "source": [
        "##MEDICAL_UNIT --> MU4 , MU12"
      ],
      "metadata": {
        "id": "C7jHb6WGyncb"
      }
    },
    {
      "cell_type": "markdown",
      "source": [
        "\n",
        "MEDICAL_UNIT es el tipo de institución del Sistema Nacional de Salud que brindó la atención."
      ],
      "metadata": {
        "id": "F04-inBUy2o7"
      }
    },
    {
      "cell_type": "code",
      "source": [
        "df['MEDICAL_UNIT'].value_counts()"
      ],
      "metadata": {
        "id": "2C21t8Mgy_vr",
        "colab": {
          "base_uri": "https://localhost:8080/"
        },
        "outputId": "036dd09f-81de-4e81-e746-153d4896297d"
      },
      "execution_count": 11,
      "outputs": [
        {
          "output_type": "execute_result",
          "data": {
            "text/plain": [
              "12    602995\n",
              "4     314405\n",
              "6      40584\n",
              "9      38116\n",
              "3      19175\n",
              "8      10399\n",
              "10      7873\n",
              "5       7244\n",
              "11      5577\n",
              "13       996\n",
              "7        891\n",
              "2        169\n",
              "1        151\n",
              "Name: MEDICAL_UNIT, dtype: int64"
            ]
          },
          "metadata": {},
          "execution_count": 11
        }
      ]
    },
    {
      "cell_type": "markdown",
      "source": [
        "Podemos notar que esta variable es clasificatoria pero esta expresada como variable numerica, lo que refleja una falsa idea de proporcionalidad. Vamos a transformarla en varias variables de clasificación booleana pero antes vamos a definir un criterio clasificatorio."
      ],
      "metadata": {
        "id": "tXt8ZGKI0fzE"
      }
    },
    {
      "cell_type": "code",
      "source": [
        "round(df['MEDICAL_UNIT'].value_counts(normalize=True)*100,2)"
      ],
      "metadata": {
        "id": "PFZEA1wZ0A0h",
        "colab": {
          "base_uri": "https://localhost:8080/"
        },
        "outputId": "2e61fa03-cdcf-4db7-a549-0f58028921d6"
      },
      "execution_count": 12,
      "outputs": [
        {
          "output_type": "execute_result",
          "data": {
            "text/plain": [
              "12    57.51\n",
              "4     29.98\n",
              "6      3.87\n",
              "9      3.64\n",
              "3      1.83\n",
              "8      0.99\n",
              "10     0.75\n",
              "5      0.69\n",
              "11     0.53\n",
              "13     0.09\n",
              "7      0.08\n",
              "2      0.02\n",
              "1      0.01\n",
              "Name: MEDICAL_UNIT, dtype: float64"
            ]
          },
          "metadata": {},
          "execution_count": 12
        }
      ]
    },
    {
      "cell_type": "markdown",
      "source": [
        "Las Unidades medicas de tipo 12 y 4 son las mas populares por lo que separaremos esas de las demás en dos variables nuevas MU4 y MU12 con valores booleanos."
      ],
      "metadata": {
        "id": "-YitwJ4f1XNU"
      }
    },
    {
      "cell_type": "code",
      "source": [
        "df.loc[(df[\"MEDICAL_UNIT\"] == 4), \"MU4\"] = 1\n",
        "df.loc[(df[\"MEDICAL_UNIT\"] != 4), \"MU4\"] = 0\n",
        "df.loc[(df[\"MEDICAL_UNIT\"] == 12), \"MU12\"] = 1\n",
        "df.loc[(df[\"MEDICAL_UNIT\"] != 12), \"MU12\"] = 0\n",
        "df = df.drop([\"MEDICAL_UNIT\"], axis=\"columns\")"
      ],
      "metadata": {
        "id": "P8J7dA_s1u5h"
      },
      "execution_count": 13,
      "outputs": []
    },
    {
      "cell_type": "markdown",
      "source": [
        "##SEX"
      ],
      "metadata": {
        "id": "zohBGTQQ2tzZ"
      }
    },
    {
      "cell_type": "markdown",
      "source": [
        "SEX es la variable que discrimina en 1 si es Femenino y 2 si es masculino."
      ],
      "metadata": {
        "id": "lZHcSURh2yCB"
      }
    },
    {
      "cell_type": "code",
      "source": [
        "df['SEX'].value_counts()"
      ],
      "metadata": {
        "id": "nl1T6ejN37NY",
        "colab": {
          "base_uri": "https://localhost:8080/"
        },
        "outputId": "47a94925-b816-4a99-836e-0c8f06b2efe2"
      },
      "execution_count": 14,
      "outputs": [
        {
          "output_type": "execute_result",
          "data": {
            "text/plain": [
              "1    525064\n",
              "2    523511\n",
              "Name: SEX, dtype: int64"
            ]
          },
          "metadata": {},
          "execution_count": 14
        }
      ]
    },
    {
      "cell_type": "markdown",
      "source": [
        "Se puede observar que la variable es bastante pareja y no contiene nulos ni faltantes."
      ],
      "metadata": {
        "id": "l3FeSCXX4cCZ"
      }
    },
    {
      "cell_type": "markdown",
      "source": [
        "Para esta variable aplicaremos el mismo criterio que en el caso anterior de trasformarlo en variable booleana para lo cual sera 1 para femenino y 0 para masculino (no femenino)."
      ],
      "metadata": {
        "id": "iED9gCfN3U8h"
      }
    },
    {
      "cell_type": "code",
      "source": [
        "df.loc[(df[\"SEX\"] == 2), \"SEX\"] = 0"
      ],
      "metadata": {
        "id": "hfx-u4HF4RHZ"
      },
      "execution_count": 15,
      "outputs": []
    },
    {
      "cell_type": "markdown",
      "source": [
        "##PATIENT_TYPE --> HOSP"
      ],
      "metadata": {
        "id": "zX9XPmD546KU"
      }
    },
    {
      "cell_type": "markdown",
      "source": [
        "PATIENT_TYPE es la variable que indica tipo de atención que recibió el paciente en la unidad donde 1 indica regreso a casa y 2 hospitalización."
      ],
      "metadata": {
        "id": "9cwK7NTZ5Vf8"
      }
    },
    {
      "cell_type": "code",
      "source": [
        "df[\"PATIENT_TYPE\"].value_counts()"
      ],
      "metadata": {
        "id": "NGsYf5iR4-sM",
        "colab": {
          "base_uri": "https://localhost:8080/"
        },
        "outputId": "85835dd5-0920-4474-842d-149afc4b9fc8"
      },
      "execution_count": 16,
      "outputs": [
        {
          "output_type": "execute_result",
          "data": {
            "text/plain": [
              "1    848544\n",
              "2    200031\n",
              "Name: PATIENT_TYPE, dtype: int64"
            ]
          },
          "metadata": {},
          "execution_count": 16
        }
      ]
    },
    {
      "cell_type": "markdown",
      "source": [
        "Se observa que no hay nulos ni fallos de registro y se nota que las dos variables son del mismo orden (una es aproximadamente 4 veces la otra)."
      ],
      "metadata": {
        "id": "UJwZCORt5k0a"
      }
    },
    {
      "cell_type": "markdown",
      "source": [
        "Transformaremos la variable PATIENT_TYPE en HOSP variable en una que indique hospitalizacion si o no. Donde 1 es si y 0 es no."
      ],
      "metadata": {
        "id": "norxvJLw59QJ"
      }
    },
    {
      "cell_type": "code",
      "source": [
        "df.rename(columns={'PATIENT_TYPE':'HOSP'},inplace=True)\n",
        "df.columns"
      ],
      "metadata": {
        "id": "Wbb2HA4K7Od5",
        "colab": {
          "base_uri": "https://localhost:8080/"
        },
        "outputId": "76bc28f4-320d-43a6-980b-1cd5abcd39f2"
      },
      "execution_count": 17,
      "outputs": [
        {
          "output_type": "execute_result",
          "data": {
            "text/plain": [
              "Index(['USMER', 'SEX', 'HOSP', 'INTUBED', 'PNEUMONIA', 'AGE', 'PREGNANT',\n",
              "       'DIABETES', 'COPD', 'ASTHMA', 'INMSUPR', 'HIPERTENSION',\n",
              "       'OTHER_DISEASE', 'CARDIOVASCULAR', 'OBESITY', 'RENAL_CHRONIC',\n",
              "       'TOBACCO', 'CLASIFFICATION_FINAL', 'ICU', 'MUERTE', 'MU4', 'MU12'],\n",
              "      dtype='object')"
            ]
          },
          "metadata": {},
          "execution_count": 17
        }
      ]
    },
    {
      "cell_type": "code",
      "source": [
        "df.loc[(df[\"HOSP\"] == 1), \"HOSP\"] = 0 # El 1 indicaba que fue enviado al domicilio\n",
        "df.loc[(df[\"HOSP\"] == 2), \"HOSP\"] = 1 # El 2 indicaba que fue hospitalizado"
      ],
      "metadata": {
        "id": "Z-2WF_Ri8I2Z"
      },
      "execution_count": 18,
      "outputs": []
    },
    {
      "cell_type": "markdown",
      "source": [
        "##INTUBED --> X (eliminada)"
      ],
      "metadata": {
        "id": "pS47CHEuA0CT"
      }
    },
    {
      "cell_type": "markdown",
      "source": [
        "INTUBED indica si el paciente estaba conectado al ventilador."
      ],
      "metadata": {
        "id": "9QABn7GnA7Cn"
      }
    },
    {
      "cell_type": "code",
      "source": [
        "df[\"INTUBED\"].value_counts()"
      ],
      "metadata": {
        "id": "b6MTh-64BTqm",
        "colab": {
          "base_uri": "https://localhost:8080/"
        },
        "outputId": "a59be073-f53b-468c-db77-206847bf09b2"
      },
      "execution_count": 19,
      "outputs": [
        {
          "output_type": "execute_result",
          "data": {
            "text/plain": [
              "97    848544\n",
              "2     159050\n",
              "1      33656\n",
              "99      7325\n",
              "Name: INTUBED, dtype: int64"
            ]
          },
          "metadata": {},
          "execution_count": 19
        }
      ]
    },
    {
      "cell_type": "code",
      "source": [
        "round(df[\"INTUBED\"].value_counts(normalize=True)*100,2)"
      ],
      "metadata": {
        "id": "S-pK2JSaBf6d",
        "colab": {
          "base_uri": "https://localhost:8080/"
        },
        "outputId": "0e73c27d-b15e-4217-8e75-c25116a1e992"
      },
      "execution_count": 20,
      "outputs": [
        {
          "output_type": "execute_result",
          "data": {
            "text/plain": [
              "97    80.92\n",
              "2     15.17\n",
              "1      3.21\n",
              "99     0.70\n",
              "Name: INTUBED, dtype: float64"
            ]
          },
          "metadata": {},
          "execution_count": 20
        }
      ]
    },
    {
      "cell_type": "markdown",
      "source": [
        "Se puede notar que en esta variable el 81% esta conformado por datos faltantes por lo cual no resulta viable y debemos eliminarla."
      ],
      "metadata": {
        "id": "ZNYs3MYmCgVM"
      }
    },
    {
      "cell_type": "code",
      "source": [
        "df.drop([\"INTUBED\"], axis=\"columns\", inplace=True)"
      ],
      "metadata": {
        "id": "t2xqucmWC5uV"
      },
      "execution_count": 21,
      "outputs": []
    },
    {
      "cell_type": "markdown",
      "source": [
        "##PNEUMONIA"
      ],
      "metadata": {
        "id": "w19ji2LdDLNy"
      }
    },
    {
      "cell_type": "markdown",
      "source": [
        "PNEUMONIA es una variable que indica si el paciente ya tiene inflamación de los alvéolos o no."
      ],
      "metadata": {
        "id": "WOjyT2HkDYEl"
      }
    },
    {
      "cell_type": "code",
      "source": [
        "df['PNEUMONIA'].value_counts()"
      ],
      "metadata": {
        "id": "r9C6x4oEDdyb",
        "colab": {
          "base_uri": "https://localhost:8080/"
        },
        "outputId": "7f805ab2-7e4b-4571-cd41-9270c0b1c40d"
      },
      "execution_count": 22,
      "outputs": [
        {
          "output_type": "execute_result",
          "data": {
            "text/plain": [
              "2     892534\n",
              "1     140038\n",
              "99     16003\n",
              "Name: PNEUMONIA, dtype: int64"
            ]
          },
          "metadata": {},
          "execution_count": 22
        }
      ]
    },
    {
      "cell_type": "code",
      "source": [
        "round(df[\"PNEUMONIA\"].value_counts(normalize=True)*100,2)"
      ],
      "metadata": {
        "id": "MZzxejLZDoRF",
        "colab": {
          "base_uri": "https://localhost:8080/"
        },
        "outputId": "7d559d8e-18e6-4519-94db-cac2fea3f9d3"
      },
      "execution_count": 23,
      "outputs": [
        {
          "output_type": "execute_result",
          "data": {
            "text/plain": [
              "2     85.12\n",
              "1     13.36\n",
              "99     1.53\n",
              "Name: PNEUMONIA, dtype: float64"
            ]
          },
          "metadata": {},
          "execution_count": 23
        }
      ]
    },
    {
      "cell_type": "markdown",
      "source": [
        "En el caso de esta variable. Los registros faltantes comprenden un 1.53% por lo cual podemos eliminarlos Teniendo en cuenta que la cantidad de registros esta por encima del millon."
      ],
      "metadata": {
        "id": "pVHR0-zzD6R3"
      }
    },
    {
      "cell_type": "code",
      "source": [
        "df.drop(df.loc[(df[\"PNEUMONIA\"] == 99)].index, axis=0, inplace=True)\n",
        "df['PNEUMONIA'].value_counts()"
      ],
      "metadata": {
        "id": "B3ELWLiaERl1",
        "colab": {
          "base_uri": "https://localhost:8080/"
        },
        "outputId": "cd270fb4-2ee3-46ee-c668-896484b856a2"
      },
      "execution_count": 24,
      "outputs": [
        {
          "output_type": "execute_result",
          "data": {
            "text/plain": [
              "2    892534\n",
              "1    140038\n",
              "Name: PNEUMONIA, dtype: int64"
            ]
          },
          "metadata": {},
          "execution_count": 24
        }
      ]
    },
    {
      "cell_type": "markdown",
      "source": [
        "##AGE"
      ],
      "metadata": {
        "id": "gcLysWeXK8km"
      }
    },
    {
      "cell_type": "markdown",
      "source": [
        "AGE es la variable que registra la edad de los pacientes"
      ],
      "metadata": {
        "id": "lHZdMXf5LCqZ"
      }
    },
    {
      "cell_type": "code",
      "source": [
        "df.loc[(df[\"AGE\"] > 120)][\"AGE\"].count()"
      ],
      "metadata": {
        "id": "t-0SyrrOMc3D",
        "colab": {
          "base_uri": "https://localhost:8080/"
        },
        "outputId": "14e8cce4-c2d2-4a39-9e0c-1f94b5bbf17f"
      },
      "execution_count": 25,
      "outputs": [
        {
          "output_type": "execute_result",
          "data": {
            "text/plain": [
              "1"
            ]
          },
          "metadata": {},
          "execution_count": 25
        }
      ]
    },
    {
      "cell_type": "code",
      "source": [
        "sns.distplot(df['AGE']);"
      ],
      "metadata": {
        "id": "wQ9SmBRMMOUK",
        "colab": {
          "base_uri": "https://localhost:8080/",
          "height": 0
        },
        "outputId": "f70ed29f-2191-4b7a-b2b1-ac726ff12020"
      },
      "execution_count": 26,
      "outputs": [
        {
          "output_type": "stream",
          "name": "stderr",
          "text": [
            "<ipython-input-26-543ed4bfbabb>:1: UserWarning: \n",
            "\n",
            "`distplot` is a deprecated function and will be removed in seaborn v0.14.0.\n",
            "\n",
            "Please adapt your code to use either `displot` (a figure-level function with\n",
            "similar flexibility) or `histplot` (an axes-level function for histograms).\n",
            "\n",
            "For a guide to updating your code to use the new functions, please see\n",
            "https://gist.github.com/mwaskom/de44147ed2974457ad6372750bbe5751\n",
            "\n",
            "  sns.distplot(df['AGE']);\n"
          ]
        },
        {
          "output_type": "display_data",
          "data": {
            "text/plain": [
              "<Figure size 640x480 with 1 Axes>"
            ],
            "image/png": "[encoded data removed]"
          },
          "metadata": {}
        }
      ]
    },
    {
      "cell_type": "markdown",
      "source": [
        "Por el momento se puede ver en primera instancia que los valores de distribucion no aparentan tener valores muy atipicos aunque posiblemente se deba restringir el intervalo de confianza aunque eso lo dejaremos para trabajo posterior."
      ],
      "metadata": {
        "id": "C7elHcF2OtIh"
      }
    },
    {
      "cell_type": "markdown",
      "source": [
        "##PREGNANT --> X (Eliminada)"
      ],
      "metadata": {
        "id": "dfT4r_V7u8qw"
      }
    },
    {
      "cell_type": "markdown",
      "source": [
        "PREGNANT es la variable que indica la situacion de embarazo. Indicando con 1 si esta embarazada, 2 si no lo esta, 97 si es hombre y 98 si es mujer pero no se registra embarazo (informacion perdida)."
      ],
      "metadata": {
        "id": "tiurRcNkPSwx"
      }
    },
    {
      "cell_type": "code",
      "source": [
        "\n",
        "df.loc[(df[\"PREGNANT\"] == 1), \"PREGNANT\"] = \"EMBARAZADA\"\n",
        "df.loc[(df[\"PREGNANT\"] == 2), \"PREGNANT\"] = \"NO EMBARAZADA\"\n",
        "df.loc[(df[\"PREGNANT\"] == 97), \"PREGNANT\"] = \"HOMBRE\"\n",
        "df.loc[(df[\"PREGNANT\"] == 98), \"PREGNANT\"] = \"MUJER S/R\""
      ],
      "metadata": {
        "id": "lEGObxHUd5Yc"
      },
      "execution_count": 27,
      "outputs": []
    },
    {
      "cell_type": "markdown",
      "source": [
        "Para comenzar analizaremos la variable de embarazo para ver su significancia en los casos y entender si la misma tiene o no importancia al momento de determinar los casos de muerte."
      ],
      "metadata": {
        "id": "tgeK7GCCvBec"
      }
    },
    {
      "cell_type": "code",
      "source": [
        "freq = df.groupby([\"PREGNANT\"])[\"PREGNANT\"].count()\n",
        "freq"
      ],
      "metadata": {
        "id": "utDc4QSGP4lQ",
        "colab": {
          "base_uri": "https://localhost:8080/"
        },
        "outputId": "380892f7-1624-4db3-ddac-2d066021fb84"
      },
      "execution_count": 28,
      "outputs": [
        {
          "output_type": "execute_result",
          "data": {
            "text/plain": [
              "PREGNANT\n",
              "EMBARAZADA         7870\n",
              "HOMBRE           516154\n",
              "MUJER S/R          3389\n",
              "NO EMBARAZADA    505159\n",
              "Name: PREGNANT, dtype: int64"
            ]
          },
          "metadata": {},
          "execution_count": 28
        }
      ]
    },
    {
      "cell_type": "code",
      "source": [
        "round(df[\"PREGNANT\"].value_counts(normalize=True)*100,2)"
      ],
      "metadata": {
        "id": "ox6razgxRMxF",
        "colab": {
          "base_uri": "https://localhost:8080/"
        },
        "outputId": "cc037a32-5d11-4584-9dce-b04e10092495"
      },
      "execution_count": 29,
      "outputs": [
        {
          "output_type": "execute_result",
          "data": {
            "text/plain": [
              "HOMBRE           49.99\n",
              "NO EMBARAZADA    48.92\n",
              "EMBARAZADA        0.76\n",
              "MUJER S/R         0.33\n",
              "Name: PREGNANT, dtype: float64"
            ]
          },
          "metadata": {},
          "execution_count": 29
        }
      ]
    },
    {
      "cell_type": "code",
      "source": [
        "fig, ax = plt.subplots(figsize=(15,6))\n",
        "ax.set_title(\"Tabla de Frecuencias de Embarazo\")\n",
        "ax.set_xlabel(\"Clasificación\")\n",
        "ax.set_ylabel(\"Cantidad de Personas\")\n",
        "ax.bar (freq.index[:],freq.values)# X lista de columnas e Y las frecuencias acumuladas de X"
      ],
      "metadata": {
        "id": "k74Tua7ZQWz3",
        "colab": {
          "base_uri": "https://localhost:8080/",
          "height": 0
        },
        "outputId": "211a962e-4668-4bfe-9b0f-5d2b3590cd21"
      },
      "execution_count": 30,
      "outputs": [
        {
          "output_type": "execute_result",
          "data": {
            "text/plain": [
              "<BarContainer object of 4 artists>"
            ]
          },
          "metadata": {},
          "execution_count": 30
        },
        {
          "output_type": "display_data",
          "data": {
            "text/plain": [
              "<Figure size 1500x600 with 1 Axes>"
            ],
            "image/png": "[encoded data removed]"
          },
          "metadata": {}
        }
      ]
    },
    {
      "cell_type": "markdown",
      "source": [
        "<h3>Del gráfico podemos sacar las siguientes concluciones:</h3>\n",
        "<base>&nbsp;&nbsp;La población de mujeres embarazadas es casi insignificante y a su vez comparable a la cantidad de mujeres que no pudieron ser catalogadas.<br>\n",
        "&nbsp;&nbsp;Al no saber la naturaleza de porque no pudieron ser catalogadas no podemos suponer que probabilidad hay de que sean embarazadas o no por lo tanto podriamos esperar que sean todas \"embarazadas\" o que sean todas \"no embarazadas\".<br>\n",
        "&nbsp;&nbsp;Es por esto que la variable no tiene cantidad de datos relevantes para que nos sea de utilidad y por ende la misma debe ser eliminada.\n",
        "<base>"
      ],
      "metadata": {
        "id": "VXzTYIc3mxZ_"
      }
    },
    {
      "cell_type": "code",
      "source": [
        "df.drop([\"PREGNANT\"], axis=\"columns\", inplace=True)"
      ],
      "metadata": {
        "id": "w3M8PZQbR8Gn"
      },
      "execution_count": 31,
      "outputs": []
    },
    {
      "cell_type": "markdown",
      "source": [
        "##DIABETES"
      ],
      "metadata": {
        "id": "mFXWihLsSQ1s"
      }
    },
    {
      "cell_type": "markdown",
      "source": [
        "DIABETES es la variable que indica cuando el paciente tien o no diabetes."
      ],
      "metadata": {
        "id": "J-xHIWb1SS3R"
      }
    },
    {
      "cell_type": "code",
      "source": [
        "df[\"DIABETES\"].value_counts()"
      ],
      "metadata": {
        "id": "-dcW5F2AUXLk",
        "colab": {
          "base_uri": "https://localhost:8080/"
        },
        "outputId": "63f12f7d-4f0d-47e7-ade7-f8d839547337"
      },
      "execution_count": 32,
      "outputs": [
        {
          "output_type": "execute_result",
          "data": {
            "text/plain": [
              "2     905856\n",
              "1     123395\n",
              "98      3321\n",
              "Name: DIABETES, dtype: int64"
            ]
          },
          "metadata": {},
          "execution_count": 32
        }
      ]
    },
    {
      "cell_type": "code",
      "source": [
        "round(df[\"DIABETES\"].value_counts(normalize=True)*100,2)"
      ],
      "metadata": {
        "id": "bhN3QSAESjkE",
        "colab": {
          "base_uri": "https://localhost:8080/"
        },
        "outputId": "6d8c6bd0-eac2-4bef-bea8-e05a5eeae897"
      },
      "execution_count": 33,
      "outputs": [
        {
          "output_type": "execute_result",
          "data": {
            "text/plain": [
              "2     87.73\n",
              "1     11.95\n",
              "98     0.32\n",
              "Name: DIABETES, dtype: float64"
            ]
          },
          "metadata": {},
          "execution_count": 33
        }
      ]
    },
    {
      "cell_type": "markdown",
      "source": [
        "En un principio nos interesa cambiar el valor de los negativos por 0 en vez de 2 para obtener un valor booleano.\n",
        ">Por otro lado podemos notar que los valores no registrados son una porcion insignificante y por ende pueden ser removidos."
      ],
      "metadata": {
        "id": "A5zgBeDBTPiQ"
      }
    },
    {
      "cell_type": "code",
      "source": [
        "df.loc[(df[\"DIABETES\"] == 2), \"DIABETES\"] = 0\n",
        "df.drop (df.loc[(df[\"DIABETES\"] == 98)].index, axis=0, inplace=True)\n",
        "df[\"DIABETES\"].value_counts()"
      ],
      "metadata": {
        "id": "20768WqcTvt8",
        "colab": {
          "base_uri": "https://localhost:8080/"
        },
        "outputId": "18790089-199c-49e7-f4cc-6e252c16c5b8"
      },
      "execution_count": 34,
      "outputs": [
        {
          "output_type": "execute_result",
          "data": {
            "text/plain": [
              "0    905856\n",
              "1    123395\n",
              "Name: DIABETES, dtype: int64"
            ]
          },
          "metadata": {},
          "execution_count": 34
        }
      ]
    },
    {
      "cell_type": "markdown",
      "source": [
        "##COPD"
      ],
      "metadata": {
        "id": "cAzt1abXUuE6"
      }
    },
    {
      "cell_type": "markdown",
      "source": [
        "COPD es la variable que indica si el paciente tiene enfermedad pulmonar obstructiva crónica indicado con 1 o no indicado con 2."
      ],
      "metadata": {
        "id": "3XYUuuAKUxFy"
      }
    },
    {
      "cell_type": "code",
      "source": [
        "df.COPD.value_counts()"
      ],
      "metadata": {
        "id": "Al9MLoQGVHFG",
        "colab": {
          "base_uri": "https://localhost:8080/"
        },
        "outputId": "db52f18c-93d8-49a0-a14d-492cd349e27f"
      },
      "execution_count": 35,
      "outputs": [
        {
          "output_type": "execute_result",
          "data": {
            "text/plain": [
              "2     1014380\n",
              "1       14507\n",
              "98        364\n",
              "Name: COPD, dtype: int64"
            ]
          },
          "metadata": {},
          "execution_count": 35
        }
      ]
    },
    {
      "cell_type": "code",
      "source": [
        "round(df.COPD.value_counts(normalize=True)*100,2)"
      ],
      "metadata": {
        "id": "qFM0mmHoVROc",
        "colab": {
          "base_uri": "https://localhost:8080/"
        },
        "outputId": "505795a7-423e-48f6-a98a-960313d223ca"
      },
      "execution_count": 36,
      "outputs": [
        {
          "output_type": "execute_result",
          "data": {
            "text/plain": [
              "2     98.56\n",
              "1      1.41\n",
              "98     0.04\n",
              "Name: COPD, dtype: float64"
            ]
          },
          "metadata": {},
          "execution_count": 36
        }
      ]
    },
    {
      "cell_type": "markdown",
      "source": [
        "> Nos interesa hacer de esta una variable booleana y eliminar los registros incompletos debido a que son pocos."
      ],
      "metadata": {
        "id": "VO4LDlOoWG9z"
      }
    },
    {
      "cell_type": "code",
      "source": [
        "df.loc[(df.COPD == 2), \"COPD\"] = 0\n",
        "df.drop (df.loc[(df.COPD == 98)].index, axis=0, inplace=True)\n",
        "df.COPD.value_counts()"
      ],
      "metadata": {
        "id": "J-E7vA_lVq25",
        "colab": {
          "base_uri": "https://localhost:8080/"
        },
        "outputId": "d5cc5dd0-276e-4bd2-a273-cd5e35b72534"
      },
      "execution_count": 37,
      "outputs": [
        {
          "output_type": "execute_result",
          "data": {
            "text/plain": [
              "0    1014380\n",
              "1      14507\n",
              "Name: COPD, dtype: int64"
            ]
          },
          "metadata": {},
          "execution_count": 37
        }
      ]
    },
    {
      "cell_type": "code",
      "source": [
        "df.columns"
      ],
      "metadata": {
        "id": "AM6f6vAiY9M2",
        "colab": {
          "base_uri": "https://localhost:8080/"
        },
        "outputId": "711d936e-3e94-430a-c966-6a553bab1f8b"
      },
      "execution_count": 38,
      "outputs": [
        {
          "output_type": "execute_result",
          "data": {
            "text/plain": [
              "Index(['USMER', 'SEX', 'HOSP', 'PNEUMONIA', 'AGE', 'DIABETES', 'COPD',\n",
              "       'ASTHMA', 'INMSUPR', 'HIPERTENSION', 'OTHER_DISEASE', 'CARDIOVASCULAR',\n",
              "       'OBESITY', 'RENAL_CHRONIC', 'TOBACCO', 'CLASIFFICATION_FINAL', 'ICU',\n",
              "       'MUERTE', 'MU4', 'MU12'],\n",
              "      dtype='object')"
            ]
          },
          "metadata": {},
          "execution_count": 38
        }
      ]
    },
    {
      "cell_type": "markdown",
      "source": [
        "##ASTHMA"
      ],
      "metadata": {
        "id": "xXek6u92DaVI"
      }
    },
    {
      "cell_type": "markdown",
      "source": [
        "ASTHMA Indica si el paciente tiene asma con 1 o no con 2."
      ],
      "metadata": {
        "id": "CBEn2EfLFuC9"
      }
    },
    {
      "cell_type": "code",
      "source": [
        "df.ASTHMA.value_counts()"
      ],
      "metadata": {
        "id": "j9adm---F6b8",
        "colab": {
          "base_uri": "https://localhost:8080/"
        },
        "outputId": "a0e79813-6192-45d0-e98e-a5368f8fac4c"
      },
      "execution_count": 39,
      "outputs": [
        {
          "output_type": "execute_result",
          "data": {
            "text/plain": [
              "2     998084\n",
              "1      30623\n",
              "98       180\n",
              "Name: ASTHMA, dtype: int64"
            ]
          },
          "metadata": {},
          "execution_count": 39
        }
      ]
    },
    {
      "cell_type": "code",
      "source": [
        "round(df.ASTHMA.value_counts(normalize=True)*100,2)"
      ],
      "metadata": {
        "id": "OAZVcthoGTeC",
        "colab": {
          "base_uri": "https://localhost:8080/"
        },
        "outputId": "026c6292-4735-4652-8395-a0450aa31f63"
      },
      "execution_count": 40,
      "outputs": [
        {
          "output_type": "execute_result",
          "data": {
            "text/plain": [
              "2     97.01\n",
              "1      2.98\n",
              "98     0.02\n",
              "Name: ASTHMA, dtype: float64"
            ]
          },
          "metadata": {},
          "execution_count": 40
        }
      ]
    },
    {
      "cell_type": "markdown",
      "source": [
        "Hacemos los mismos cambios que con las variables anteriores."
      ],
      "metadata": {
        "id": "3cDNZm0sGHFa"
      }
    },
    {
      "cell_type": "code",
      "source": [
        "df.loc[(df.ASTHMA == 2), \"ASTHMA\"] = 0\n",
        "df.drop (df.loc[(df.ASTHMA == 98)].index, axis=0, inplace=True)\n",
        "df.ASTHMA.value_counts()"
      ],
      "metadata": {
        "id": "AMSy4ha3Gfxt",
        "colab": {
          "base_uri": "https://localhost:8080/"
        },
        "outputId": "6868a89f-8519-4cac-ee4f-7200917c05f6"
      },
      "execution_count": 41,
      "outputs": [
        {
          "output_type": "execute_result",
          "data": {
            "text/plain": [
              "0    998084\n",
              "1     30623\n",
              "Name: ASTHMA, dtype: int64"
            ]
          },
          "metadata": {},
          "execution_count": 41
        }
      ]
    },
    {
      "cell_type": "markdown",
      "source": [
        "##INMSUPR"
      ],
      "metadata": {
        "id": "3OG0TQxODqGe"
      }
    },
    {
      "cell_type": "code",
      "source": [
        "df.INMSUPR.value_counts()"
      ],
      "metadata": {
        "id": "SAl8yVstG4W3",
        "colab": {
          "base_uri": "https://localhost:8080/"
        },
        "outputId": "b88f7f3d-e160-4570-9e2b-7e8e9dcd8fa6"
      },
      "execution_count": 42,
      "outputs": [
        {
          "output_type": "execute_result",
          "data": {
            "text/plain": [
              "2     1014482\n",
              "1       13717\n",
              "98        508\n",
              "Name: INMSUPR, dtype: int64"
            ]
          },
          "metadata": {},
          "execution_count": 42
        }
      ]
    },
    {
      "cell_type": "code",
      "source": [
        "round(df.INMSUPR.value_counts(normalize=True)*100,2)"
      ],
      "metadata": {
        "id": "zyfkL36_HFAM",
        "colab": {
          "base_uri": "https://localhost:8080/"
        },
        "outputId": "b47119b7-1838-44bd-c287-54f2fe742b2c"
      },
      "execution_count": 43,
      "outputs": [
        {
          "output_type": "execute_result",
          "data": {
            "text/plain": [
              "2     98.62\n",
              "1      1.33\n",
              "98     0.05\n",
              "Name: INMSUPR, dtype: float64"
            ]
          },
          "metadata": {},
          "execution_count": 43
        }
      ]
    },
    {
      "cell_type": "markdown",
      "source": [
        "Mismo menester que con variables anteriores."
      ],
      "metadata": {
        "id": "srUYs6V1HEVV"
      }
    },
    {
      "cell_type": "code",
      "source": [
        "df.loc[(df.INMSUPR==2), \"INMSUPR\"] = 0\n",
        "df.drop(df.loc[(df.INMSUPR==98)].index, axis=0, inplace=True)\n",
        "df.INMSUPR.value_counts()"
      ],
      "metadata": {
        "id": "jG35ZfImHZ1k",
        "colab": {
          "base_uri": "https://localhost:8080/"
        },
        "outputId": "27d6e8a2-beb6-44da-8d7d-70d72aa8135a"
      },
      "execution_count": 44,
      "outputs": [
        {
          "output_type": "execute_result",
          "data": {
            "text/plain": [
              "0    1014482\n",
              "1      13717\n",
              "Name: INMSUPR, dtype: int64"
            ]
          },
          "metadata": {},
          "execution_count": 44
        }
      ]
    },
    {
      "cell_type": "markdown",
      "source": [
        "##HIPERTENSION"
      ],
      "metadata": {
        "id": "Aoszz3ZnDsUf"
      }
    },
    {
      "cell_type": "markdown",
      "source": [
        "HIPERTENSION es la variable que contabiliza los pacientes con hipertención (1 para positivo y 2 para negativo)"
      ],
      "metadata": {
        "id": "wmcT3bU1RifV"
      }
    },
    {
      "cell_type": "code",
      "source": [
        "df.HIPERTENSION.value_counts()"
      ],
      "metadata": {
        "id": "UM0v-BOLRvpj",
        "colab": {
          "base_uri": "https://localhost:8080/"
        },
        "outputId": "2d1ae2af-0c81-4daf-d575-df206dde19e1"
      },
      "execution_count": 45,
      "outputs": [
        {
          "output_type": "execute_result",
          "data": {
            "text/plain": [
              "2     867697\n",
              "1     160278\n",
              "98       224\n",
              "Name: HIPERTENSION, dtype: int64"
            ]
          },
          "metadata": {},
          "execution_count": 45
        }
      ]
    },
    {
      "cell_type": "code",
      "source": [
        "round(df.HIPERTENSION.value_counts(normalize=True)*100,2)"
      ],
      "metadata": {
        "id": "rSZnsbOVR6hT",
        "colab": {
          "base_uri": "https://localhost:8080/"
        },
        "outputId": "5fb7a7a3-4809-455b-e756-86ed0c75c688"
      },
      "execution_count": 46,
      "outputs": [
        {
          "output_type": "execute_result",
          "data": {
            "text/plain": [
              "2     84.39\n",
              "1     15.59\n",
              "98     0.02\n",
              "Name: HIPERTENSION, dtype: float64"
            ]
          },
          "metadata": {},
          "execution_count": 46
        }
      ]
    },
    {
      "cell_type": "markdown",
      "source": [
        "Aplicamos los cambios de las variables anteriores."
      ],
      "metadata": {
        "id": "dh09oj-DSFMQ"
      }
    },
    {
      "cell_type": "code",
      "source": [
        "df.loc[(df.HIPERTENSION == 2), \"HIPERTENSION\"] = 0\n",
        "df.drop(df.loc[(df.HIPERTENSION == 98)].index, axis = 0, inplace = True)\n",
        "df.HIPERTENSION.value_counts()"
      ],
      "metadata": {
        "id": "0oT6leHWSL8i",
        "colab": {
          "base_uri": "https://localhost:8080/"
        },
        "outputId": "b37fd55a-1e43-4bc1-a18f-bc6d448969c2"
      },
      "execution_count": 47,
      "outputs": [
        {
          "output_type": "execute_result",
          "data": {
            "text/plain": [
              "0    867697\n",
              "1    160278\n",
              "Name: HIPERTENSION, dtype: int64"
            ]
          },
          "metadata": {},
          "execution_count": 47
        }
      ]
    },
    {
      "cell_type": "markdown",
      "source": [
        "##OTHER_DISEASE"
      ],
      "metadata": {
        "id": "kx8Wd8BAD1Ap"
      }
    },
    {
      "cell_type": "markdown",
      "source": [
        "OTHER_DISEASE es la variable que indica si el paciente tiene otras enfermedades donde 1 es para positivo y 2 para la negativa."
      ],
      "metadata": {
        "id": "3AzjDtTgUBWG"
      }
    },
    {
      "cell_type": "code",
      "source": [
        "df.OTHER_DISEASE.value_counts()"
      ],
      "metadata": {
        "id": "QkzCUnYOUOQ9",
        "colab": {
          "base_uri": "https://localhost:8080/"
        },
        "outputId": "f6cf95d7-f68a-4a86-ab0b-4dd103263e99"
      },
      "execution_count": 48,
      "outputs": [
        {
          "output_type": "execute_result",
          "data": {
            "text/plain": [
              "2     998991\n",
              "1      27182\n",
              "98      1802\n",
              "Name: OTHER_DISEASE, dtype: int64"
            ]
          },
          "metadata": {},
          "execution_count": 48
        }
      ]
    },
    {
      "cell_type": "code",
      "source": [
        "round(df.OTHER_DISEASE.value_counts(normalize=True)*100,2)"
      ],
      "metadata": {
        "id": "aQOaM1X4UXNx",
        "colab": {
          "base_uri": "https://localhost:8080/"
        },
        "outputId": "2c445618-c28a-49c2-d685-bc8e2963040b"
      },
      "execution_count": 49,
      "outputs": [
        {
          "output_type": "execute_result",
          "data": {
            "text/plain": [
              "2     97.18\n",
              "1      2.64\n",
              "98     0.18\n",
              "Name: OTHER_DISEASE, dtype: float64"
            ]
          },
          "metadata": {},
          "execution_count": 49
        }
      ]
    },
    {
      "cell_type": "markdown",
      "source": [
        "Se puede notar que la cantidad de registros faltantes es más significativa pero de igual manera son pocos en magnitud por lo que los eliminaremos."
      ],
      "metadata": {
        "id": "_kONxwgAUjKe"
      }
    },
    {
      "cell_type": "code",
      "source": [
        "df.loc[(df.OTHER_DISEASE == 2), \"OTHER_DISEASE\"] = 0\n",
        "df.drop(df.loc[(df.OTHER_DISEASE == 98)].index, axis = 0, inplace = True)\n",
        "df.OTHER_DISEASE.value_counts()"
      ],
      "metadata": {
        "id": "BA-X2A-eUynv",
        "colab": {
          "base_uri": "https://localhost:8080/"
        },
        "outputId": "484d6e35-f3f2-47ab-9045-beab0b2b42c9"
      },
      "execution_count": 50,
      "outputs": [
        {
          "output_type": "execute_result",
          "data": {
            "text/plain": [
              "0    998991\n",
              "1     27182\n",
              "Name: OTHER_DISEASE, dtype: int64"
            ]
          },
          "metadata": {},
          "execution_count": 50
        }
      ]
    },
    {
      "cell_type": "markdown",
      "source": [
        "##CARDIOVASCULAR"
      ],
      "metadata": {
        "id": "XtGomOg3D5VV"
      }
    },
    {
      "cell_type": "markdown",
      "source": [
        "CARDIOVASCULAR es una variable que indica los pacientes que tienen afecciones del distema circulatorio, ya sean del corazón o de los vasos sanguineos. Indicando 1 para positivo y 2 para negativo."
      ],
      "metadata": {
        "id": "nsQenbRVVD4J"
      }
    },
    {
      "cell_type": "code",
      "source": [
        "df.CARDIOVASCULAR.value_counts()"
      ],
      "metadata": {
        "id": "ZpiA2oJkVE2R",
        "colab": {
          "base_uri": "https://localhost:8080/"
        },
        "outputId": "8b62f624-0dd9-49c0-c9a9-bd3dfe8347a2"
      },
      "execution_count": 51,
      "outputs": [
        {
          "output_type": "execute_result",
          "data": {
            "text/plain": [
              "2     1005884\n",
              "1       20156\n",
              "98        133\n",
              "Name: CARDIOVASCULAR, dtype: int64"
            ]
          },
          "metadata": {},
          "execution_count": 51
        }
      ]
    },
    {
      "cell_type": "code",
      "source": [
        "round (df.CARDIOVASCULAR.value_counts(normalize = True)*100,2)"
      ],
      "metadata": {
        "id": "CEuR32j1V-BY",
        "colab": {
          "base_uri": "https://localhost:8080/"
        },
        "outputId": "ede72678-0602-46f2-fb9f-45aea0f9f7fd"
      },
      "execution_count": 52,
      "outputs": [
        {
          "output_type": "execute_result",
          "data": {
            "text/plain": [
              "2     98.02\n",
              "1      1.96\n",
              "98     0.01\n",
              "Name: CARDIOVASCULAR, dtype: float64"
            ]
          },
          "metadata": {},
          "execution_count": 52
        }
      ]
    },
    {
      "cell_type": "markdown",
      "source": [
        "Aplicamos lo el mismo criterio que con variables anteriores."
      ],
      "metadata": {
        "id": "Zoh6ghpmWwcx"
      }
    },
    {
      "cell_type": "code",
      "source": [
        "df.loc[(df.CARDIOVASCULAR == 2), \"CARDIOVASCULAR\"] = 0\n",
        "df.drop(df.loc[(df.CARDIOVASCULAR == 98)].index, axis = 0 , inplace = True)\n",
        "df.CARDIOVASCULAR.value_counts()"
      ],
      "metadata": {
        "id": "qRBfh6FzW348",
        "colab": {
          "base_uri": "https://localhost:8080/"
        },
        "outputId": "596be486-1ac4-4eba-8a89-820f88025d45"
      },
      "execution_count": 53,
      "outputs": [
        {
          "output_type": "execute_result",
          "data": {
            "text/plain": [
              "0    1005884\n",
              "1      20156\n",
              "Name: CARDIOVASCULAR, dtype: int64"
            ]
          },
          "metadata": {},
          "execution_count": 53
        }
      ]
    },
    {
      "cell_type": "markdown",
      "source": [
        "##OBESITY"
      ],
      "metadata": {
        "id": "AdoiP8uVD8sw"
      }
    },
    {
      "cell_type": "code",
      "source": [
        "df.OBESITY.value_counts()"
      ],
      "metadata": {
        "id": "OSbGUNe7X2Q_",
        "colab": {
          "base_uri": "https://localhost:8080/"
        },
        "outputId": "2e4eee2f-76d1-42d1-e90a-af5c60b0c5b0"
      },
      "execution_count": 54,
      "outputs": [
        {
          "output_type": "execute_result",
          "data": {
            "text/plain": [
              "2     868516\n",
              "1     157142\n",
              "98       382\n",
              "Name: OBESITY, dtype: int64"
            ]
          },
          "metadata": {},
          "execution_count": 54
        }
      ]
    },
    {
      "cell_type": "code",
      "source": [
        "round (df.OBESITY.value_counts(normalize = True)*100,2)"
      ],
      "metadata": {
        "id": "QKqm1dsvX9IB",
        "colab": {
          "base_uri": "https://localhost:8080/"
        },
        "outputId": "0955803b-234c-478e-bdd8-8b642e7ae2e9"
      },
      "execution_count": 55,
      "outputs": [
        {
          "output_type": "execute_result",
          "data": {
            "text/plain": [
              "2     84.65\n",
              "1     15.32\n",
              "98     0.04\n",
              "Name: OBESITY, dtype: float64"
            ]
          },
          "metadata": {},
          "execution_count": 55
        }
      ]
    },
    {
      "cell_type": "code",
      "source": [
        "df.loc[(df.OBESITY == 2), \"OBESITY\"] = 0\n",
        "df.drop(df.loc[(df.OBESITY == 98)].index, axis = 0 , inplace = True)\n",
        "df.OBESITY.value_counts()"
      ],
      "metadata": {
        "id": "pZt1AngNYHck",
        "colab": {
          "base_uri": "https://localhost:8080/"
        },
        "outputId": "e0b0057e-52f6-4d01-825a-24ce604c10b5"
      },
      "execution_count": 56,
      "outputs": [
        {
          "output_type": "execute_result",
          "data": {
            "text/plain": [
              "0    868516\n",
              "1    157142\n",
              "Name: OBESITY, dtype: int64"
            ]
          },
          "metadata": {},
          "execution_count": 56
        }
      ]
    },
    {
      "cell_type": "markdown",
      "source": [
        "##RENAL_CHRONIC"
      ],
      "metadata": {
        "id": "SHLDEkV7EBkj"
      }
    },
    {
      "cell_type": "code",
      "source": [
        "df.RENAL_CHRONIC.value_counts()"
      ],
      "metadata": {
        "id": "bLSGuHYjYUMo",
        "colab": {
          "base_uri": "https://localhost:8080/"
        },
        "outputId": "81739498-7b23-4002-94ee-fe035cce3817"
      },
      "execution_count": 57,
      "outputs": [
        {
          "output_type": "execute_result",
          "data": {
            "text/plain": [
              "2     1007142\n",
              "1       18375\n",
              "98        141\n",
              "Name: RENAL_CHRONIC, dtype: int64"
            ]
          },
          "metadata": {},
          "execution_count": 57
        }
      ]
    },
    {
      "cell_type": "code",
      "source": [
        "round (df.RENAL_CHRONIC.value_counts(normalize = True)*100,2)"
      ],
      "metadata": {
        "id": "9t1YuARPYa5I",
        "colab": {
          "base_uri": "https://localhost:8080/"
        },
        "outputId": "3ffdb1f9-9416-431e-9ef0-54985082317e"
      },
      "execution_count": 58,
      "outputs": [
        {
          "output_type": "execute_result",
          "data": {
            "text/plain": [
              "2     98.19\n",
              "1      1.79\n",
              "98     0.01\n",
              "Name: RENAL_CHRONIC, dtype: float64"
            ]
          },
          "metadata": {},
          "execution_count": 58
        }
      ]
    },
    {
      "cell_type": "code",
      "source": [
        "df.loc[(df.RENAL_CHRONIC == 2), \"RENAL_CHRONIC\"] = 0\n",
        "df.drop(df.loc[(df.RENAL_CHRONIC == 98)].index, axis = 0 , inplace = True)\n",
        "df.RENAL_CHRONIC.value_counts()"
      ],
      "metadata": {
        "id": "wBJ1n5-dYhJu",
        "colab": {
          "base_uri": "https://localhost:8080/"
        },
        "outputId": "87ec8744-3020-45d8-88c1-2c806f8fc700"
      },
      "execution_count": 59,
      "outputs": [
        {
          "output_type": "execute_result",
          "data": {
            "text/plain": [
              "0    1007142\n",
              "1      18375\n",
              "Name: RENAL_CHRONIC, dtype: int64"
            ]
          },
          "metadata": {},
          "execution_count": 59
        }
      ]
    },
    {
      "cell_type": "markdown",
      "source": [
        "##TOBACCO"
      ],
      "metadata": {
        "id": "smqGOrQUEFhd"
      }
    },
    {
      "cell_type": "code",
      "source": [
        "df.TOBACCO.value_counts()"
      ],
      "metadata": {
        "id": "0lCrUylvY1DE",
        "colab": {
          "base_uri": "https://localhost:8080/"
        },
        "outputId": "11e0c3ed-4cf4-42a3-9d71-f083077475d7"
      },
      "execution_count": 60,
      "outputs": [
        {
          "output_type": "execute_result",
          "data": {
            "text/plain": [
              "2     942477\n",
              "1      82675\n",
              "98       365\n",
              "Name: TOBACCO, dtype: int64"
            ]
          },
          "metadata": {},
          "execution_count": 60
        }
      ]
    },
    {
      "cell_type": "code",
      "source": [
        "round (df.TOBACCO.value_counts(normalize = True)*100,2)"
      ],
      "metadata": {
        "id": "rDQXYjjaY6pE",
        "colab": {
          "base_uri": "https://localhost:8080/"
        },
        "outputId": "02e69b68-b411-460c-b188-bf7707e91a9c"
      },
      "execution_count": 61,
      "outputs": [
        {
          "output_type": "execute_result",
          "data": {
            "text/plain": [
              "2     91.90\n",
              "1      8.06\n",
              "98     0.04\n",
              "Name: TOBACCO, dtype: float64"
            ]
          },
          "metadata": {},
          "execution_count": 61
        }
      ]
    },
    {
      "cell_type": "code",
      "source": [
        "df.loc[(df.TOBACCO == 2), \"TOBACCO\"] = 0\n",
        "df.drop(df.loc[(df.TOBACCO == 98)].index, axis = 0 , inplace = True)\n",
        "df.TOBACCO.value_counts()"
      ],
      "metadata": {
        "id": "JDzE-rVnY_gR",
        "colab": {
          "base_uri": "https://localhost:8080/"
        },
        "outputId": "4f9d83cc-a7fc-4036-8fb3-c8fd72846a26"
      },
      "execution_count": 62,
      "outputs": [
        {
          "output_type": "execute_result",
          "data": {
            "text/plain": [
              "0    942477\n",
              "1     82675\n",
              "Name: TOBACCO, dtype: int64"
            ]
          },
          "metadata": {},
          "execution_count": 62
        }
      ]
    },
    {
      "cell_type": "markdown",
      "source": [
        "##CLASIFFICATION_FINAL"
      ],
      "metadata": {
        "id": "xHIh6wAzEJDw"
      }
    },
    {
      "cell_type": "markdown",
      "source": [
        "CLASIFFICATION_FINAL son los resultados de la prueba de covid. Los valores 1-3 significan que el paciente fue diagnosticado con covid en diferentes grados. 4 o superior significa que el paciente no es portador de covid o que la prueba no es concluyente"
      ],
      "metadata": {
        "id": "Lg9_6XYw7b29"
      }
    },
    {
      "cell_type": "markdown",
      "source": [
        "Como el objetivo de nuestro trabajo es determinar cuantos de los pacientes con covid-19 van a morir, debemos eliminar los que no son pacientes de covid-19 y agrupar el resto."
      ],
      "metadata": {
        "id": "A3LWLYDu7ljp"
      }
    },
    {
      "cell_type": "code",
      "source": [
        "df.CLASIFFICATION_FINAL.value_counts()"
      ],
      "metadata": {
        "id": "9gbWXvyzZN_D",
        "colab": {
          "base_uri": "https://localhost:8080/"
        },
        "outputId": "8c29a752-e0e6-43a4-ca56-85a0b850c76b"
      },
      "execution_count": 63,
      "outputs": [
        {
          "output_type": "execute_result",
          "data": {
            "text/plain": [
              "7    490123\n",
              "3    378629\n",
              "6    117756\n",
              "5     25305\n",
              "1      8448\n",
              "4      3090\n",
              "2      1801\n",
              "Name: CLASIFFICATION_FINAL, dtype: int64"
            ]
          },
          "metadata": {},
          "execution_count": 63
        }
      ]
    },
    {
      "cell_type": "code",
      "source": [
        "df.drop(df.loc[(df.CLASIFFICATION_FINAL > 3)].index , axis = 0 , inplace = True)\n",
        "df.drop([\"CLASIFFICATION_FINAL\"], axis=\"columns\", inplace = True)\n",
        "df.MUERTE.value_counts()"
      ],
      "metadata": {
        "id": "deYeuQh-2hq8",
        "colab": {
          "base_uri": "https://localhost:8080/"
        },
        "outputId": "7396e804-8ad7-4dae-ba9c-ba6947f9eb52"
      },
      "execution_count": 64,
      "outputs": [
        {
          "output_type": "execute_result",
          "data": {
            "text/plain": [
              "0.0    335518\n",
              "1.0     53360\n",
              "Name: MUERTE, dtype: int64"
            ]
          },
          "metadata": {},
          "execution_count": 64
        }
      ]
    },
    {
      "cell_type": "markdown",
      "source": [
        "##ICU"
      ],
      "metadata": {
        "id": "je6mTVNdEMnz"
      }
    },
    {
      "cell_type": "markdown",
      "source": [
        "ICU Indica si el paciente había sido ingresado en una Unidad de Cuidados Intensivos."
      ],
      "metadata": {
        "id": "FlxnehtX9bZP"
      }
    },
    {
      "cell_type": "markdown",
      "source": [
        "Como el objetivo del trabajo es determinar cuales pacientes tienen riesgo de vida no nos detendremos a ver la clasificacion que los medicos hicieron sobre dicho riesgo sino sobre el riesgo real de dichos pacientes. Por lo tanto eliminaremos este dato."
      ],
      "metadata": {
        "id": "jlZI0uoR-jcR"
      }
    },
    {
      "cell_type": "code",
      "source": [
        "df.drop([\"ICU\"], axis=\"columns\", inplace = True)"
      ],
      "metadata": {
        "id": "X5zvW80a-6SB"
      },
      "execution_count": 65,
      "outputs": []
    },
    {
      "cell_type": "markdown",
      "source": [
        "## HEATMAP"
      ],
      "metadata": {
        "id": "LMaUhnxTwS5Y"
      }
    },
    {
      "cell_type": "code",
      "source": [
        "plt.figure(figsize=(16,16))\n",
        "sns.heatmap(data=df.corr(),annot=True, fmt=\".2f\")"
      ],
      "metadata": {
        "id": "ZdTe1vRewWzt",
        "colab": {
          "base_uri": "https://localhost:8080/",
          "height": 0
        },
        "outputId": "375dbf11-f479-4b7a-c543-5191c7d5be39"
      },
      "execution_count": 66,
      "outputs": [
        {
          "output_type": "execute_result",
          "data": {
            "text/plain": [
              "<Axes: >"
            ]
          },
          "metadata": {},
          "execution_count": 66
        },
        {
          "output_type": "display_data",
          "data": {
            "text/plain": [
              "<Figure size 1600x1600 with 2 Axes>"
            ],
            "image/png": "[encoded data removed]"
          },
          "metadata": {}
        }
      ]
    },
    {
      "cell_type": "markdown",
      "source": [
        "#Arbol de Desiciones"
      ],
      "metadata": {
        "id": "N6ZSXt8XANxD"
      }
    },
    {
      "cell_type": "code",
      "source": [
        "from sklearn.tree import DecisionTreeClassifier\n",
        "from sklearn.model_selection import cross_val_score\n",
        "from sklearn.linear_model import LinearRegression\n",
        "from sklearn.metrics import mean_squared_error\n",
        "#Metricas\n",
        "\n",
        "from sklearn.model_selection import train_test_split\n",
        "from sklearn import tree\n",
        "import warnings\n",
        "warnings.filterwarnings('ignore')"
      ],
      "metadata": {
        "id": "DuccvjpaASsP"
      },
      "execution_count": 67,
      "outputs": []
    },
    {
      "cell_type": "code",
      "source": [
        "Car = df.drop('MUERTE',axis = 1)\n",
        "obj = df.MUERTE\n",
        "\n",
        "X = Car\n",
        "y = obj\n"
      ],
      "metadata": {
        "id": "EPplOllGAxUC"
      },
      "execution_count": 68,
      "outputs": []
    },
    {
      "cell_type": "code",
      "source": [
        "#Train y Test Split\n",
        "X_train, X_test, y_train, y_test = train_test_split(X, y, test_size=0.30, random_state=42)"
      ],
      "metadata": {
        "id": "32_3CNYwA-du"
      },
      "execution_count": 69,
      "outputs": []
    },
    {
      "cell_type": "code",
      "source": [
        "from sklearn.tree import DecisionTreeClassifier\n",
        "arbol_de_decision = DecisionTreeClassifier(max_depth=4, random_state = 42)"
      ],
      "metadata": {
        "id": "TRFkEYagBCSI"
      },
      "execution_count": 70,
      "outputs": []
    },
    {
      "cell_type": "code",
      "source": [
        "arbol_de_decision.fit(X_train,y_train) #Entrenamos el modelo"
      ],
      "metadata": {
        "id": "mqOZ-RCuBKfo",
        "colab": {
          "base_uri": "https://localhost:8080/",
          "height": 74
        },
        "outputId": "3b5750d1-81c8-4ef3-8a8d-f5a64df45124"
      },
      "execution_count": 71,
      "outputs": [
        {
          "output_type": "execute_result",
          "data": {
            "text/plain": [
              "DecisionTreeClassifier(max_depth=4, random_state=42)"
            ],
            "text/html": [
              "<style>#sk-container-id-1 {color: black;background-color: white;}#sk-container-id-1 pre{padding: 0;}#sk-container-id-1 div.sk-toggleable {background-color: white;}#sk-container-id-1 label.sk-toggleable__label {cursor: pointer;display: block;width: 100%;margin-bottom: 0;padding: 0.3em;box-sizing: border-box;text-align: center;}#sk-container-id-1 label.sk-toggleable__label-arrow:before {content: \"▸\";float: left;margin-right: 0.25em;color: #696969;}#sk-container-id-1 label.sk-toggleable__label-arrow:hover:before {color: black;}#sk-container-id-1 div.sk-estimator:hover label.sk-toggleable__label-arrow:before {color: black;}#sk-container-id-1 div.sk-toggleable__content {max-height: 0;max-width: 0;overflow: hidden;text-align: left;background-color: #f0f8ff;}#sk-container-id-1 div.sk-toggleable__content pre {margin: 0.2em;color: black;border-radius: 0.25em;background-color: #f0f8ff;}#sk-container-id-1 input.sk-toggleable__control:checked~div.sk-toggleable__content {max-height: 200px;max-width: 100%;overflow: auto;}#sk-container-id-1 input.sk-toggleable__control:checked~label.sk-toggleable__label-arrow:before {content: \"▾\";}#sk-container-id-1 div.sk-estimator input.sk-toggleable__control:checked~label.sk-toggleable__label {background-color: #d4ebff;}#sk-container-id-1 div.sk-label input.sk-toggleable__control:checked~label.sk-toggleable__label {background-color: #d4ebff;}#sk-container-id-1 input.sk-hidden--visually {border: 0;clip: rect(1px 1px 1px 1px);clip: rect(1px, 1px, 1px, 1px);height: 1px;margin: -1px;overflow: hidden;padding: 0;position: absolute;width: 1px;}#sk-container-id-1 div.sk-estimator {font-family: monospace;background-color: #f0f8ff;border: 1px dotted black;border-radius: 0.25em;box-sizing: border-box;margin-bottom: 0.5em;}#sk-container-id-1 div.sk-estimator:hover {background-color: #d4ebff;}#sk-container-id-1 div.sk-parallel-item::after {content: \"\";width: 100%;border-bottom: 1px solid gray;flex-grow: 1;}#sk-container-id-1 div.sk-label:hover label.sk-toggleable__label {background-color: #d4ebff;}#sk-container-id-1 div.sk-serial::before {content: \"\";position: absolute;border-left: 1px solid gray;box-sizing: border-box;top: 0;bottom: 0;left: 50%;z-index: 0;}#sk-container-id-1 div.sk-serial {display: flex;flex-direction: column;align-items: center;background-color: white;padding-right: 0.2em;padding-left: 0.2em;position: relative;}#sk-container-id-1 div.sk-item {position: relative;z-index: 1;}#sk-container-id-1 div.sk-parallel {display: flex;align-items: stretch;justify-content: center;background-color: white;position: relative;}#sk-container-id-1 div.sk-item::before, #sk-container-id-1 div.sk-parallel-item::before {content: \"\";position: absolute;border-left: 1px solid gray;box-sizing: border-box;top: 0;bottom: 0;left: 50%;z-index: -1;}#sk-container-id-1 div.sk-parallel-item {display: flex;flex-direction: column;z-index: 1;position: relative;background-color: white;}#sk-container-id-1 div.sk-parallel-item:first-child::after {align-self: flex-end;width: 50%;}#sk-container-id-1 div.sk-parallel-item:last-child::after {align-self: flex-start;width: 50%;}#sk-container-id-1 div.sk-parallel-item:only-child::after {width: 0;}#sk-container-id-1 div.sk-dashed-wrapped {border: 1px dashed gray;margin: 0 0.4em 0.5em 0.4em;box-sizing: border-box;padding-bottom: 0.4em;background-color: white;}#sk-container-id-1 div.sk-label label {font-family: monospace;font-weight: bold;display: inline-block;line-height: 1.2em;}#sk-container-id-1 div.sk-label-container {text-align: center;}#sk-container-id-1 div.sk-container {/* jupyter's `normalize.less` sets `[hidden] { display: none; }` but bootstrap.min.css set `[hidden] { display: none !important; }` so we also need the `!important` here to be able to override the default hidden behavior on the sphinx rendered scikit-learn.org. See: https://github.com/scikit-learn/scikit-learn/issues/21755 */display: inline-block !important;position: relative;}#sk-container-id-1 div.sk-text-repr-fallback {display: none;}</style><div id=\"sk-container-id-1\" class=\"sk-top-container\"><div class=\"sk-text-repr-fallback\"><pre>DecisionTreeClassifier(max_depth=4, random_state=42)</pre><b>In a Jupyter environment, please rerun this cell to show the HTML representation or trust the notebook. <br />On GitHub, the HTML representation is unable to render, please try loading this page with nbviewer.org.</b></div><div class=\"sk-container\" hidden><div class=\"sk-item\"><div class=\"sk-estimator sk-toggleable\"><input class=\"sk-toggleable__control sk-hidden--visually\" id=\"sk-estimator-id-1\" type=\"checkbox\" checked><label for=\"sk-estimator-id-1\" class=\"sk-toggleable__label sk-toggleable__label-arrow\">DecisionTreeClassifier</label><div class=\"sk-toggleable__content\"><pre>DecisionTreeClassifier(max_depth=4, random_state=42)</pre></div></div></div></div></div>"
            ]
          },
          "metadata": {},
          "execution_count": 71
        }
      ]
    },
    {
      "cell_type": "code",
      "source": [
        "#Prediccion\n",
        "y_test_pred = arbol_de_decision.predict(X_test)"
      ],
      "metadata": {
        "id": "neWIF5LtBNt5"
      },
      "execution_count": 72,
      "outputs": []
    },
    {
      "cell_type": "code",
      "source": [
        "y_test_pred"
      ],
      "metadata": {
        "id": "xl5-vTW7gjW1",
        "colab": {
          "base_uri": "https://localhost:8080/"
        },
        "outputId": "9891fac1-e030-42d5-eb47-a9b4007071bf"
      },
      "execution_count": 73,
      "outputs": [
        {
          "output_type": "execute_result",
          "data": {
            "text/plain": [
              "array([0., 0., 0., ..., 0., 1., 0.])"
            ]
          },
          "metadata": {},
          "execution_count": 73
        }
      ]
    },
    {
      "cell_type": "code",
      "source": [
        "y_test"
      ],
      "metadata": {
        "id": "8BKY1e_agm3g",
        "colab": {
          "base_uri": "https://localhost:8080/"
        },
        "outputId": "b4a645d4-0e09-46f3-e4b7-cc371339ce11"
      },
      "execution_count": 74,
      "outputs": [
        {
          "output_type": "execute_result",
          "data": {
            "text/plain": [
              "497812    0.0\n",
              "505690    0.0\n",
              "525415    0.0\n",
              "471991    0.0\n",
              "385493    0.0\n",
              "         ... \n",
              "549489    0.0\n",
              "470118    0.0\n",
              "75017     0.0\n",
              "393477    1.0\n",
              "354674    0.0\n",
              "Name: MUERTE, Length: 116664, dtype: float64"
            ]
          },
          "metadata": {},
          "execution_count": 74
        }
      ]
    },
    {
      "cell_type": "markdown",
      "source": [
        "Al parecer el modelo tiene una tendencia a decir que los muertos estan vivos, devido a que los muertos son una parte menor de la población. Es un modelo sesgado."
      ],
      "metadata": {
        "id": "ZbFlTiPmEV9M"
      }
    },
    {
      "cell_type": "code",
      "source": [
        "round(df.MUERTE.value_counts(normalize = True)*100, 2)"
      ],
      "metadata": {
        "id": "wVUluosJEpWz",
        "colab": {
          "base_uri": "https://localhost:8080/"
        },
        "outputId": "edf10ddf-5fd7-433c-8978-c526a0285d4f"
      },
      "execution_count": 75,
      "outputs": [
        {
          "output_type": "execute_result",
          "data": {
            "text/plain": [
              "0.0    86.28\n",
              "1.0    13.72\n",
              "Name: MUERTE, dtype: float64"
            ]
          },
          "metadata": {},
          "execution_count": 75
        }
      ]
    },
    {
      "cell_type": "code",
      "source": [
        "arbol_de_decision.score(X_test,y_test)"
      ],
      "metadata": {
        "id": "YSmSMJo7BbWO",
        "colab": {
          "base_uri": "https://localhost:8080/"
        },
        "outputId": "3d7a1dfe-db68-4dbc-852f-fc0bcadfcbee"
      },
      "execution_count": 76,
      "outputs": [
        {
          "output_type": "execute_result",
          "data": {
            "text/plain": [
              "0.8899489131180142"
            ]
          },
          "metadata": {},
          "execution_count": 76
        }
      ]
    },
    {
      "cell_type": "code",
      "source": [
        "y_test_pred = arbol_de_decision.predict(X_test)"
      ],
      "metadata": {
        "id": "dLRAhDt2eewL"
      },
      "execution_count": 77,
      "outputs": []
    },
    {
      "cell_type": "code",
      "source": [
        "from sklearn.metrics import accuracy_score\n",
        "accuracy_score(y_test,y_test_pred)"
      ],
      "metadata": {
        "id": "laQTJ7GWeQq5",
        "colab": {
          "base_uri": "https://localhost:8080/"
        },
        "outputId": "d3c5f546-1136-4e26-cbe0-8a0a3794fd84"
      },
      "execution_count": 78,
      "outputs": [
        {
          "output_type": "execute_result",
          "data": {
            "text/plain": [
              "0.8899489131180142"
            ]
          },
          "metadata": {},
          "execution_count": 78
        }
      ]
    },
    {
      "cell_type": "markdown",
      "source": [
        "A lo largo de este notebook, se solicita calcular las métricas requeridas como así también su correspondiente interpretación:\n",
        "\n",
        "1. Calcular la métrica Accuracy."
      ],
      "metadata": {
        "id": "oIVJQxc-eqsx"
      }
    },
    {
      "cell_type": "code",
      "source": [
        "from sklearn.metrics import accuracy_score\n",
        "accuracy_score(y_test,y_test_pred)"
      ],
      "metadata": {
        "id": "coXAn0NCetaf",
        "colab": {
          "base_uri": "https://localhost:8080/"
        },
        "outputId": "cfd58ca1-37bb-49d6-cb57-e512e28637b5"
      },
      "execution_count": 79,
      "outputs": [
        {
          "output_type": "execute_result",
          "data": {
            "text/plain": [
              "0.8899489131180142"
            ]
          },
          "metadata": {},
          "execution_count": 79
        }
      ]
    },
    {
      "cell_type": "markdown",
      "source": [
        "2. Crear la Matriz de Confusión"
      ],
      "metadata": {
        "id": "5UzyD2NKewZQ"
      }
    },
    {
      "cell_type": "code",
      "source": [
        "from sklearn.metrics import confusion_matrix\n",
        "confusion_matrix(y_test, y_test_pred)"
      ],
      "metadata": {
        "id": "P4EnH5MtezCX",
        "colab": {
          "base_uri": "https://localhost:8080/"
        },
        "outputId": "3b6dad88-0895-4573-dc3a-c8dcf765e889"
      },
      "execution_count": 80,
      "outputs": [
        {
          "output_type": "execute_result",
          "data": {
            "text/plain": [
              "array([[95446,  5112],\n",
              "       [ 7727,  8379]])"
            ]
          },
          "metadata": {},
          "execution_count": 80
        }
      ]
    },
    {
      "cell_type": "markdown",
      "source": [
        "3. Calcular la métrica F1 score"
      ],
      "metadata": {
        "id": "0VO6uDgPe2Mz"
      }
    },
    {
      "cell_type": "code",
      "source": [
        "from sklearn.metrics import f1_score\n",
        "f1_score(y_test, y_test_pred)"
      ],
      "metadata": {
        "id": "EABYoPApe5iW",
        "colab": {
          "base_uri": "https://localhost:8080/"
        },
        "outputId": "b39252d8-4f5b-47cf-e3bb-5d410e2ab62d"
      },
      "execution_count": 81,
      "outputs": [
        {
          "output_type": "execute_result",
          "data": {
            "text/plain": [
              "0.5662060343953779"
            ]
          },
          "metadata": {},
          "execution_count": 81
        }
      ]
    },
    {
      "cell_type": "markdown",
      "source": [
        "Calcular todas las metricas al tiempo"
      ],
      "metadata": {
        "id": "pq7hjfWRe9zW"
      }
    },
    {
      "cell_type": "code",
      "source": [
        "from sklearn.metrics import classification_report\n",
        "reporte=classification_report(y_test,y_test_pred)\n",
        "print(reporte)"
      ],
      "metadata": {
        "id": "HHtapqHwe77K",
        "colab": {
          "base_uri": "https://localhost:8080/"
        },
        "outputId": "91c20de0-4024-42d2-e900-aee36bdb86eb"
      },
      "execution_count": 82,
      "outputs": [
        {
          "output_type": "stream",
          "name": "stdout",
          "text": [
            "              precision    recall  f1-score   support\n",
            "\n",
            "         0.0       0.93      0.95      0.94    100558\n",
            "         1.0       0.62      0.52      0.57     16106\n",
            "\n",
            "    accuracy                           0.89    116664\n",
            "   macro avg       0.77      0.73      0.75    116664\n",
            "weighted avg       0.88      0.89      0.89    116664\n",
            "\n"
          ]
        }
      ]
    },
    {
      "cell_type": "code",
      "source": [
        "from sklearn.metrics import roc_curve, roc_auc_score\n",
        "import matplotlib.pyplot as plt\n",
        "\n",
        "y_score1 = arbol_de_decision.predict_proba(X_test)[:,1]\n",
        "y_score1"
      ],
      "metadata": {
        "id": "jX28XN5SfSeQ",
        "colab": {
          "base_uri": "https://localhost:8080/"
        },
        "outputId": "5b60896f-4d88-45d0-b58f-6c41e71bc708"
      },
      "execution_count": 83,
      "outputs": [
        {
          "output_type": "execute_result",
          "data": {
            "text/plain": [
              "array([0.00263825, 0.00263825, 0.00263825, ..., 0.16640747, 0.564819  ,\n",
              "       0.00263825])"
            ]
          },
          "metadata": {},
          "execution_count": 83
        }
      ]
    },
    {
      "cell_type": "markdown",
      "source": [
        "4. Calcular y plotear la Curva ROC"
      ],
      "metadata": {
        "id": "0HT2ak8BfM2p"
      }
    },
    {
      "cell_type": "code",
      "source": [
        "from sklearn.metrics import roc_curve, roc_auc_score\n",
        "import matplotlib.pyplot as plt\n",
        "\n",
        "y_score1 = arbol_de_decision.predict_proba(X_test)[:,1]\n",
        "y_score1"
      ],
      "metadata": {
        "id": "_1KGG2TYffYD",
        "colab": {
          "base_uri": "https://localhost:8080/"
        },
        "outputId": "ea2ceb8e-7856-4a5d-de56-bf520e96e624"
      },
      "execution_count": 84,
      "outputs": [
        {
          "output_type": "execute_result",
          "data": {
            "text/plain": [
              "array([0.00263825, 0.00263825, 0.00263825, ..., 0.16640747, 0.564819  ,\n",
              "       0.00263825])"
            ]
          },
          "metadata": {},
          "execution_count": 84
        }
      ]
    },
    {
      "cell_type": "code",
      "source": [
        "# Calculo de tasas\n",
        "false_positive_rate1, true_positive_rate1, threshold1 = roc_curve(y_test, y_score1)"
      ],
      "metadata": {
        "id": "WH9LTeKzfiA4"
      },
      "execution_count": 85,
      "outputs": []
    },
    {
      "cell_type": "code",
      "source": [
        "print('roc_auc_score for DecisionTree: ', roc_auc_score(y_test, y_score1))"
      ],
      "metadata": {
        "id": "AwyoZ7fohNpl",
        "colab": {
          "base_uri": "https://localhost:8080/"
        },
        "outputId": "069b4ec3-0bdc-45a7-cf55-015cfe902752"
      },
      "execution_count": 86,
      "outputs": [
        {
          "output_type": "stream",
          "name": "stdout",
          "text": [
            "roc_auc_score for DecisionTree:  0.9277381932521979\n"
          ]
        }
      ]
    },
    {
      "cell_type": "code",
      "source": [
        "plt.subplots(1, figsize=(8,6))\n",
        "plt.title('Receiver Operating Characteristic - DecisionTree')\n",
        "plt.plot(false_positive_rate1, true_positive_rate1)\n",
        "plt.plot([0, 1], ls=\"--\")\n",
        "plt.plot([0, 0], [1, 0] , c=\".7\"), plt.plot([1, 1] , c=\".7\")\n",
        "plt.ylabel('True Positive Rate')\n",
        "plt.xlabel('False Positive Rate')\n",
        "plt.show()"
      ],
      "metadata": {
        "id": "oezf9op1hR-Q",
        "colab": {
          "base_uri": "https://localhost:8080/",
          "height": 564
        },
        "outputId": "7843692c-2fbe-4049-d07c-618e74be2b88"
      },
      "execution_count": 87,
      "outputs": [
        {
          "output_type": "display_data",
          "data": {
            "text/plain": [
              "<Figure size 800x600 with 1 Axes>"
            ],
            "image/png": "[encoded data removed]"
          },
          "metadata": {}
        }
      ]
    },
    {
      "cell_type": "markdown",
      "source": [
        "\n",
        "---\n",
        "\n",
        "\n",
        "La gráfica muestra claramente que aumentar la profundidad del árbol en las primeras etapas da como resultado una mejora correspondiente tanto en el entrenamiento como en los conjuntos de pruebas.\n",
        "\n",
        "Esto continúa hasta una profundidad de alrededor de 2.5 niveles, después de lo cual se muestra que el modelo se ajusta en exceso al conjunto de datos de capacitación a costa de un peor rendimiento en el conjunto de datos de retención.\n",
        "\n",
        "\n",
        "---\n"
      ],
      "metadata": {
        "id": "kBviPSO9VWcy"
      }
    },
    {
      "cell_type": "markdown",
      "source": [
        "##Bias-Variance"
      ],
      "metadata": {
        "id": "JAiHg8T9o5PU"
      }
    },
    {
      "cell_type": "code",
      "source": [
        "from sklearn.model_selection import train_test_split\n",
        "from sklearn.linear_model import LinearRegression\n",
        "from sklearn.metrics import mean_squared_error\n",
        "\n",
        "# Dividir los datos en conjuntos de entrenamiento y prueba\n",
        "X_train, X_test, y_train, y_test = train_test_split(X, y, test_size=0.2, random_state=42)\n",
        "\n",
        "# Crear una instancia del modelo\n",
        "model = LinearRegression()\n",
        "\n",
        "# Entrenar el modelo\n",
        "model.fit(X_train, y_train)\n",
        "\n",
        "# Realizar predicciones en el conjunto de prueba\n",
        "y_pred = model.predict(X_test)\n",
        "\n",
        "# Calcular el error de sesgo-varianza (MSE)\n",
        "mse = mean_squared_error(y_test, y_pred)\n",
        "bias = np.mean((y_test - np.mean(y_pred))**2)\n",
        "variance = np.var(y_pred)\n",
        "\n",
        "print(\"Error de sesgo: \", bias)\n",
        "print(\"Error de varianza: \", variance)\n",
        "print(\"Error cuadrático medio: \", mse)"
      ],
      "metadata": {
        "colab": {
          "base_uri": "https://localhost:8080/"
        },
        "id": "C9Axj1Ie1gJH",
        "outputId": "c31d0723-716c-4687-a885-6b351ad1e6cd"
      },
      "execution_count": 88,
      "outputs": [
        {
          "output_type": "stream",
          "name": "stdout",
          "text": [
            "Error de sesgo:  0.11831211169335656\n",
            "Error de varianza:  0.04560833385443983\n",
            "Error cuadrático medio:  0.07303214579793205\n"
          ]
        }
      ]
    },
    {
      "cell_type": "markdown",
      "source": [
        "Conclusión\n",
        "\n",
        "\n",
        "---\n",
        "\n",
        "El error de sesgo, el error de varianza y el error cuadrático medio son métricas utilizadas para evaluar el rendimiento de un modelo de aprendizaje automático. A continuación, se presenta una interpretación resumida de cada métrica:\n",
        "\n",
        "Error de sesgo: El error de sesgo representa la discrepancia entre las predicciones del modelo y los valores reales en los datos de entrenamiento. Un error de sesgo alto indica que el modelo no puede capturar de manera adecuada las relaciones o patrones subyacentes en los datos. En tu caso, el valor del error de sesgo es 0.11831211169335656, lo que indica que el modelo tiene un sesgo moderado.\n",
        "\n",
        "Error de varianza: El error de varianza se refiere a la sensibilidad del modelo a pequeñas variaciones en los datos de entrenamiento. Un error de varianza alto indica que el modelo es demasiado complejo o está sobreajustado a los datos de entrenamiento, lo que resulta en una incapacidad para generalizar bien a datos nuevos o no vistos. En tu caso, el valor del error de varianza es 0.04560833385443983, lo que indica que el modelo tiene una varianza moderada.\n",
        "\n",
        "Error cuadrático medio (MSE, por sus siglas en inglés): El error cuadrático medio es una métrica que mide el promedio de los errores al cuadrado entre las predicciones del modelo y los valores reales. Un valor bajo de MSE indica un buen ajuste del modelo a los datos. En tu caso, el valor del error cuadrático medio es 0.07303214579793205, lo que indica que el modelo tiene un MSE moderado.\n",
        "\n",
        "En general, para obtener un mejor rendimiento del modelo, se busca minimizar tanto el error de sesgo como el error de varianza, lo que a su vez reducirá el error cuadrático medio. Un equilibrio adecuado entre sesgo y varianza es esencial para obtener un modelo con capacidad de generalización y buen rendimiento en datos nuevos.\n",
        "\n",
        "Es importante considerar estas métricas en el contexto específico de los datos y el problema que se está abordando, ya que la interpretación puede variar según el dominio y las características particulares de los datos.\n",
        "\n",
        "---\n",
        "\n"
      ],
      "metadata": {
        "id": "3VF2Q0BKLObr"
      }
    },
    {
      "cell_type": "markdown",
      "source": [
        "##PCA"
      ],
      "metadata": {
        "id": "jtERleC1pFNw"
      }
    },
    {
      "cell_type": "code",
      "source": [
        "from sklearn.decomposition import PCA\n",
        "import numpy as np\n",
        "\n",
        "# Crear una instancia de PCA con el número de componentes deseados\n",
        "n_components = 2\n",
        "pca = PCA(n_components=n_components)\n",
        "\n",
        "# Ajustar el modelo PCA a los datos\n",
        "pca.fit(X)\n",
        "\n",
        "# Obtener los componentes principales\n",
        "components = pca.components_\n",
        "\n",
        "# Obtener la varianza explicada por cada componente principal\n",
        "explained_variance = pca.explained_variance_ratio_\n",
        "\n",
        "# Realizar la transformación PCA de los datos originales\n",
        "X_pca = pca.transform(X)\n",
        "\n",
        "# Imprimir los resultados\n",
        "print(\"Componentes principales:\")\n",
        "print(components)\n",
        "print(\"Varianza explicada:\")\n",
        "print(explained_variance)\n",
        "print(\"Datos transformados por PCA:\")\n",
        "print(X_pca)"
      ],
      "metadata": {
        "id": "XzM8DPBunAQQ",
        "colab": {
          "base_uri": "https://localhost:8080/"
        },
        "outputId": "fabe7ecb-08ae-4524-b38a-003241690205"
      },
      "execution_count": 89,
      "outputs": [
        {
          "output_type": "stream",
          "name": "stdout",
          "text": [
            "Componentes principales:\n",
            "[[ 3.07196170e-03 -1.31792881e-03  1.11698589e-02 -8.62345633e-03\n",
            "   9.99808380e-01  7.34832556e-03  1.15129554e-03 -2.38265047e-04\n",
            "   2.40870224e-04  9.59277922e-03  4.56389014e-04  1.19112100e-03\n",
            "   1.39073469e-03  7.95030885e-04  3.79685489e-06  2.42541062e-03\n",
            "  -3.91962327e-03]\n",
            " [ 1.88089951e-01 -6.96876125e-02  3.00326526e-01 -1.88129372e-01\n",
            "  -1.10469554e-02  6.72773718e-02  5.59671380e-03  1.95083228e-03\n",
            "   7.03337980e-03  7.40573326e-02  3.07575338e-02  5.76232752e-03\n",
            "   2.89976262e-02  1.93574757e-02  2.87923213e-03  6.08849153e-01\n",
            "  -6.71609539e-01]]\n",
            "Varianza explicada:\n",
            "[0.99321128 0.001571  ]\n",
            "Datos transformados por PCA:\n",
            "[[ 19.85907073  -0.06482957]\n",
            " [  9.8626068    0.22074479]\n",
            " [ 22.85853866  -0.14913482]\n",
            " ...\n",
            " [ 24.85387906  -0.05041615]\n",
            " [-13.15150413   0.10722087]\n",
            " [-15.15243882   0.05962717]]\n"
          ]
        }
      ]
    },
    {
      "cell_type": "markdown",
      "source": [
        "Conclusión\n",
        "\n",
        "\n",
        "---\n",
        "La interpretación resumida de los resultados del PCA (Análisis de Componentes Principales) sería la siguiente:\n",
        "\n",
        "Componentes principales: Los valores proporcionados son los vectores de los componentes principales del PCA. Cada fila representa un componente principal y cada columna representa una característica del conjunto de datos original. Estos componentes principales representan las direcciones de máxima variabilidad en los datos.\n",
        "\n",
        "Varianza explicada: Los valores indican la proporción de varianza explicada por cada componente principal. En este caso, el primer componente principal explica aproximadamente el 99.32% de la varianza total, mientras que el segundo componente principal explica alrededor del 0.16%.\n",
        "\n",
        "Datos transformados por PCA: Los valores representan los datos originales transformados por los componentes principales del PCA. Cada fila representa una observación o instancia del conjunto de datos original, y cada columna representa una dimensión reducida después de aplicar el PCA. En este caso, hay dos columnas, ya que se utilizaron dos componentes principales.\n",
        "\n",
        "En resumen, el PCA se utilizó para reducir la dimensionalidad del conjunto de datos original a dos dimensiones utilizando dos componentes principales. El primer componente principal captura la mayor parte de la variabilidad en los datos, mientras que el segundo componente principal captura una pequeña fracción de la varianza restante. Los datos transformados representan las observaciones originales en las nuevas dimensiones reducidas.\n",
        "\n",
        "Es importante tener en cuenta que esta interpretación resumida es general y no tiene en cuenta el contexto o la naturaleza específica de los datos. Es recomendable realizar un análisis más detallado y considerar el contexto de los datos para una interpretación más precisa.\n",
        "\n",
        "---\n",
        "\n"
      ],
      "metadata": {
        "id": "BNJAUWgO60qn"
      }
    },
    {
      "cell_type": "markdown",
      "source": [
        "##Cross-validation"
      ],
      "metadata": {
        "id": "7HRchswO4ffN"
      }
    },
    {
      "cell_type": "code",
      "source": [
        "from sklearn.model_selection import cross_val_score\n",
        "from sklearn import svm\n",
        "\n",
        "\n",
        "# Crear un clasificador SVM\n",
        "clf = svm.SVC(kernel='linear', C=1, random_state=42)\n",
        "\n",
        "# Realizar la validación cruzada\n",
        "scores = cross_val_score(clf, X, y, cv=5)\n",
        "\n",
        "# Imprimir los resultados de cada fold\n",
        "for i, score in enumerate(scores):\n",
        "    print(f\"Fold {i+1}: {score}\")\n",
        "\n",
        "# Imprimir la precisión promedio y su desviación estándar\n",
        "print(f\"Precisión promedio: {scores.mean()} (+/- {scores.std()})\")"
      ],
      "metadata": {
        "colab": {
          "base_uri": "https://localhost:8080/"
        },
        "id": "GbQAr0h_4gBt",
        "outputId": "a2178712-c2c2-44ea-d38a-576d5e73b34c"
      },
      "execution_count": 94,
      "outputs": [
        {
          "output_type": "stream",
          "name": "stdout",
          "text": [
            "Fold 1: 0.9666666666666667\n",
            "Fold 2: 1.0\n",
            "Fold 3: 0.9666666666666667\n",
            "Fold 4: 0.9666666666666667\n",
            "Fold 5: 1.0\n",
            "Precisión promedio: 0.9800000000000001 (+/- 0.016329931618554516)\n"
          ]
        }
      ]
    },
    {
      "cell_type": "markdown",
      "source": [
        "Conclusión\n",
        "\n",
        "\n",
        "---\n",
        "\n",
        "Como vemos en cada fold (pliegue), se muestra la puntuación (score) obtenida en términos de precisión.\n",
        "Fold 1 tiene una puntuación de 0.9666666666666667\n",
        "\n",
        "Fold 2 tiene una puntuación de 1.0\n",
        "\n",
        "Fold 3 tiene una puntuación de 0.9666666666666667, y así sucesivamente. Estas puntuaciones representan el rendimiento del clasificador SVM en cada pliegue del conjunto de datos.\n",
        "\n",
        "La precisión promedio se calcula como la media de todas las puntuaciones obtenidas en los diferentes pliegues. En tu caso, la precisión promedio es de 0.9800000000000001. Esta métrica proporciona una medida general del rendimiento del clasificador SVM en todo el conjunto de datos.\n",
        "\n",
        "La desviación estándar se calcula como una medida de dispersión de las puntuaciones en los diferentes pliegues. En tu caso, la desviación estándar es de 0.016329931618554516. Una desviación estándar más alta indica una mayor variabilidad en las puntuaciones entre los pliegues.\n",
        "\n",
        "En resumen, los resultados muestran que el clasificador SVM tiene un rendimiento generalmente alto en cada pliegue individual, con puntuaciones que oscilan entre 0.966 y 1.0. La precisión promedio es de 0.98, lo que sugiere un buen rendimiento general del clasificador en el conjunto de datos completo. La desviación estándar de 0.016 indica una consistencia razonable en las puntuaciones entre los pliegues.\n",
        "\n",
        "\n",
        "---\n",
        "\n"
      ],
      "metadata": {
        "id": "xRaLgvyf6FrB"
      }
    }
  ]
}