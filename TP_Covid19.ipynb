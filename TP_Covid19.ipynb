{
  "nbformat": 4,
  "nbformat_minor": 0,
  "metadata": {
    "colab": {
      "provenance": [],
      "toc_visible": true,
      "include_colab_link": true
    },
    "kernelspec": {
      "name": "python3",
      "display_name": "Python 3"
    },
    "language_info": {
      "name": "python"
    }
  },
  "cells": [
    {
      "cell_type": "markdown",
      "metadata": {
        "id": "view-in-github",
        "colab_type": "text"
      },
      "source": [
        "<a href=\"https://colab.research.google.com/github/NicolasCaminos/Data_Science/blob/main/TP_Covid19.ipynb\" target=\"_parent\"><img src=\"https://colab.research.google.com/assets/colab-badge.svg\" alt=\"Open In Colab\"/></a>"
      ]
    },
    {
      "cell_type": "markdown",
      "source": [
        "# Introducción al Trabajo"
      ],
      "metadata": {
        "id": "1fwF6bYRq8u1"
      }
    },
    {
      "cell_type": "markdown",
      "source": [
        "La pandemia de COVID-19 ha afectado a millones de personas en todo el mundo y ha generado una gran cantidad de datos sobre la enfermedad y sus efectos en la salud de las personas. Este trabajo de Machine Learning se enfoca en analizar una base de datos sobre casos de COVID-19 obtenida de Kaggle.com, con el objetivo de determinar el riesgo de muerte de los pacientes.\n",
        "\n",
        "La base de datos incluye información relevante sobre las variables de análisis, tales como el sexo, edad, clasificación según test de COVID-19, tipo de tratamiento recibido por el paciente, presencia o ausencia de neumonía, embarazo (en caso de ser paciente femenino), diabetes, asma, enfermedades que obstruyen las vías respiratorias de manera crónica, enfermedades inmuno supresoras, hipertensión, enfermedades cardiovasculares, enfermedades crónicas renales, otras enfermedades, obesidad, nivel de atención médica recibido, intubación, admisión en una unidad de cuidados intensivos y, en su caso, fecha de muerte.\n",
        "\n",
        "El análisis de esta información permitirá entender mejor los factores que aumentan o disminuyen el riesgo de muerte en pacientes con COVID-19. Esta información puede ser de gran importancia para la toma de decisiones en el ámbito de la atención médica y para el desarrollo de estrategias de prevención y tratamiento efectivas. Además, el estudio de esta base de datos contribuirá a la investigación en torno a la COVID-19 y a la comprensión de la enfermedad.\n",
        "\n",
        "Se utilizarán técnicas de Machine Learning para entrenar un modelo capaz de predecir el riesgo de muerte de los pacientes con base en las variables de análisis mencionadas. Se evaluarán diferentes algoritmos de aprendizaje automático y se seleccionará el que proporcione mejores resultados.\n",
        "\n",
        "En conclusión, este trabajo de Machine Learning tiene el objetivo de analizar una base de datos sobre casos de COVID-19 y determinar el riesgo de muerte de los pacientes. Los resultados de este análisis pueden tener un impacto significativo en la atención médica y en la comprensión de la COVID-19. Esto contribuirá al avance del conocimiento en este ámbito y puede ser una herramienta valiosa para tomar decisiones informadas sobre el tratamiento de dicha enfermedad."
      ],
      "metadata": {
        "id": "LBFv1hlj8UUl"
      }
    },
    {
      "cell_type": "markdown",
      "source": [
        "<base>&nbsp;&nbsp;La idea principal de este trabajo es averiguar si existe una relación entre los casos de muerte, la sintomatologia y fisiologia del paciente para luego poder usar estas variables recolectadas en un modelo que permita reconocer los pacientes de riesgo que cursan por dicha enfermedad.<br>\n",
        "&nbsp;&nbsp;Para ello utilizaremos un Dataset que contiene el registro de casos de covid-19 con sus sintomas y en caso de que hayan muerto, sus fechas de muerte.<br>\n",
        "&nbsp;&nbsp;Los sintomas seran utilizados como variables independientes y la variable dependiente sera una que indique si murio o no, que deribara de dicha fecha.</base>"
      ],
      "metadata": {
        "id": "MfYvnCT5rHEC"
      }
    },
    {
      "cell_type": "markdown",
      "source": [
        "# About the DataSet (fuente y datos copiados de la misma)"
      ],
      "metadata": {
        "id": "yeX_5iVAO2lt"
      }
    },
    {
      "cell_type": "markdown",
      "source": [
        "## Fuente:"
      ],
      "metadata": {
        "id": "HDyuR1dRPe5l"
      }
    },
    {
      "cell_type": "markdown",
      "source": [
        "COVID-19 Dataset (kaggle):\n",
        "kaggle.com/datasets/meirnizri/covid19-dataset?resource=download"
      ],
      "metadata": {
        "id": "zVpKfefTPi15"
      }
    },
    {
      "cell_type": "markdown",
      "source": [
        "## Cotext"
      ],
      "metadata": {
        "id": "Ho-jzKLPPE6X"
      }
    },
    {
      "cell_type": "markdown",
      "source": [
        "Coronavirus disease (COVID-19) is an infectious disease caused by a newly discovered coronavirus. Most people infected with COVID-19 virus will experience mild to moderate respiratory illness and recover without requiring special treatment. Older people, and those with underlying medical problems like cardiovascular disease, diabetes, chronic respiratory disease, and cancer are more likely to develop serious illness.\n",
        "During the entire course of the pandemic, one of the main problems that healthcare providers have faced is the shortage of medical resources and a proper plan to efficiently distribute them. In these tough times, being able to predict what kind of resource an individual might require at the time of being tested positive or even before that will be of immense help to the authorities as they would be able to procure and arrange for the resources necessary to save the life of that patient.\n",
        "\n",
        "The main goal of this project is to build a machine learning model that, given a Covid-19 patient's current symptom, status, and medical history, will predict whether the patient is in high risk or not."
      ],
      "metadata": {
        "id": "JU_zqu9uPNO9"
      }
    },
    {
      "cell_type": "markdown",
      "source": [
        "## Content:"
      ],
      "metadata": {
        "id": "fKHzai7KPT72"
      }
    },
    {
      "cell_type": "markdown",
      "source": [
        "The dataset was provided by the Mexican government (link). This dataset contains an enormous number of anonymized patient-related information including pre-conditions. The raw dataset consists of 21 unique features and 1,048,576 unique patients. In the Boolean features, 1 means \"yes\" and 2 means \"no\". values as 97 and 99 are missing data.\n",
        "\n",
        "1. sex: 1 for female and 2 for male.\n",
        "2. age: of the patient.\n",
        "3. classification: covid test findings. Values 1-3 mean that the patient was diagnosed with covid in different\n",
        "degrees. 4 or higher means that the patient is not a carrier of covid or that the test is inconclusive.\n",
        "4. patient type: type of care the patient received in the unit. 1 for returned home and 2 for hospitalization.\n",
        "5. pneumonia: whether the patient already have air sacs inflammation or not.\n",
        "6. pregnancy: whether the patient is pregnant or not.\n",
        "7. diabetes: whether the patient has diabetes or not.\n",
        "8. copd: Indicates whether the patient has Chronic obstructive pulmonary disease or not.\n",
        "9. asthma: whether the patient has asthma or not.\n",
        "10. inmsupr: whether the patient is immunosuppressed or not.\n",
        "11. hypertension: whether the patient has hypertension or not.\n",
        "12. cardiovascular: whether the patient has heart or blood vessels related disease.\n",
        "13. renal chronic: whether the patient has chronic renal disease or not.\n",
        "14. other disease: whether the patient has other disease or not.\n",
        "15. obesity: whether the patient is obese or not.\n",
        "16. tobacco: whether the patient is a tobacco user.\n",
        "17. usmr: Indicates whether the patient treated medical units of the first, second or third level.\n",
        "18. medical unit: type of institution of the National Health System that provided the care.\n",
        "19. intubed: whether the patient was connected to the ventilator.\n",
        "20. icu: Indicates whether the patient had been admitted to an Intensive Care Unit.\n",
        "21. date died: If the patient died indicate the date of death, and 9999-99-99 otherwise."
      ],
      "metadata": {
        "id": "mChj92KRO9Q0"
      }
    },
    {
      "cell_type": "markdown",
      "source": [
        "# Importación de Archivos y Librerías"
      ],
      "metadata": {
        "id": "R-pAeCDWMxHj"
      }
    },
    {
      "cell_type": "markdown",
      "source": [
        "El archivo que utilizaremos sera: </content/drive/MyDrive/PROGRAMACION/coderhouse/tps/Covid19/CovidData.csv>"
      ],
      "metadata": {
        "id": "Y7HzFeRuM9v9"
      }
    },
    {
      "cell_type": "code",
      "execution_count": null,
      "metadata": {
        "id": "yUa1475DMmoW"
      },
      "outputs": [],
      "source": [
        "#importar librerias\n",
        "from google.colab import drive\n",
        "import pandas as pd\n",
        "import matplotlib as mpl\n",
        "import matplotlib.pyplot as plt\n",
        "import seaborn as sns\n",
        "import os"
      ]
    },
    {
      "cell_type": "code",
      "source": [
        "# Montar drive:\n",
        "drive.mount ('/content/drive')\n",
        "%cd \"/content/drive/MyDrive/PROGRAMACION/coderhouse/tps/Covid19\"\n",
        "df = pd.read_csv (\"CovidData.csv\")"
      ],
      "metadata": {
        "colab": {
          "base_uri": "https://localhost:8080/"
        },
        "id": "gLYCIvP7NsQM",
        "outputId": "32adf95e-b647-43b8-d0a2-70523fe86c6d"
      },
      "execution_count": null,
      "outputs": [
        {
          "output_type": "stream",
          "name": "stdout",
          "text": [
            "Mounted at /content/drive\n",
            "/content/drive/MyDrive/PROGRAMACION/coderhouse/tps/Covid19\n"
          ]
        }
      ]
    },
    {
      "cell_type": "markdown",
      "source": [
        "# Presentacion de Datos:"
      ],
      "metadata": {
        "id": "9iSz5m4SQIV3"
      }
    },
    {
      "cell_type": "code",
      "source": [
        "df.columns"
      ],
      "metadata": {
        "colab": {
          "base_uri": "https://localhost:8080/"
        },
        "id": "dWEtNutkVW9M",
        "outputId": "c46dfdd4-6c96-4716-d3b8-4b49b1d460a9"
      },
      "execution_count": null,
      "outputs": [
        {
          "output_type": "execute_result",
          "data": {
            "text/plain": [
              "Index(['USMER', 'MEDICAL_UNIT', 'SEX', 'PATIENT_TYPE', 'DATE_DIED', 'INTUBED',\n",
              "       'PNEUMONIA', 'AGE', 'PREGNANT', 'DIABETES', 'COPD', 'ASTHMA', 'INMSUPR',\n",
              "       'HIPERTENSION', 'OTHER_DISEASE', 'CARDIOVASCULAR', 'OBESITY',\n",
              "       'RENAL_CHRONIC', 'TOBACCO', 'CLASIFFICATION_FINAL', 'ICU'],\n",
              "      dtype='object')"
            ]
          },
          "metadata": {},
          "execution_count": 3
        }
      ]
    },
    {
      "cell_type": "code",
      "source": [
        "df.head(2)"
      ],
      "metadata": {
        "colab": {
          "base_uri": "https://localhost:8080/",
          "height": 205
        },
        "id": "W8Tl4F_RQT94",
        "outputId": "75087cf6-18e9-4ffc-ecbf-95632faef6ce"
      },
      "execution_count": null,
      "outputs": [
        {
          "output_type": "execute_result",
          "data": {
            "text/plain": [
              "   USMER  MEDICAL_UNIT  SEX  PATIENT_TYPE   DATE_DIED  INTUBED  PNEUMONIA  \\\n",
              "0      2             1    1             1  03/05/2020       97          1   \n",
              "1      2             1    2             1  03/06/2020       97          1   \n",
              "\n",
              "   AGE  PREGNANT  DIABETES  ...  ASTHMA  INMSUPR  HIPERTENSION  OTHER_DISEASE  \\\n",
              "0   65         2         2  ...       2        2             1              2   \n",
              "1   72        97         2  ...       2        2             1              2   \n",
              "\n",
              "   CARDIOVASCULAR  OBESITY  RENAL_CHRONIC  TOBACCO  CLASIFFICATION_FINAL  ICU  \n",
              "0               2        2              2        2                     3   97  \n",
              "1               2        1              1        2                     5   97  \n",
              "\n",
              "[2 rows x 21 columns]"
            ],
            "text/html": [
              "\n",
              "  <div id=\"df-cb695ef3-82df-4bb0-b716-704970913f90\">\n",
              "    <div class=\"colab-df-container\">\n",
              "      <div>\n",
              "<style scoped>\n",
              "    .dataframe tbody tr th:only-of-type {\n",
              "        vertical-align: middle;\n",
              "    }\n",
              "\n",
              "    .dataframe tbody tr th {\n",
              "        vertical-align: top;\n",
              "    }\n",
              "\n",
              "    .dataframe thead th {\n",
              "        text-align: right;\n",
              "    }\n",
              "</style>\n",
              "<table border=\"1\" class=\"dataframe\">\n",
              "  <thead>\n",
              "    <tr style=\"text-align: right;\">\n",
              "      <th></th>\n",
              "      <th>USMER</th>\n",
              "      <th>MEDICAL_UNIT</th>\n",
              "      <th>SEX</th>\n",
              "      <th>PATIENT_TYPE</th>\n",
              "      <th>DATE_DIED</th>\n",
              "      <th>INTUBED</th>\n",
              "      <th>PNEUMONIA</th>\n",
              "      <th>AGE</th>\n",
              "      <th>PREGNANT</th>\n",
              "      <th>DIABETES</th>\n",
              "      <th>...</th>\n",
              "      <th>ASTHMA</th>\n",
              "      <th>INMSUPR</th>\n",
              "      <th>HIPERTENSION</th>\n",
              "      <th>OTHER_DISEASE</th>\n",
              "      <th>CARDIOVASCULAR</th>\n",
              "      <th>OBESITY</th>\n",
              "      <th>RENAL_CHRONIC</th>\n",
              "      <th>TOBACCO</th>\n",
              "      <th>CLASIFFICATION_FINAL</th>\n",
              "      <th>ICU</th>\n",
              "    </tr>\n",
              "  </thead>\n",
              "  <tbody>\n",
              "    <tr>\n",
              "      <th>0</th>\n",
              "      <td>2</td>\n",
              "      <td>1</td>\n",
              "      <td>1</td>\n",
              "      <td>1</td>\n",
              "      <td>03/05/2020</td>\n",
              "      <td>97</td>\n",
              "      <td>1</td>\n",
              "      <td>65</td>\n",
              "      <td>2</td>\n",
              "      <td>2</td>\n",
              "      <td>...</td>\n",
              "      <td>2</td>\n",
              "      <td>2</td>\n",
              "      <td>1</td>\n",
              "      <td>2</td>\n",
              "      <td>2</td>\n",
              "      <td>2</td>\n",
              "      <td>2</td>\n",
              "      <td>2</td>\n",
              "      <td>3</td>\n",
              "      <td>97</td>\n",
              "    </tr>\n",
              "    <tr>\n",
              "      <th>1</th>\n",
              "      <td>2</td>\n",
              "      <td>1</td>\n",
              "      <td>2</td>\n",
              "      <td>1</td>\n",
              "      <td>03/06/2020</td>\n",
              "      <td>97</td>\n",
              "      <td>1</td>\n",
              "      <td>72</td>\n",
              "      <td>97</td>\n",
              "      <td>2</td>\n",
              "      <td>...</td>\n",
              "      <td>2</td>\n",
              "      <td>2</td>\n",
              "      <td>1</td>\n",
              "      <td>2</td>\n",
              "      <td>2</td>\n",
              "      <td>1</td>\n",
              "      <td>1</td>\n",
              "      <td>2</td>\n",
              "      <td>5</td>\n",
              "      <td>97</td>\n",
              "    </tr>\n",
              "  </tbody>\n",
              "</table>\n",
              "<p>2 rows × 21 columns</p>\n",
              "</div>\n",
              "      <button class=\"colab-df-convert\" onclick=\"convertToInteractive('df-cb695ef3-82df-4bb0-b716-704970913f90')\"\n",
              "              title=\"Convert this dataframe to an interactive table.\"\n",
              "              style=\"display:none;\">\n",
              "        \n",
              "  <svg xmlns=\"http://www.w3.org/2000/svg\" height=\"24px\"viewBox=\"0 0 24 24\"\n",
              "       width=\"24px\">\n",
              "    <path d=\"M0 0h24v24H0V0z\" fill=\"none\"/>\n",
              "    <path d=\"M18.56 5.44l.94 2.06.94-2.06 2.06-.94-2.06-.94-.94-2.06-.94 2.06-2.06.94zm-11 1L8.5 8.5l.94-2.06 2.06-.94-2.06-.94L8.5 2.5l-.94 2.06-2.06.94zm10 10l.94 2.06.94-2.06 2.06-.94-2.06-.94-.94-2.06-.94 2.06-2.06.94z\"/><path d=\"M17.41 7.96l-1.37-1.37c-.4-.4-.92-.59-1.43-.59-.52 0-1.04.2-1.43.59L10.3 9.45l-7.72 7.72c-.78.78-.78 2.05 0 2.83L4 21.41c.39.39.9.59 1.41.59.51 0 1.02-.2 1.41-.59l7.78-7.78 2.81-2.81c.8-.78.8-2.07 0-2.86zM5.41 20L4 18.59l7.72-7.72 1.47 1.35L5.41 20z\"/>\n",
              "  </svg>\n",
              "      </button>\n",
              "      \n",
              "  <style>\n",
              "    .colab-df-container {\n",
              "      display:flex;\n",
              "      flex-wrap:wrap;\n",
              "      gap: 12px;\n",
              "    }\n",
              "\n",
              "    .colab-df-convert {\n",
              "      background-color: #E8F0FE;\n",
              "      border: none;\n",
              "      border-radius: 50%;\n",
              "      cursor: pointer;\n",
              "      display: none;\n",
              "      fill: #1967D2;\n",
              "      height: 32px;\n",
              "      padding: 0 0 0 0;\n",
              "      width: 32px;\n",
              "    }\n",
              "\n",
              "    .colab-df-convert:hover {\n",
              "      background-color: #E2EBFA;\n",
              "      box-shadow: 0px 1px 2px rgba(60, 64, 67, 0.3), 0px 1px 3px 1px rgba(60, 64, 67, 0.15);\n",
              "      fill: #174EA6;\n",
              "    }\n",
              "\n",
              "    [theme=dark] .colab-df-convert {\n",
              "      background-color: #3B4455;\n",
              "      fill: #D2E3FC;\n",
              "    }\n",
              "\n",
              "    [theme=dark] .colab-df-convert:hover {\n",
              "      background-color: #434B5C;\n",
              "      box-shadow: 0px 1px 3px 1px rgba(0, 0, 0, 0.15);\n",
              "      filter: drop-shadow(0px 1px 2px rgba(0, 0, 0, 0.3));\n",
              "      fill: #FFFFFF;\n",
              "    }\n",
              "  </style>\n",
              "\n",
              "      <script>\n",
              "        const buttonEl =\n",
              "          document.querySelector('#df-cb695ef3-82df-4bb0-b716-704970913f90 button.colab-df-convert');\n",
              "        buttonEl.style.display =\n",
              "          google.colab.kernel.accessAllowed ? 'block' : 'none';\n",
              "\n",
              "        async function convertToInteractive(key) {\n",
              "          const element = document.querySelector('#df-cb695ef3-82df-4bb0-b716-704970913f90');\n",
              "          const dataTable =\n",
              "            await google.colab.kernel.invokeFunction('convertToInteractive',\n",
              "                                                     [key], {});\n",
              "          if (!dataTable) return;\n",
              "\n",
              "          const docLinkHtml = 'Like what you see? Visit the ' +\n",
              "            '<a target=\"_blank\" href=https://colab.research.google.com/notebooks/data_table.ipynb>data table notebook</a>'\n",
              "            + ' to learn more about interactive tables.';\n",
              "          element.innerHTML = '';\n",
              "          dataTable['output_type'] = 'display_data';\n",
              "          await google.colab.output.renderOutput(dataTable, element);\n",
              "          const docLink = document.createElement('div');\n",
              "          docLink.innerHTML = docLinkHtml;\n",
              "          element.appendChild(docLink);\n",
              "        }\n",
              "      </script>\n",
              "    </div>\n",
              "  </div>\n",
              "  "
            ]
          },
          "metadata": {},
          "execution_count": 4
        }
      ]
    },
    {
      "cell_type": "markdown",
      "source": [
        "## DATE_DIED --> MUERTE"
      ],
      "metadata": {
        "id": "Wqq-CTBPnEey"
      }
    },
    {
      "cell_type": "markdown",
      "source": [
        "Primero que nada vamos a visualizar y trabajar sobre nuestra variable principal que es la que usaremos como etiqueta."
      ],
      "metadata": {
        "id": "aNv-iwnwnQO1"
      }
    },
    {
      "cell_type": "markdown",
      "source": [
        "DATE_DIED es una variable que contiene las fechas de muerte de las personas registradas en la base de datos con formato dd/mm/aaaa y en caso de no coresponder la fecha de muerte porque el pasiente no murio, el dato sera \"9999-99-99\"."
      ],
      "metadata": {
        "id": "l5j707KCpnyb"
      }
    },
    {
      "cell_type": "code",
      "source": [
        "df[\"DATE_DIED\"][:10:2]"
      ],
      "metadata": {
        "colab": {
          "base_uri": "https://localhost:8080/"
        },
        "id": "ptixTpmNp5ny",
        "outputId": "e7b2db20-1359-4766-9c5c-25ea1f127aa9"
      },
      "execution_count": null,
      "outputs": [
        {
          "output_type": "execute_result",
          "data": {
            "text/plain": [
              "0    03/05/2020\n",
              "2    09/06/2020\n",
              "4    21/06/2020\n",
              "6    9999-99-99\n",
              "8    9999-99-99\n",
              "Name: DATE_DIED, dtype: object"
            ]
          },
          "metadata": {},
          "execution_count": 5
        }
      ]
    },
    {
      "cell_type": "code",
      "source": [
        "nm = len(df.loc[(df[\"DATE_DIED\"] != \"9999-99-99\"), \"DATE_DIED\"])\n",
        "ns = len(df.loc[(df[\"DATE_DIED\"] == \"9999-99-99\"), \"DATE_DIED\"])\n",
        "print(\"Numero de fechas de muertes: \",nm)\n",
        "print(\"Numero de sobrevivientes: \",ns)\n",
        "print(\"Total: \",nm+ns)"
      ],
      "metadata": {
        "colab": {
          "base_uri": "https://localhost:8080/"
        },
        "id": "gpJFVZadVtIA",
        "outputId": "4dbe188c-9e91-4353-b2d5-d6f74fefd0aa"
      },
      "execution_count": null,
      "outputs": [
        {
          "output_type": "stream",
          "name": "stdout",
          "text": [
            "Numero de fechas de muertes:  76942\n",
            "Numero de sobrevivientes:  971633\n",
            "Total:  1048575\n"
          ]
        }
      ]
    },
    {
      "cell_type": "markdown",
      "source": [
        "El dato de la fecha de muerte en si no nos interesa como tal, sino nos interesa saber si murio o no el pasiente por lo tanto vamos a reclasificar el dato simplificandolo a un simple dato booleano donde 1 significa muerto y o significa vivo."
      ],
      "metadata": {
        "id": "JKawcYLzs1e1"
      }
    },
    {
      "cell_type": "code",
      "source": [
        "df.loc[(df[\"DATE_DIED\"] == \"9999-99-99\"), \"MUERTE\"] = 0 # El valor indicara la supervivencia\n",
        "df.loc[(df[\"DATE_DIED\"] != \"9999-99-99\"), \"MUERTE\"] = 1 # El valor indicara la muerte\n",
        "df = df.drop([\"DATE_DIED\"], axis=\"columns\")\n",
        "df.head(2)"
      ],
      "metadata": {
        "colab": {
          "base_uri": "https://localhost:8080/",
          "height": 205
        },
        "id": "o-1qjBkcks7I",
        "outputId": "e3be8c3d-c152-4e91-ebc3-5132c1408df2"
      },
      "execution_count": null,
      "outputs": [
        {
          "output_type": "execute_result",
          "data": {
            "text/plain": [
              "   USMER  MEDICAL_UNIT  SEX  PATIENT_TYPE  INTUBED  PNEUMONIA  AGE  PREGNANT  \\\n",
              "0      2             1    1             1       97          1   65         2   \n",
              "1      2             1    2             1       97          1   72        97   \n",
              "\n",
              "   DIABETES  COPD  ...  INMSUPR  HIPERTENSION  OTHER_DISEASE  CARDIOVASCULAR  \\\n",
              "0         2     2  ...        2             1              2               2   \n",
              "1         2     2  ...        2             1              2               2   \n",
              "\n",
              "   OBESITY  RENAL_CHRONIC  TOBACCO  CLASIFFICATION_FINAL  ICU  MUERTE  \n",
              "0        2              2        2                     3   97     1.0  \n",
              "1        1              1        2                     5   97     1.0  \n",
              "\n",
              "[2 rows x 21 columns]"
            ],
            "text/html": [
              "\n",
              "  <div id=\"df-d16eeb2e-7179-4426-bcaf-292075df62a3\">\n",
              "    <div class=\"colab-df-container\">\n",
              "      <div>\n",
              "<style scoped>\n",
              "    .dataframe tbody tr th:only-of-type {\n",
              "        vertical-align: middle;\n",
              "    }\n",
              "\n",
              "    .dataframe tbody tr th {\n",
              "        vertical-align: top;\n",
              "    }\n",
              "\n",
              "    .dataframe thead th {\n",
              "        text-align: right;\n",
              "    }\n",
              "</style>\n",
              "<table border=\"1\" class=\"dataframe\">\n",
              "  <thead>\n",
              "    <tr style=\"text-align: right;\">\n",
              "      <th></th>\n",
              "      <th>USMER</th>\n",
              "      <th>MEDICAL_UNIT</th>\n",
              "      <th>SEX</th>\n",
              "      <th>PATIENT_TYPE</th>\n",
              "      <th>INTUBED</th>\n",
              "      <th>PNEUMONIA</th>\n",
              "      <th>AGE</th>\n",
              "      <th>PREGNANT</th>\n",
              "      <th>DIABETES</th>\n",
              "      <th>COPD</th>\n",
              "      <th>...</th>\n",
              "      <th>INMSUPR</th>\n",
              "      <th>HIPERTENSION</th>\n",
              "      <th>OTHER_DISEASE</th>\n",
              "      <th>CARDIOVASCULAR</th>\n",
              "      <th>OBESITY</th>\n",
              "      <th>RENAL_CHRONIC</th>\n",
              "      <th>TOBACCO</th>\n",
              "      <th>CLASIFFICATION_FINAL</th>\n",
              "      <th>ICU</th>\n",
              "      <th>MUERTE</th>\n",
              "    </tr>\n",
              "  </thead>\n",
              "  <tbody>\n",
              "    <tr>\n",
              "      <th>0</th>\n",
              "      <td>2</td>\n",
              "      <td>1</td>\n",
              "      <td>1</td>\n",
              "      <td>1</td>\n",
              "      <td>97</td>\n",
              "      <td>1</td>\n",
              "      <td>65</td>\n",
              "      <td>2</td>\n",
              "      <td>2</td>\n",
              "      <td>2</td>\n",
              "      <td>...</td>\n",
              "      <td>2</td>\n",
              "      <td>1</td>\n",
              "      <td>2</td>\n",
              "      <td>2</td>\n",
              "      <td>2</td>\n",
              "      <td>2</td>\n",
              "      <td>2</td>\n",
              "      <td>3</td>\n",
              "      <td>97</td>\n",
              "      <td>1.0</td>\n",
              "    </tr>\n",
              "    <tr>\n",
              "      <th>1</th>\n",
              "      <td>2</td>\n",
              "      <td>1</td>\n",
              "      <td>2</td>\n",
              "      <td>1</td>\n",
              "      <td>97</td>\n",
              "      <td>1</td>\n",
              "      <td>72</td>\n",
              "      <td>97</td>\n",
              "      <td>2</td>\n",
              "      <td>2</td>\n",
              "      <td>...</td>\n",
              "      <td>2</td>\n",
              "      <td>1</td>\n",
              "      <td>2</td>\n",
              "      <td>2</td>\n",
              "      <td>1</td>\n",
              "      <td>1</td>\n",
              "      <td>2</td>\n",
              "      <td>5</td>\n",
              "      <td>97</td>\n",
              "      <td>1.0</td>\n",
              "    </tr>\n",
              "  </tbody>\n",
              "</table>\n",
              "<p>2 rows × 21 columns</p>\n",
              "</div>\n",
              "      <button class=\"colab-df-convert\" onclick=\"convertToInteractive('df-d16eeb2e-7179-4426-bcaf-292075df62a3')\"\n",
              "              title=\"Convert this dataframe to an interactive table.\"\n",
              "              style=\"display:none;\">\n",
              "        \n",
              "  <svg xmlns=\"http://www.w3.org/2000/svg\" height=\"24px\"viewBox=\"0 0 24 24\"\n",
              "       width=\"24px\">\n",
              "    <path d=\"M0 0h24v24H0V0z\" fill=\"none\"/>\n",
              "    <path d=\"M18.56 5.44l.94 2.06.94-2.06 2.06-.94-2.06-.94-.94-2.06-.94 2.06-2.06.94zm-11 1L8.5 8.5l.94-2.06 2.06-.94-2.06-.94L8.5 2.5l-.94 2.06-2.06.94zm10 10l.94 2.06.94-2.06 2.06-.94-2.06-.94-.94-2.06-.94 2.06-2.06.94z\"/><path d=\"M17.41 7.96l-1.37-1.37c-.4-.4-.92-.59-1.43-.59-.52 0-1.04.2-1.43.59L10.3 9.45l-7.72 7.72c-.78.78-.78 2.05 0 2.83L4 21.41c.39.39.9.59 1.41.59.51 0 1.02-.2 1.41-.59l7.78-7.78 2.81-2.81c.8-.78.8-2.07 0-2.86zM5.41 20L4 18.59l7.72-7.72 1.47 1.35L5.41 20z\"/>\n",
              "  </svg>\n",
              "      </button>\n",
              "      \n",
              "  <style>\n",
              "    .colab-df-container {\n",
              "      display:flex;\n",
              "      flex-wrap:wrap;\n",
              "      gap: 12px;\n",
              "    }\n",
              "\n",
              "    .colab-df-convert {\n",
              "      background-color: #E8F0FE;\n",
              "      border: none;\n",
              "      border-radius: 50%;\n",
              "      cursor: pointer;\n",
              "      display: none;\n",
              "      fill: #1967D2;\n",
              "      height: 32px;\n",
              "      padding: 0 0 0 0;\n",
              "      width: 32px;\n",
              "    }\n",
              "\n",
              "    .colab-df-convert:hover {\n",
              "      background-color: #E2EBFA;\n",
              "      box-shadow: 0px 1px 2px rgba(60, 64, 67, 0.3), 0px 1px 3px 1px rgba(60, 64, 67, 0.15);\n",
              "      fill: #174EA6;\n",
              "    }\n",
              "\n",
              "    [theme=dark] .colab-df-convert {\n",
              "      background-color: #3B4455;\n",
              "      fill: #D2E3FC;\n",
              "    }\n",
              "\n",
              "    [theme=dark] .colab-df-convert:hover {\n",
              "      background-color: #434B5C;\n",
              "      box-shadow: 0px 1px 3px 1px rgba(0, 0, 0, 0.15);\n",
              "      filter: drop-shadow(0px 1px 2px rgba(0, 0, 0, 0.3));\n",
              "      fill: #FFFFFF;\n",
              "    }\n",
              "  </style>\n",
              "\n",
              "      <script>\n",
              "        const buttonEl =\n",
              "          document.querySelector('#df-d16eeb2e-7179-4426-bcaf-292075df62a3 button.colab-df-convert');\n",
              "        buttonEl.style.display =\n",
              "          google.colab.kernel.accessAllowed ? 'block' : 'none';\n",
              "\n",
              "        async function convertToInteractive(key) {\n",
              "          const element = document.querySelector('#df-d16eeb2e-7179-4426-bcaf-292075df62a3');\n",
              "          const dataTable =\n",
              "            await google.colab.kernel.invokeFunction('convertToInteractive',\n",
              "                                                     [key], {});\n",
              "          if (!dataTable) return;\n",
              "\n",
              "          const docLinkHtml = 'Like what you see? Visit the ' +\n",
              "            '<a target=\"_blank\" href=https://colab.research.google.com/notebooks/data_table.ipynb>data table notebook</a>'\n",
              "            + ' to learn more about interactive tables.';\n",
              "          element.innerHTML = '';\n",
              "          dataTable['output_type'] = 'display_data';\n",
              "          await google.colab.output.renderOutput(dataTable, element);\n",
              "          const docLink = document.createElement('div');\n",
              "          docLink.innerHTML = docLinkHtml;\n",
              "          element.appendChild(docLink);\n",
              "        }\n",
              "      </script>\n",
              "    </div>\n",
              "  </div>\n",
              "  "
            ]
          },
          "metadata": {},
          "execution_count": 7
        }
      ]
    },
    {
      "cell_type": "markdown",
      "source": [
        "## USMER"
      ],
      "metadata": {
        "id": "nNpE86acu3jr"
      }
    },
    {
      "cell_type": "markdown",
      "source": [
        "USMER es una variable que indica si el paciente fue tratado por unidades medicas de primer, segundo o tercer nivel."
      ],
      "metadata": {
        "id": "uX6XWYgFwFKf"
      }
    },
    {
      "cell_type": "code",
      "source": [
        "df[\"USMER\"].value_counts()"
      ],
      "metadata": {
        "colab": {
          "base_uri": "https://localhost:8080/"
        },
        "id": "QcG7DjTbwYq0",
        "outputId": "5f65454d-f1f2-44c7-8800-a935b416bbd6"
      },
      "execution_count": null,
      "outputs": [
        {
          "output_type": "execute_result",
          "data": {
            "text/plain": [
              "2    662903\n",
              "1    385672\n",
              "Name: USMER, dtype: int64"
            ]
          },
          "metadata": {},
          "execution_count": 8
        }
      ]
    },
    {
      "cell_type": "markdown",
      "source": [
        "Al parecer la variable no contiene registros de pasientes que sean atendidos en UM del tercer nivel, como tampoco contiene unidades nulas o no registradas."
      ],
      "metadata": {
        "id": "-KMO0ayMw8Eq"
      }
    },
    {
      "cell_type": "markdown",
      "source": [
        "Por conveniencia matemática, transformare el atributo en un booleano de 1 para los pacientes tratados en unidades medicas de primera categoria y 0 para los demás."
      ],
      "metadata": {
        "id": "PLxxtn-KxXb1"
      }
    },
    {
      "cell_type": "code",
      "source": [
        "df.loc[(df[\"USMER\"] == 2), \"USMER\"] = 0\n",
        "df[\"USMER\"].value_counts()"
      ],
      "metadata": {
        "colab": {
          "base_uri": "https://localhost:8080/"
        },
        "id": "DFtoXaUoyD6G",
        "outputId": "683c1f94-cfd1-4c96-8484-abb428565e44"
      },
      "execution_count": null,
      "outputs": [
        {
          "output_type": "execute_result",
          "data": {
            "text/plain": [
              "0    662903\n",
              "1    385672\n",
              "Name: USMER, dtype: int64"
            ]
          },
          "metadata": {},
          "execution_count": 9
        }
      ]
    },
    {
      "cell_type": "markdown",
      "source": [
        "##MEDICAL_UNIT --> MU4 , MU12"
      ],
      "metadata": {
        "id": "C7jHb6WGyncb"
      }
    },
    {
      "cell_type": "markdown",
      "source": [
        "\n",
        "MEDICAL_UNIT es el tipo de institución del Sistema Nacional de Salud que brindó la atención."
      ],
      "metadata": {
        "id": "F04-inBUy2o7"
      }
    },
    {
      "cell_type": "code",
      "source": [
        "df['MEDICAL_UNIT'].value_counts()"
      ],
      "metadata": {
        "colab": {
          "base_uri": "https://localhost:8080/"
        },
        "id": "2C21t8Mgy_vr",
        "outputId": "abc256bf-661f-49fd-ae24-e5ecae6fe679"
      },
      "execution_count": null,
      "outputs": [
        {
          "output_type": "execute_result",
          "data": {
            "text/plain": [
              "12    602995\n",
              "4     314405\n",
              "6      40584\n",
              "9      38116\n",
              "3      19175\n",
              "8      10399\n",
              "10      7873\n",
              "5       7244\n",
              "11      5577\n",
              "13       996\n",
              "7        891\n",
              "2        169\n",
              "1        151\n",
              "Name: MEDICAL_UNIT, dtype: int64"
            ]
          },
          "metadata": {},
          "execution_count": 10
        }
      ]
    },
    {
      "cell_type": "markdown",
      "source": [
        "Podemos notar que esta variable es clasificatoria pero esta expresada como variable numerica, lo que refleja una falsa idea de proporcionalidad. Vamos a transformarla en varias variables de clasificación booleana pero antes vamos a definir un criterio clasificatorio."
      ],
      "metadata": {
        "id": "tXt8ZGKI0fzE"
      }
    },
    {
      "cell_type": "code",
      "source": [
        "round(df['MEDICAL_UNIT'].value_counts(normalize=True)*100,2)"
      ],
      "metadata": {
        "colab": {
          "base_uri": "https://localhost:8080/"
        },
        "id": "PFZEA1wZ0A0h",
        "outputId": "6625a8dc-c535-44c8-86cc-ad6afceacb5a"
      },
      "execution_count": null,
      "outputs": [
        {
          "output_type": "execute_result",
          "data": {
            "text/plain": [
              "12    57.51\n",
              "4     29.98\n",
              "6      3.87\n",
              "9      3.64\n",
              "3      1.83\n",
              "8      0.99\n",
              "10     0.75\n",
              "5      0.69\n",
              "11     0.53\n",
              "13     0.09\n",
              "7      0.08\n",
              "2      0.02\n",
              "1      0.01\n",
              "Name: MEDICAL_UNIT, dtype: float64"
            ]
          },
          "metadata": {},
          "execution_count": 11
        }
      ]
    },
    {
      "cell_type": "markdown",
      "source": [
        "Las Unidades medicas de tipo 12 y 4 son las mas populares por lo que separaremos esas de las demás en dos variables nuevas MU4 y MU12 con valores booleanos."
      ],
      "metadata": {
        "id": "-YitwJ4f1XNU"
      }
    },
    {
      "cell_type": "code",
      "source": [
        "df.loc[(df[\"MEDICAL_UNIT\"] == 4), \"MU4\"] = 1\n",
        "df.loc[(df[\"MEDICAL_UNIT\"] != 4), \"MU4\"] = 0\n",
        "df.loc[(df[\"MEDICAL_UNIT\"] == 12), \"MU12\"] = 1\n",
        "df.loc[(df[\"MEDICAL_UNIT\"] != 12), \"MU12\"] = 0\n",
        "df = df.drop([\"MEDICAL_UNIT\"], axis=\"columns\")"
      ],
      "metadata": {
        "id": "P8J7dA_s1u5h"
      },
      "execution_count": null,
      "outputs": []
    },
    {
      "cell_type": "markdown",
      "source": [
        "##SEX"
      ],
      "metadata": {
        "id": "zohBGTQQ2tzZ"
      }
    },
    {
      "cell_type": "markdown",
      "source": [
        "SEX es la variable que discrimina en 1 si es Femenino y 2 si es masculino."
      ],
      "metadata": {
        "id": "lZHcSURh2yCB"
      }
    },
    {
      "cell_type": "code",
      "source": [
        "df['SEX'].value_counts()"
      ],
      "metadata": {
        "colab": {
          "base_uri": "https://localhost:8080/"
        },
        "id": "nl1T6ejN37NY",
        "outputId": "95dfa678-0059-4d79-93ca-69f653f1cc04"
      },
      "execution_count": null,
      "outputs": [
        {
          "output_type": "execute_result",
          "data": {
            "text/plain": [
              "1    525064\n",
              "2    523511\n",
              "Name: SEX, dtype: int64"
            ]
          },
          "metadata": {},
          "execution_count": 13
        }
      ]
    },
    {
      "cell_type": "markdown",
      "source": [
        "Se puede observar que la variable es bastante pareja y no contiene nulos ni faltantes."
      ],
      "metadata": {
        "id": "l3FeSCXX4cCZ"
      }
    },
    {
      "cell_type": "markdown",
      "source": [
        "Para esta variable aplicaremos el mismo criterio que en el caso anterior de trasformarlo en variable booleana para lo cual sera 1 para femenino y 0 para masculino (no femenino)."
      ],
      "metadata": {
        "id": "iED9gCfN3U8h"
      }
    },
    {
      "cell_type": "code",
      "source": [
        "df.loc[(df[\"SEX\"] == 2), \"SEX\"] = 0"
      ],
      "metadata": {
        "id": "hfx-u4HF4RHZ"
      },
      "execution_count": null,
      "outputs": []
    },
    {
      "cell_type": "markdown",
      "source": [
        "##PATIENT_TYPE --> HOSP"
      ],
      "metadata": {
        "id": "zX9XPmD546KU"
      }
    },
    {
      "cell_type": "markdown",
      "source": [
        "PATIENT_TYPE es la variable que indica tipo de atención que recibió el paciente en la unidad donde 1 indica regreso a casa y 2 hospitalización."
      ],
      "metadata": {
        "id": "9cwK7NTZ5Vf8"
      }
    },
    {
      "cell_type": "code",
      "source": [
        "df[\"PATIENT_TYPE\"].value_counts()"
      ],
      "metadata": {
        "colab": {
          "base_uri": "https://localhost:8080/"
        },
        "id": "NGsYf5iR4-sM",
        "outputId": "21248cd8-2a81-48e3-eafd-d08c8850d7d4"
      },
      "execution_count": null,
      "outputs": [
        {
          "output_type": "execute_result",
          "data": {
            "text/plain": [
              "1    848544\n",
              "2    200031\n",
              "Name: PATIENT_TYPE, dtype: int64"
            ]
          },
          "metadata": {},
          "execution_count": 15
        }
      ]
    },
    {
      "cell_type": "markdown",
      "source": [
        "Se observa que no hay nulos ni fallos de registro y se nota que las dos variables son del mismo orden (una es aproximadamente 4 veces la otra)."
      ],
      "metadata": {
        "id": "UJwZCORt5k0a"
      }
    },
    {
      "cell_type": "markdown",
      "source": [
        "Transformaremos la variable PATIENT_TYPE en HOSP variable en una que indique hospitalizacion si o no. Donde 1 es si y 0 es no."
      ],
      "metadata": {
        "id": "norxvJLw59QJ"
      }
    },
    {
      "cell_type": "code",
      "source": [
        "df.rename(columns={'PATIENT_TYPE':'HOSP'},inplace=True)\n",
        "df.columns"
      ],
      "metadata": {
        "colab": {
          "base_uri": "https://localhost:8080/"
        },
        "id": "Wbb2HA4K7Od5",
        "outputId": "b48cee38-26d4-4ce6-de19-d4ee8883e545"
      },
      "execution_count": null,
      "outputs": [
        {
          "output_type": "execute_result",
          "data": {
            "text/plain": [
              "Index(['USMER', 'SEX', 'HOSP', 'INTUBED', 'PNEUMONIA', 'AGE', 'PREGNANT',\n",
              "       'DIABETES', 'COPD', 'ASTHMA', 'INMSUPR', 'HIPERTENSION',\n",
              "       'OTHER_DISEASE', 'CARDIOVASCULAR', 'OBESITY', 'RENAL_CHRONIC',\n",
              "       'TOBACCO', 'CLASIFFICATION_FINAL', 'ICU', 'MUERTE', 'MU4', 'MU12'],\n",
              "      dtype='object')"
            ]
          },
          "metadata": {},
          "execution_count": 16
        }
      ]
    },
    {
      "cell_type": "code",
      "source": [
        "df.loc[(df[\"HOSP\"] == 1), \"HOSP\"] = 0 # El 1 indicaba que fue enviado al domicilio\n",
        "df.loc[(df[\"HOSP\"] == 2), \"HOSP\"] = 1 # El 2 indicaba que fue hospitalizado"
      ],
      "metadata": {
        "id": "Z-2WF_Ri8I2Z"
      },
      "execution_count": null,
      "outputs": []
    },
    {
      "cell_type": "markdown",
      "source": [
        "##INTUBED --> X (eliminada)"
      ],
      "metadata": {
        "id": "pS47CHEuA0CT"
      }
    },
    {
      "cell_type": "markdown",
      "source": [
        "INTUBED indica si el paciente estaba conectado al ventilador."
      ],
      "metadata": {
        "id": "9QABn7GnA7Cn"
      }
    },
    {
      "cell_type": "code",
      "source": [
        "df[\"INTUBED\"].value_counts()"
      ],
      "metadata": {
        "colab": {
          "base_uri": "https://localhost:8080/"
        },
        "id": "b6MTh-64BTqm",
        "outputId": "e720eec3-8f02-40a2-a305-44b8b46e97e5"
      },
      "execution_count": null,
      "outputs": [
        {
          "output_type": "execute_result",
          "data": {
            "text/plain": [
              "97    848544\n",
              "2     159050\n",
              "1      33656\n",
              "99      7325\n",
              "Name: INTUBED, dtype: int64"
            ]
          },
          "metadata": {},
          "execution_count": 18
        }
      ]
    },
    {
      "cell_type": "code",
      "source": [
        "round(df[\"INTUBED\"].value_counts(normalize=True)*100,2)"
      ],
      "metadata": {
        "colab": {
          "base_uri": "https://localhost:8080/"
        },
        "id": "S-pK2JSaBf6d",
        "outputId": "18a9bf05-1f59-49e3-f49e-35aabf7d063a"
      },
      "execution_count": null,
      "outputs": [
        {
          "output_type": "execute_result",
          "data": {
            "text/plain": [
              "97    80.92\n",
              "2     15.17\n",
              "1      3.21\n",
              "99     0.70\n",
              "Name: INTUBED, dtype: float64"
            ]
          },
          "metadata": {},
          "execution_count": 19
        }
      ]
    },
    {
      "cell_type": "markdown",
      "source": [
        "Se puede notar que en esta variable el 81% esta conformado por datos faltantes por lo cual no resulta viable y debemos eliminarla."
      ],
      "metadata": {
        "id": "ZNYs3MYmCgVM"
      }
    },
    {
      "cell_type": "code",
      "source": [
        "df.drop([\"INTUBED\"], axis=\"columns\", inplace=True)"
      ],
      "metadata": {
        "id": "t2xqucmWC5uV"
      },
      "execution_count": null,
      "outputs": []
    },
    {
      "cell_type": "markdown",
      "source": [
        "##PNEUMONIA"
      ],
      "metadata": {
        "id": "w19ji2LdDLNy"
      }
    },
    {
      "cell_type": "markdown",
      "source": [
        "PNEUMONIA es una variable que indica si el paciente ya tiene inflamación de los alvéolos o no."
      ],
      "metadata": {
        "id": "WOjyT2HkDYEl"
      }
    },
    {
      "cell_type": "code",
      "source": [
        "df['PNEUMONIA'].value_counts()"
      ],
      "metadata": {
        "colab": {
          "base_uri": "https://localhost:8080/"
        },
        "id": "r9C6x4oEDdyb",
        "outputId": "70cad139-60c6-4542-a968-eac02f521740"
      },
      "execution_count": null,
      "outputs": [
        {
          "output_type": "execute_result",
          "data": {
            "text/plain": [
              "2     892534\n",
              "1     140038\n",
              "99     16003\n",
              "Name: PNEUMONIA, dtype: int64"
            ]
          },
          "metadata": {},
          "execution_count": 21
        }
      ]
    },
    {
      "cell_type": "code",
      "source": [
        "round(df[\"PNEUMONIA\"].value_counts(normalize=True)*100,2)"
      ],
      "metadata": {
        "colab": {
          "base_uri": "https://localhost:8080/"
        },
        "id": "MZzxejLZDoRF",
        "outputId": "4fba8f04-81bd-42e3-8941-7b897bd6353d"
      },
      "execution_count": null,
      "outputs": [
        {
          "output_type": "execute_result",
          "data": {
            "text/plain": [
              "2     85.12\n",
              "1     13.36\n",
              "99     1.53\n",
              "Name: PNEUMONIA, dtype: float64"
            ]
          },
          "metadata": {},
          "execution_count": 22
        }
      ]
    },
    {
      "cell_type": "markdown",
      "source": [
        "En el caso de esta variable. Los registros faltantes comprenden un 1.53% por lo cual podemos eliminarlos Teniendo en cuenta que la cantidad de registros esta por encima del millon."
      ],
      "metadata": {
        "id": "pVHR0-zzD6R3"
      }
    },
    {
      "cell_type": "code",
      "source": [
        "df.drop(df.loc[(df[\"PNEUMONIA\"] == 99)].index, axis=0, inplace=True)\n",
        "df['PNEUMONIA'].value_counts()"
      ],
      "metadata": {
        "colab": {
          "base_uri": "https://localhost:8080/"
        },
        "id": "B3ELWLiaERl1",
        "outputId": "55e41e74-d637-4ceb-dc7d-af50ca28ccce"
      },
      "execution_count": null,
      "outputs": [
        {
          "output_type": "execute_result",
          "data": {
            "text/plain": [
              "2    892534\n",
              "1    140038\n",
              "Name: PNEUMONIA, dtype: int64"
            ]
          },
          "metadata": {},
          "execution_count": 23
        }
      ]
    },
    {
      "cell_type": "markdown",
      "source": [
        "##AGE"
      ],
      "metadata": {
        "id": "gcLysWeXK8km"
      }
    },
    {
      "cell_type": "markdown",
      "source": [
        "AGE es la variable que registra la edad de los pacientes"
      ],
      "metadata": {
        "id": "lHZdMXf5LCqZ"
      }
    },
    {
      "cell_type": "code",
      "source": [
        "df.loc[(df[\"AGE\"] > 120)][\"AGE\"].count()"
      ],
      "metadata": {
        "colab": {
          "base_uri": "https://localhost:8080/"
        },
        "id": "t-0SyrrOMc3D",
        "outputId": "a352a58a-8efb-4dc3-a9ab-8eb3623acacf"
      },
      "execution_count": null,
      "outputs": [
        {
          "output_type": "execute_result",
          "data": {
            "text/plain": [
              "1"
            ]
          },
          "metadata": {},
          "execution_count": 24
        }
      ]
    },
    {
      "cell_type": "code",
      "source": [
        "sns.distplot(df['AGE']);"
      ],
      "metadata": {
        "colab": {
          "base_uri": "https://localhost:8080/",
          "height": 334
        },
        "id": "wQ9SmBRMMOUK",
        "outputId": "0623e314-04a9-4dc3-b894-6b35ae7359d2"
      },
      "execution_count": null,
      "outputs": [
        {
          "output_type": "stream",
          "name": "stderr",
          "text": [
            "/usr/local/lib/python3.8/dist-packages/seaborn/distributions.py:2619: FutureWarning: `distplot` is a deprecated function and will be removed in a future version. Please adapt your code to use either `displot` (a figure-level function with similar flexibility) or `histplot` (an axes-level function for histograms).\n",
            "  warnings.warn(msg, FutureWarning)\n"
          ]
        },
        {
          "output_type": "display_data",
          "data": {
            "text/plain": [
              "<Figure size 432x288 with 1 Axes>"
            ],
            "image/png": "[encoded data removed]"
          },
          "metadata": {
            "needs_background": "light"
          }
        }
      ]
    },
    {
      "cell_type": "markdown",
      "source": [
        "Por el momento se puede ver en primera instancia que los valores de distribucion no aparentan tener valores muy atipicos aunque posiblemente se deba restringir el intervalo de confianza aunque eso lo dejaremos para trabajo posterior. "
      ],
      "metadata": {
        "id": "C7elHcF2OtIh"
      }
    },
    {
      "cell_type": "markdown",
      "source": [
        "##PREGNANT --> X (Eliminada)"
      ],
      "metadata": {
        "id": "dfT4r_V7u8qw"
      }
    },
    {
      "cell_type": "markdown",
      "source": [
        "PREGNANT es la variable que indica la situacion de embarazo. Indicando con 1 si esta embarazada, 2 si no lo esta, 97 si es hombre y 98 si es mujer pero no se registra embarazo (informacion perdida)."
      ],
      "metadata": {
        "id": "tiurRcNkPSwx"
      }
    },
    {
      "cell_type": "code",
      "source": [
        "\n",
        "df.loc[(df[\"PREGNANT\"] == 1), \"PREGNANT\"] = \"EMBARAZADA\"\n",
        "df.loc[(df[\"PREGNANT\"] == 2), \"PREGNANT\"] = \"NO EMBARAZADA\"\n",
        "df.loc[(df[\"PREGNANT\"] == 97), \"PREGNANT\"] = \"HOMBRE\"\n",
        "df.loc[(df[\"PREGNANT\"] == 98), \"PREGNANT\"] = \"MUJER S/R\""
      ],
      "metadata": {
        "id": "lEGObxHUd5Yc"
      },
      "execution_count": null,
      "outputs": []
    },
    {
      "cell_type": "markdown",
      "source": [
        "Para comenzar analizaremos la variable de embarazo para ver su significancia en los casos y entender si la misma tiene o no importancia al momento de determinar los casos de muerte."
      ],
      "metadata": {
        "id": "tgeK7GCCvBec"
      }
    },
    {
      "cell_type": "code",
      "source": [
        "freq = df.groupby([\"PREGNANT\"])[\"PREGNANT\"].count()\n",
        "freq"
      ],
      "metadata": {
        "colab": {
          "base_uri": "https://localhost:8080/"
        },
        "id": "utDc4QSGP4lQ",
        "outputId": "991e24f0-d66e-423c-f3eb-0d22bbefa7a7"
      },
      "execution_count": null,
      "outputs": [
        {
          "output_type": "execute_result",
          "data": {
            "text/plain": [
              "PREGNANT\n",
              "EMBARAZADA         7870\n",
              "HOMBRE           516154\n",
              "MUJER S/R          3389\n",
              "NO EMBARAZADA    505159\n",
              "Name: PREGNANT, dtype: int64"
            ]
          },
          "metadata": {},
          "execution_count": 27
        }
      ]
    },
    {
      "cell_type": "code",
      "source": [
        "round(df[\"PREGNANT\"].value_counts(normalize=True)*100,2)"
      ],
      "metadata": {
        "colab": {
          "base_uri": "https://localhost:8080/"
        },
        "id": "ox6razgxRMxF",
        "outputId": "ef1f335b-ae5a-406f-fafb-ed54b8b211f0"
      },
      "execution_count": null,
      "outputs": [
        {
          "output_type": "execute_result",
          "data": {
            "text/plain": [
              "HOMBRE           49.99\n",
              "NO EMBARAZADA    48.92\n",
              "EMBARAZADA        0.76\n",
              "MUJER S/R         0.33\n",
              "Name: PREGNANT, dtype: float64"
            ]
          },
          "metadata": {},
          "execution_count": 28
        }
      ]
    },
    {
      "cell_type": "code",
      "source": [
        "fig, ax = plt.subplots(figsize=(15,6))\n",
        "ax.set_title(\"Tabla de Frecuencias de Embarazo\")\n",
        "ax.set_xlabel(\"Clasificación\")\n",
        "ax.set_ylabel(\"Cantidad de Personas\")\n",
        "ax.bar (freq.index[:],freq.values)# X lista de columnas e Y las frecuencias acumuladas de X"
      ],
      "metadata": {
        "colab": {
          "base_uri": "https://localhost:8080/",
          "height": 421
        },
        "id": "k74Tua7ZQWz3",
        "outputId": "0f5dbd10-4175-48b6-eb11-ae83ed762228"
      },
      "execution_count": null,
      "outputs": [
        {
          "output_type": "execute_result",
          "data": {
            "text/plain": [
              "<BarContainer object of 4 artists>"
            ]
          },
          "metadata": {},
          "execution_count": 29
        },
        {
          "output_type": "display_data",
          "data": {
            "text/plain": [
              "<Figure size 1080x432 with 1 Axes>"
            ],
            "image/png": "[encoded data removed]"
          },
          "metadata": {
            "needs_background": "light"
          }
        }
      ]
    },
    {
      "cell_type": "markdown",
      "source": [
        "<h3>Del gráfico podemos sacar las siguientes concluciones:</h3>\n",
        "<base>&nbsp;&nbsp;La población de mujeres embarazadas es casi insignificante y a su vez comparable a la cantidad de mujeres que no pudieron ser catalogadas.<br>\n",
        "&nbsp;&nbsp;Al no saber la naturaleza de porque no pudieron ser catalogadas no podemos suponer que probabilidad hay de que sean embarazadas o no por lo tanto podriamos esperar que sean todas \"embarazadas\" o que sean todas \"no embarazadas\".<br>\n",
        "&nbsp;&nbsp;Es por esto que la variable no tiene cantidad de datos relevantes para que nos sea de utilidad y por ende la misma debe ser eliminada.\n",
        "<base>"
      ],
      "metadata": {
        "id": "VXzTYIc3mxZ_"
      }
    },
    {
      "cell_type": "code",
      "source": [
        "df.drop([\"PREGNANT\"], axis=\"columns\", inplace=True)"
      ],
      "metadata": {
        "id": "w3M8PZQbR8Gn"
      },
      "execution_count": null,
      "outputs": []
    },
    {
      "cell_type": "markdown",
      "source": [
        "##DIABETES"
      ],
      "metadata": {
        "id": "mFXWihLsSQ1s"
      }
    },
    {
      "cell_type": "markdown",
      "source": [
        "DIABETES es la variable que indica cuando el paciente tien o no diabetes."
      ],
      "metadata": {
        "id": "J-xHIWb1SS3R"
      }
    },
    {
      "cell_type": "code",
      "source": [
        "df[\"DIABETES\"].value_counts()"
      ],
      "metadata": {
        "colab": {
          "base_uri": "https://localhost:8080/"
        },
        "id": "-dcW5F2AUXLk",
        "outputId": "375be8fe-db4c-492c-ac9f-7ac2e7958d69"
      },
      "execution_count": null,
      "outputs": [
        {
          "output_type": "execute_result",
          "data": {
            "text/plain": [
              "2     905856\n",
              "1     123395\n",
              "98      3321\n",
              "Name: DIABETES, dtype: int64"
            ]
          },
          "metadata": {},
          "execution_count": 31
        }
      ]
    },
    {
      "cell_type": "code",
      "source": [
        "round(df[\"DIABETES\"].value_counts(normalize=True)*100,2)"
      ],
      "metadata": {
        "colab": {
          "base_uri": "https://localhost:8080/"
        },
        "id": "bhN3QSAESjkE",
        "outputId": "0f0aa4d8-03ea-4bf7-8232-25c07d1697de"
      },
      "execution_count": null,
      "outputs": [
        {
          "output_type": "execute_result",
          "data": {
            "text/plain": [
              "2     87.73\n",
              "1     11.95\n",
              "98     0.32\n",
              "Name: DIABETES, dtype: float64"
            ]
          },
          "metadata": {},
          "execution_count": 32
        }
      ]
    },
    {
      "cell_type": "markdown",
      "source": [
        "En un principio nos interesa cambiar el valor de los negativos por 0 en vez de 2 para obtener un valor booleano.\n",
        ">Por otro lado podemos notar que los valores no registrados son una porcion insignificante y por ende pueden ser removidos."
      ],
      "metadata": {
        "id": "A5zgBeDBTPiQ"
      }
    },
    {
      "cell_type": "code",
      "source": [
        "df.loc[(df[\"DIABETES\"] == 2), \"DIABETES\"] = 0\n",
        "df.drop (df.loc[(df[\"DIABETES\"] == 98)].index, axis=0, inplace=True)\n",
        "df[\"DIABETES\"].value_counts()"
      ],
      "metadata": {
        "colab": {
          "base_uri": "https://localhost:8080/"
        },
        "id": "20768WqcTvt8",
        "outputId": "dc28fb11-76ab-427c-c906-86dafb67c3a6"
      },
      "execution_count": null,
      "outputs": [
        {
          "output_type": "execute_result",
          "data": {
            "text/plain": [
              "0    905856\n",
              "1    123395\n",
              "Name: DIABETES, dtype: int64"
            ]
          },
          "metadata": {},
          "execution_count": 33
        }
      ]
    },
    {
      "cell_type": "markdown",
      "source": [
        "##COPD"
      ],
      "metadata": {
        "id": "cAzt1abXUuE6"
      }
    },
    {
      "cell_type": "markdown",
      "source": [
        "COPD es la variable que indica si el paciente tiene enfermedad pulmonar obstructiva crónica indicado con 1 o no indicado con 2."
      ],
      "metadata": {
        "id": "3XYUuuAKUxFy"
      }
    },
    {
      "cell_type": "code",
      "source": [
        "df.COPD.value_counts()"
      ],
      "metadata": {
        "colab": {
          "base_uri": "https://localhost:8080/"
        },
        "id": "Al9MLoQGVHFG",
        "outputId": "70615656-f456-4fda-baba-ebdf50644c87"
      },
      "execution_count": null,
      "outputs": [
        {
          "output_type": "execute_result",
          "data": {
            "text/plain": [
              "2     1014380\n",
              "1       14507\n",
              "98        364\n",
              "Name: COPD, dtype: int64"
            ]
          },
          "metadata": {},
          "execution_count": 34
        }
      ]
    },
    {
      "cell_type": "code",
      "source": [
        "round(df.COPD.value_counts(normalize=True)*100,2)"
      ],
      "metadata": {
        "colab": {
          "base_uri": "https://localhost:8080/"
        },
        "id": "qFM0mmHoVROc",
        "outputId": "c84a4343-c1a8-450f-d87e-38526978a1a8"
      },
      "execution_count": null,
      "outputs": [
        {
          "output_type": "execute_result",
          "data": {
            "text/plain": [
              "2     98.56\n",
              "1      1.41\n",
              "98     0.04\n",
              "Name: COPD, dtype: float64"
            ]
          },
          "metadata": {},
          "execution_count": 35
        }
      ]
    },
    {
      "cell_type": "markdown",
      "source": [
        "> Nos interesa hacer de esta una variable booleana y eliminar los registros incompletos debido a que son pocos."
      ],
      "metadata": {
        "id": "VO4LDlOoWG9z"
      }
    },
    {
      "cell_type": "code",
      "source": [
        "df.loc[(df.COPD == 2), \"COPD\"] = 0\n",
        "df.drop (df.loc[(df.COPD == 98)].index, axis=0, inplace=True)\n",
        "df.COPD.value_counts()"
      ],
      "metadata": {
        "colab": {
          "base_uri": "https://localhost:8080/"
        },
        "id": "J-E7vA_lVq25",
        "outputId": "a0c92058-2928-4822-8309-11f7f8b3d166"
      },
      "execution_count": null,
      "outputs": [
        {
          "output_type": "execute_result",
          "data": {
            "text/plain": [
              "0    1014380\n",
              "1      14507\n",
              "Name: COPD, dtype: int64"
            ]
          },
          "metadata": {},
          "execution_count": 36
        }
      ]
    },
    {
      "cell_type": "code",
      "source": [
        "df.columns"
      ],
      "metadata": {
        "id": "AM6f6vAiY9M2",
        "outputId": "6c37345d-7eee-4a3d-8f12-e147e821724a",
        "colab": {
          "base_uri": "https://localhost:8080/"
        }
      },
      "execution_count": null,
      "outputs": [
        {
          "output_type": "execute_result",
          "data": {
            "text/plain": [
              "Index(['USMER', 'SEX', 'HOSP', 'PNEUMONIA', 'AGE', 'DIABETES', 'COPD',\n",
              "       'ASTHMA', 'INMSUPR', 'HIPERTENSION', 'OTHER_DISEASE', 'CARDIOVASCULAR',\n",
              "       'OBESITY', 'RENAL_CHRONIC', 'TOBACCO', 'CLASIFFICATION_FINAL', 'ICU',\n",
              "       'MUERTE', 'MU4', 'MU12'],\n",
              "      dtype='object')"
            ]
          },
          "metadata": {},
          "execution_count": 37
        }
      ]
    },
    {
      "cell_type": "markdown",
      "source": [
        "##ASTHMA"
      ],
      "metadata": {
        "id": "xXek6u92DaVI"
      }
    },
    {
      "cell_type": "markdown",
      "source": [
        "ASTHMA Indica si el paciente tiene asma con 1 o no con 2."
      ],
      "metadata": {
        "id": "CBEn2EfLFuC9"
      }
    },
    {
      "cell_type": "code",
      "source": [
        "df.ASTHMA.value_counts()"
      ],
      "metadata": {
        "colab": {
          "base_uri": "https://localhost:8080/"
        },
        "id": "j9adm---F6b8",
        "outputId": "c9033447-aa07-4282-98a1-2d9fcd15e610"
      },
      "execution_count": null,
      "outputs": [
        {
          "output_type": "execute_result",
          "data": {
            "text/plain": [
              "2     998084\n",
              "1      30623\n",
              "98       180\n",
              "Name: ASTHMA, dtype: int64"
            ]
          },
          "metadata": {},
          "execution_count": 38
        }
      ]
    },
    {
      "cell_type": "code",
      "source": [
        "round(df.ASTHMA.value_counts(normalize=True)*100,2)"
      ],
      "metadata": {
        "colab": {
          "base_uri": "https://localhost:8080/"
        },
        "id": "OAZVcthoGTeC",
        "outputId": "849bfb91-294b-4e5b-fc57-7c1d15d81c37"
      },
      "execution_count": null,
      "outputs": [
        {
          "output_type": "execute_result",
          "data": {
            "text/plain": [
              "2     97.01\n",
              "1      2.98\n",
              "98     0.02\n",
              "Name: ASTHMA, dtype: float64"
            ]
          },
          "metadata": {},
          "execution_count": 39
        }
      ]
    },
    {
      "cell_type": "markdown",
      "source": [
        "Hacemos los mismos cambios que con las variables anteriores."
      ],
      "metadata": {
        "id": "3cDNZm0sGHFa"
      }
    },
    {
      "cell_type": "code",
      "source": [
        "df.loc[(df.ASTHMA == 2), \"ASTHMA\"] = 0\n",
        "df.drop (df.loc[(df.ASTHMA == 98)].index, axis=0, inplace=True)\n",
        "df.ASTHMA.value_counts()"
      ],
      "metadata": {
        "colab": {
          "base_uri": "https://localhost:8080/"
        },
        "id": "AMSy4ha3Gfxt",
        "outputId": "2d68cbdf-e1a4-496b-dc3d-9ad64381d547"
      },
      "execution_count": null,
      "outputs": [
        {
          "output_type": "execute_result",
          "data": {
            "text/plain": [
              "0    998084\n",
              "1     30623\n",
              "Name: ASTHMA, dtype: int64"
            ]
          },
          "metadata": {},
          "execution_count": 40
        }
      ]
    },
    {
      "cell_type": "markdown",
      "source": [
        "##INMSUPR"
      ],
      "metadata": {
        "id": "3OG0TQxODqGe"
      }
    },
    {
      "cell_type": "code",
      "source": [
        "df.INMSUPR.value_counts()"
      ],
      "metadata": {
        "colab": {
          "base_uri": "https://localhost:8080/"
        },
        "id": "SAl8yVstG4W3",
        "outputId": "169a56a3-2c93-443c-c390-f9f8fdad7122"
      },
      "execution_count": null,
      "outputs": [
        {
          "output_type": "execute_result",
          "data": {
            "text/plain": [
              "2     1014482\n",
              "1       13717\n",
              "98        508\n",
              "Name: INMSUPR, dtype: int64"
            ]
          },
          "metadata": {},
          "execution_count": 41
        }
      ]
    },
    {
      "cell_type": "code",
      "source": [
        "round(df.INMSUPR.value_counts(normalize=True)*100,2)"
      ],
      "metadata": {
        "colab": {
          "base_uri": "https://localhost:8080/"
        },
        "id": "zyfkL36_HFAM",
        "outputId": "e821588d-9d4e-447f-eb1a-c811bc648a0e"
      },
      "execution_count": null,
      "outputs": [
        {
          "output_type": "execute_result",
          "data": {
            "text/plain": [
              "2     98.62\n",
              "1      1.33\n",
              "98     0.05\n",
              "Name: INMSUPR, dtype: float64"
            ]
          },
          "metadata": {},
          "execution_count": 42
        }
      ]
    },
    {
      "cell_type": "markdown",
      "source": [
        "Mismo menester que con variables anteriores."
      ],
      "metadata": {
        "id": "srUYs6V1HEVV"
      }
    },
    {
      "cell_type": "code",
      "source": [
        "df.loc[(df.INMSUPR==2), \"INMSUPR\"] = 0\n",
        "df.drop(df.loc[(df.INMSUPR==98)].index, axis=0, inplace=True)\n",
        "df.INMSUPR.value_counts()"
      ],
      "metadata": {
        "colab": {
          "base_uri": "https://localhost:8080/"
        },
        "id": "jG35ZfImHZ1k",
        "outputId": "5b1c5e2a-fede-4431-fb32-9179961fe1e1"
      },
      "execution_count": null,
      "outputs": [
        {
          "output_type": "execute_result",
          "data": {
            "text/plain": [
              "0    1014482\n",
              "1      13717\n",
              "Name: INMSUPR, dtype: int64"
            ]
          },
          "metadata": {},
          "execution_count": 43
        }
      ]
    },
    {
      "cell_type": "markdown",
      "source": [
        "##HIPERTENSION"
      ],
      "metadata": {
        "id": "Aoszz3ZnDsUf"
      }
    },
    {
      "cell_type": "markdown",
      "source": [
        "HIPERTENSION es la variable que contabiliza los pacientes con hipertención (1 para positivo y 2 para negativo)"
      ],
      "metadata": {
        "id": "wmcT3bU1RifV"
      }
    },
    {
      "cell_type": "code",
      "source": [
        "df.HIPERTENSION.value_counts()"
      ],
      "metadata": {
        "colab": {
          "base_uri": "https://localhost:8080/"
        },
        "id": "UM0v-BOLRvpj",
        "outputId": "99a85532-b522-4bdb-a677-e775d6f5b82f"
      },
      "execution_count": null,
      "outputs": [
        {
          "output_type": "execute_result",
          "data": {
            "text/plain": [
              "2     867697\n",
              "1     160278\n",
              "98       224\n",
              "Name: HIPERTENSION, dtype: int64"
            ]
          },
          "metadata": {},
          "execution_count": 44
        }
      ]
    },
    {
      "cell_type": "code",
      "source": [
        "round(df.HIPERTENSION.value_counts(normalize=True)*100,2)"
      ],
      "metadata": {
        "colab": {
          "base_uri": "https://localhost:8080/"
        },
        "id": "rSZnsbOVR6hT",
        "outputId": "b3530911-f3be-4733-b1f2-0364496c4075"
      },
      "execution_count": null,
      "outputs": [
        {
          "output_type": "execute_result",
          "data": {
            "text/plain": [
              "2     84.39\n",
              "1     15.59\n",
              "98     0.02\n",
              "Name: HIPERTENSION, dtype: float64"
            ]
          },
          "metadata": {},
          "execution_count": 45
        }
      ]
    },
    {
      "cell_type": "markdown",
      "source": [
        "Aplicamos los cambios de las variables anteriores."
      ],
      "metadata": {
        "id": "dh09oj-DSFMQ"
      }
    },
    {
      "cell_type": "code",
      "source": [
        "df.loc[(df.HIPERTENSION == 2), \"HIPERTENSION\"] = 0\n",
        "df.drop(df.loc[(df.HIPERTENSION == 98)].index, axis = 0, inplace = True)\n",
        "df.HIPERTENSION.value_counts()"
      ],
      "metadata": {
        "colab": {
          "base_uri": "https://localhost:8080/"
        },
        "id": "0oT6leHWSL8i",
        "outputId": "7f4fbf62-2ce9-479d-f33b-a623799e5111"
      },
      "execution_count": null,
      "outputs": [
        {
          "output_type": "execute_result",
          "data": {
            "text/plain": [
              "0    867697\n",
              "1    160278\n",
              "Name: HIPERTENSION, dtype: int64"
            ]
          },
          "metadata": {},
          "execution_count": 46
        }
      ]
    },
    {
      "cell_type": "markdown",
      "source": [
        "##OTHER_DISEASE"
      ],
      "metadata": {
        "id": "kx8Wd8BAD1Ap"
      }
    },
    {
      "cell_type": "markdown",
      "source": [
        "OTHER_DISEASE es la variable que indica si el paciente tiene otras enfermedades donde 1 es para positivo y 2 para la negativa."
      ],
      "metadata": {
        "id": "3AzjDtTgUBWG"
      }
    },
    {
      "cell_type": "code",
      "source": [
        "df.OTHER_DISEASE.value_counts()"
      ],
      "metadata": {
        "colab": {
          "base_uri": "https://localhost:8080/"
        },
        "id": "QkzCUnYOUOQ9",
        "outputId": "124347ab-33af-479b-fc2b-4c246f33cf68"
      },
      "execution_count": null,
      "outputs": [
        {
          "output_type": "execute_result",
          "data": {
            "text/plain": [
              "2     998991\n",
              "1      27182\n",
              "98      1802\n",
              "Name: OTHER_DISEASE, dtype: int64"
            ]
          },
          "metadata": {},
          "execution_count": 47
        }
      ]
    },
    {
      "cell_type": "code",
      "source": [
        "round(df.OTHER_DISEASE.value_counts(normalize=True)*100,2)"
      ],
      "metadata": {
        "colab": {
          "base_uri": "https://localhost:8080/"
        },
        "id": "aQOaM1X4UXNx",
        "outputId": "ace47af5-d46b-4c9b-a9bb-5756e028743c"
      },
      "execution_count": null,
      "outputs": [
        {
          "output_type": "execute_result",
          "data": {
            "text/plain": [
              "2     97.18\n",
              "1      2.64\n",
              "98     0.18\n",
              "Name: OTHER_DISEASE, dtype: float64"
            ]
          },
          "metadata": {},
          "execution_count": 48
        }
      ]
    },
    {
      "cell_type": "markdown",
      "source": [
        "Se puede notar que la cantidad de registros faltantes es más significativa pero de igual manera son pocos en magnitud por lo que los eliminaremos."
      ],
      "metadata": {
        "id": "_kONxwgAUjKe"
      }
    },
    {
      "cell_type": "code",
      "source": [
        "df.loc[(df.OTHER_DISEASE == 2), \"OTHER_DISEASE\"] = 0\n",
        "df.drop(df.loc[(df.OTHER_DISEASE == 98)].index, axis = 0, inplace = True)\n",
        "df.OTHER_DISEASE.value_counts()"
      ],
      "metadata": {
        "colab": {
          "base_uri": "https://localhost:8080/"
        },
        "id": "BA-X2A-eUynv",
        "outputId": "92751f06-916b-4b90-e66c-f589eaac60e0"
      },
      "execution_count": null,
      "outputs": [
        {
          "output_type": "execute_result",
          "data": {
            "text/plain": [
              "0    998991\n",
              "1     27182\n",
              "Name: OTHER_DISEASE, dtype: int64"
            ]
          },
          "metadata": {},
          "execution_count": 49
        }
      ]
    },
    {
      "cell_type": "markdown",
      "source": [
        "##CARDIOVASCULAR"
      ],
      "metadata": {
        "id": "XtGomOg3D5VV"
      }
    },
    {
      "cell_type": "markdown",
      "source": [
        "CARDIOVASCULAR es una variable que indica los pacientes que tienen afecciones del distema circulatorio, ya sean del corazón o de los vasos sanguineos. Indicando 1 para positivo y 2 para negativo."
      ],
      "metadata": {
        "id": "nsQenbRVVD4J"
      }
    },
    {
      "cell_type": "code",
      "source": [
        "df.CARDIOVASCULAR.value_counts()"
      ],
      "metadata": {
        "colab": {
          "base_uri": "https://localhost:8080/"
        },
        "id": "ZpiA2oJkVE2R",
        "outputId": "ec5728e6-2801-45e8-ddbf-4d696629d574"
      },
      "execution_count": null,
      "outputs": [
        {
          "output_type": "execute_result",
          "data": {
            "text/plain": [
              "2     1005884\n",
              "1       20156\n",
              "98        133\n",
              "Name: CARDIOVASCULAR, dtype: int64"
            ]
          },
          "metadata": {},
          "execution_count": 50
        }
      ]
    },
    {
      "cell_type": "code",
      "source": [
        "round (df.CARDIOVASCULAR.value_counts(normalize = True)*100,2)"
      ],
      "metadata": {
        "colab": {
          "base_uri": "https://localhost:8080/"
        },
        "id": "CEuR32j1V-BY",
        "outputId": "26e85f92-6c47-4792-f0b7-747d18db48f1"
      },
      "execution_count": null,
      "outputs": [
        {
          "output_type": "execute_result",
          "data": {
            "text/plain": [
              "2     98.02\n",
              "1      1.96\n",
              "98     0.01\n",
              "Name: CARDIOVASCULAR, dtype: float64"
            ]
          },
          "metadata": {},
          "execution_count": 51
        }
      ]
    },
    {
      "cell_type": "markdown",
      "source": [
        "Aplicamos lo el mismo criterio que con variables anteriores."
      ],
      "metadata": {
        "id": "Zoh6ghpmWwcx"
      }
    },
    {
      "cell_type": "code",
      "source": [
        "df.loc[(df.CARDIOVASCULAR == 2), \"CARDIOVASCULAR\"] = 0\n",
        "df.drop(df.loc[(df.CARDIOVASCULAR == 98)].index, axis = 0 , inplace = True)\n",
        "df.CARDIOVASCULAR.value_counts()"
      ],
      "metadata": {
        "colab": {
          "base_uri": "https://localhost:8080/"
        },
        "id": "qRBfh6FzW348",
        "outputId": "33b10c0e-1193-4626-edfd-135da58a884a"
      },
      "execution_count": null,
      "outputs": [
        {
          "output_type": "execute_result",
          "data": {
            "text/plain": [
              "0    1005884\n",
              "1      20156\n",
              "Name: CARDIOVASCULAR, dtype: int64"
            ]
          },
          "metadata": {},
          "execution_count": 52
        }
      ]
    },
    {
      "cell_type": "markdown",
      "source": [
        "##OBESITY"
      ],
      "metadata": {
        "id": "AdoiP8uVD8sw"
      }
    },
    {
      "cell_type": "code",
      "source": [
        "df.OBESITY.value_counts()"
      ],
      "metadata": {
        "colab": {
          "base_uri": "https://localhost:8080/"
        },
        "id": "OSbGUNe7X2Q_",
        "outputId": "fc16cead-ceec-4a96-dc5d-d1e7203a39f1"
      },
      "execution_count": null,
      "outputs": [
        {
          "output_type": "execute_result",
          "data": {
            "text/plain": [
              "2     868516\n",
              "1     157142\n",
              "98       382\n",
              "Name: OBESITY, dtype: int64"
            ]
          },
          "metadata": {},
          "execution_count": 53
        }
      ]
    },
    {
      "cell_type": "code",
      "source": [
        "round (df.OBESITY.value_counts(normalize = True)*100,2)"
      ],
      "metadata": {
        "colab": {
          "base_uri": "https://localhost:8080/"
        },
        "id": "QKqm1dsvX9IB",
        "outputId": "767b7173-540f-4e5c-882a-57a8f14372e2"
      },
      "execution_count": null,
      "outputs": [
        {
          "output_type": "execute_result",
          "data": {
            "text/plain": [
              "2     84.65\n",
              "1     15.32\n",
              "98     0.04\n",
              "Name: OBESITY, dtype: float64"
            ]
          },
          "metadata": {},
          "execution_count": 54
        }
      ]
    },
    {
      "cell_type": "code",
      "source": [
        "df.loc[(df.OBESITY == 2), \"OBESITY\"] = 0\n",
        "df.drop(df.loc[(df.OBESITY == 98)].index, axis = 0 , inplace = True)\n",
        "df.OBESITY.value_counts()"
      ],
      "metadata": {
        "colab": {
          "base_uri": "https://localhost:8080/"
        },
        "id": "pZt1AngNYHck",
        "outputId": "f9a65ac6-73a5-4b82-9bae-1e2fb5be4a9c"
      },
      "execution_count": null,
      "outputs": [
        {
          "output_type": "execute_result",
          "data": {
            "text/plain": [
              "0    868516\n",
              "1    157142\n",
              "Name: OBESITY, dtype: int64"
            ]
          },
          "metadata": {},
          "execution_count": 55
        }
      ]
    },
    {
      "cell_type": "markdown",
      "source": [
        "##RENAL_CHRONIC"
      ],
      "metadata": {
        "id": "SHLDEkV7EBkj"
      }
    },
    {
      "cell_type": "code",
      "source": [
        "df.RENAL_CHRONIC.value_counts()"
      ],
      "metadata": {
        "colab": {
          "base_uri": "https://localhost:8080/"
        },
        "id": "bLSGuHYjYUMo",
        "outputId": "83044724-63f4-4225-e508-0dcf27cc9460"
      },
      "execution_count": null,
      "outputs": [
        {
          "output_type": "execute_result",
          "data": {
            "text/plain": [
              "2     1007142\n",
              "1       18375\n",
              "98        141\n",
              "Name: RENAL_CHRONIC, dtype: int64"
            ]
          },
          "metadata": {},
          "execution_count": 56
        }
      ]
    },
    {
      "cell_type": "code",
      "source": [
        "round (df.RENAL_CHRONIC.value_counts(normalize = True)*100,2)"
      ],
      "metadata": {
        "colab": {
          "base_uri": "https://localhost:8080/"
        },
        "id": "9t1YuARPYa5I",
        "outputId": "ad32a675-20c0-445a-a538-85baa8419586"
      },
      "execution_count": null,
      "outputs": [
        {
          "output_type": "execute_result",
          "data": {
            "text/plain": [
              "2     98.19\n",
              "1      1.79\n",
              "98     0.01\n",
              "Name: RENAL_CHRONIC, dtype: float64"
            ]
          },
          "metadata": {},
          "execution_count": 57
        }
      ]
    },
    {
      "cell_type": "code",
      "source": [
        "df.loc[(df.RENAL_CHRONIC == 2), \"RENAL_CHRONIC\"] = 0\n",
        "df.drop(df.loc[(df.RENAL_CHRONIC == 98)].index, axis = 0 , inplace = True)\n",
        "df.RENAL_CHRONIC.value_counts()"
      ],
      "metadata": {
        "colab": {
          "base_uri": "https://localhost:8080/"
        },
        "id": "wBJ1n5-dYhJu",
        "outputId": "d3c5a3ea-c113-4a26-c034-cf0b35adf661"
      },
      "execution_count": null,
      "outputs": [
        {
          "output_type": "execute_result",
          "data": {
            "text/plain": [
              "0    1007142\n",
              "1      18375\n",
              "Name: RENAL_CHRONIC, dtype: int64"
            ]
          },
          "metadata": {},
          "execution_count": 58
        }
      ]
    },
    {
      "cell_type": "markdown",
      "source": [
        "##TOBACCO"
      ],
      "metadata": {
        "id": "smqGOrQUEFhd"
      }
    },
    {
      "cell_type": "code",
      "source": [
        "df.TOBACCO.value_counts()"
      ],
      "metadata": {
        "colab": {
          "base_uri": "https://localhost:8080/"
        },
        "id": "0lCrUylvY1DE",
        "outputId": "ec541579-6f71-4c05-e687-c242aae06b93"
      },
      "execution_count": null,
      "outputs": [
        {
          "output_type": "execute_result",
          "data": {
            "text/plain": [
              "2     942477\n",
              "1      82675\n",
              "98       365\n",
              "Name: TOBACCO, dtype: int64"
            ]
          },
          "metadata": {},
          "execution_count": 59
        }
      ]
    },
    {
      "cell_type": "code",
      "source": [
        "round (df.TOBACCO.value_counts(normalize = True)*100,2)"
      ],
      "metadata": {
        "colab": {
          "base_uri": "https://localhost:8080/"
        },
        "id": "rDQXYjjaY6pE",
        "outputId": "c96381bd-58c8-4102-ab00-1fb692f7b5b9"
      },
      "execution_count": null,
      "outputs": [
        {
          "output_type": "execute_result",
          "data": {
            "text/plain": [
              "2     91.90\n",
              "1      8.06\n",
              "98     0.04\n",
              "Name: TOBACCO, dtype: float64"
            ]
          },
          "metadata": {},
          "execution_count": 60
        }
      ]
    },
    {
      "cell_type": "code",
      "source": [
        "df.loc[(df.TOBACCO == 2), \"TOBACCO\"] = 0\n",
        "df.drop(df.loc[(df.TOBACCO == 98)].index, axis = 0 , inplace = True)\n",
        "df.TOBACCO.value_counts()"
      ],
      "metadata": {
        "colab": {
          "base_uri": "https://localhost:8080/"
        },
        "id": "JDzE-rVnY_gR",
        "outputId": "64acdcf0-0828-4fb0-c339-047772b9ba9c"
      },
      "execution_count": null,
      "outputs": [
        {
          "output_type": "execute_result",
          "data": {
            "text/plain": [
              "0    942477\n",
              "1     82675\n",
              "Name: TOBACCO, dtype: int64"
            ]
          },
          "metadata": {},
          "execution_count": 61
        }
      ]
    },
    {
      "cell_type": "markdown",
      "source": [
        "##CLASIFFICATION_FINAL"
      ],
      "metadata": {
        "id": "xHIh6wAzEJDw"
      }
    },
    {
      "cell_type": "markdown",
      "source": [
        "CLASIFFICATION_FINAL son los resultados de la prueba de covid. Los valores 1-3 significan que el paciente fue diagnosticado con covid en diferentes grados. 4 o superior significa que el paciente no es portador de covid o que la prueba no es concluyente"
      ],
      "metadata": {
        "id": "Lg9_6XYw7b29"
      }
    },
    {
      "cell_type": "markdown",
      "source": [
        "Como el objetivo de nuestro trabajo es determinar cuantos de los pacientes con covid-19 van a morir, debemos eliminar los que no son pacientes de covid-19 y agrupar el resto."
      ],
      "metadata": {
        "id": "A3LWLYDu7ljp"
      }
    },
    {
      "cell_type": "code",
      "source": [
        "df.CLASIFFICATION_FINAL.value_counts()"
      ],
      "metadata": {
        "colab": {
          "base_uri": "https://localhost:8080/"
        },
        "id": "9gbWXvyzZN_D",
        "outputId": "ee73144f-4332-40c3-ab5e-2c39995ef120"
      },
      "execution_count": null,
      "outputs": [
        {
          "output_type": "execute_result",
          "data": {
            "text/plain": [
              "7    490123\n",
              "3    378629\n",
              "6    117756\n",
              "5     25305\n",
              "1      8448\n",
              "4      3090\n",
              "2      1801\n",
              "Name: CLASIFFICATION_FINAL, dtype: int64"
            ]
          },
          "metadata": {},
          "execution_count": 62
        }
      ]
    },
    {
      "cell_type": "code",
      "source": [
        "df.drop(df.loc[(df.CLASIFFICATION_FINAL > 3)].index , axis = 0 , inplace = True)\n",
        "df.drop([\"CLASIFFICATION_FINAL\"], axis=\"columns\", inplace = True)\n",
        "df.MUERTE.value_counts()"
      ],
      "metadata": {
        "colab": {
          "base_uri": "https://localhost:8080/"
        },
        "id": "deYeuQh-2hq8",
        "outputId": "87d3f2a2-f4e9-4a09-9a66-3b499c939779"
      },
      "execution_count": null,
      "outputs": [
        {
          "output_type": "execute_result",
          "data": {
            "text/plain": [
              "0.0    335518\n",
              "1.0     53360\n",
              "Name: MUERTE, dtype: int64"
            ]
          },
          "metadata": {},
          "execution_count": 63
        }
      ]
    },
    {
      "cell_type": "markdown",
      "source": [
        "##ICU"
      ],
      "metadata": {
        "id": "je6mTVNdEMnz"
      }
    },
    {
      "cell_type": "markdown",
      "source": [
        "ICU Indica si el paciente había sido ingresado en una Unidad de Cuidados Intensivos."
      ],
      "metadata": {
        "id": "FlxnehtX9bZP"
      }
    },
    {
      "cell_type": "markdown",
      "source": [
        "Como el objetivo del trabajo es determinar cuales pacientes tienen riesgo de vida no nos detendremos a ver la clasificacion que los medicos hicieron sobre dicho riesgo sino sobre el riesgo real de dichos pacientes. Por lo tanto eliminaremos este dato."
      ],
      "metadata": {
        "id": "jlZI0uoR-jcR"
      }
    },
    {
      "cell_type": "code",
      "source": [
        "df.drop([\"ICU\"], axis=\"columns\", inplace = True)"
      ],
      "metadata": {
        "id": "X5zvW80a-6SB"
      },
      "execution_count": null,
      "outputs": []
    },
    {
      "cell_type": "markdown",
      "source": [
        "## HEATMAP"
      ],
      "metadata": {
        "id": "LMaUhnxTwS5Y"
      }
    },
    {
      "cell_type": "code",
      "source": [
        "plt.figure(figsize=(16,16))\n",
        "sns.heatmap(data=df.corr(),annot=True, fmt=\".2f\")"
      ],
      "metadata": {
        "colab": {
          "base_uri": "https://localhost:8080/",
          "height": 1000
        },
        "id": "ZdTe1vRewWzt",
        "outputId": "57426da1-165a-402a-ca1d-a657bc5ac7d6"
      },
      "execution_count": null,
      "outputs": [
        {
          "output_type": "execute_result",
          "data": {
            "text/plain": [
              "<AxesSubplot:>"
            ]
          },
          "metadata": {},
          "execution_count": 65
        },
        {
          "output_type": "display_data",
          "data": {
            "text/plain": [
              "<Figure size 1152x1152 with 2 Axes>"
            ],
            "image/png": "[encoded data removed]"
          },
          "metadata": {
            "needs_background": "light"
          }
        }
      ]
    },
    {
      "cell_type": "markdown",
      "source": [
        "#Arbol de Desiciones"
      ],
      "metadata": {
        "id": "N6ZSXt8XANxD"
      }
    },
    {
      "cell_type": "code",
      "source": [
        "#Algortimo Ml seleccionados \n",
        "\n",
        "from sklearn.tree import DecisionTreeClassifier\n",
        "from sklearn.model_selection import cross_val_score\n",
        "\n",
        "#Metricas \n",
        "\n",
        "from sklearn.model_selection import train_test_split\n",
        "from sklearn import tree"
      ],
      "metadata": {
        "id": "DuccvjpaASsP"
      },
      "execution_count": null,
      "outputs": []
    },
    {
      "cell_type": "code",
      "source": [
        "Car = df.drop('MUERTE',axis = 1)\n",
        "obj = df.MUERTE\n",
        "\n",
        "X = Car\n",
        "y = obj"
      ],
      "metadata": {
        "id": "EPplOllGAxUC"
      },
      "execution_count": null,
      "outputs": []
    },
    {
      "cell_type": "code",
      "source": [
        "X_train, X_test, y_train, y_test = train_test_split(X, y, test_size = 0.20, random_state = 42, stratify= y)"
      ],
      "metadata": {
        "id": "32_3CNYwA-du"
      },
      "execution_count": null,
      "outputs": []
    },
    {
      "cell_type": "code",
      "source": [
        "Dec_model=DecisionTreeClassifier( )\n",
        "Dec_model.fit(X_train,y_train)"
      ],
      "metadata": {
        "colab": {
          "base_uri": "https://localhost:8080/"
        },
        "id": "TRFkEYagBCSI",
        "outputId": "0630d4ec-f445-407a-f8d5-e0b035c5eccf"
      },
      "execution_count": null,
      "outputs": [
        {
          "output_type": "execute_result",
          "data": {
            "text/plain": [
              "DecisionTreeClassifier()"
            ]
          },
          "metadata": {},
          "execution_count": 79
        }
      ]
    },
    {
      "cell_type": "code",
      "source": [
        "DecisionTreeClassifier()"
      ],
      "metadata": {
        "id": "mqOZ-RCuBKfo",
        "colab": {
          "base_uri": "https://localhost:8080/"
        },
        "outputId": "c31cfd74-e9cb-41a6-b620-5adeaa72d113"
      },
      "execution_count": null,
      "outputs": [
        {
          "output_type": "execute_result",
          "data": {
            "text/plain": [
              "DecisionTreeClassifier()"
            ]
          },
          "metadata": {},
          "execution_count": 80
        }
      ]
    },
    {
      "cell_type": "code",
      "source": [
        "print(Dec_model.predict(X.head()))\n",
        "print(df.MUERTE.head())"
      ],
      "metadata": {
        "id": "neWIF5LtBNt5",
        "colab": {
          "base_uri": "https://localhost:8080/"
        },
        "outputId": "fb358250-4c4b-4c1a-b2e1-b526aa8beb1f"
      },
      "execution_count": null,
      "outputs": [
        {
          "output_type": "stream",
          "name": "stdout",
          "text": [
            "[0. 0. 0. 0. 0.]\n",
            "0    1.0\n",
            "2    1.0\n",
            "4    1.0\n",
            "5    0.0\n",
            "6    0.0\n",
            "Name: MUERTE, dtype: float64\n"
          ]
        }
      ]
    },
    {
      "cell_type": "markdown",
      "source": [
        "Al parecer el modelo tiene una tendencia a decir que los muertos estan vivos, devido a que los muertos son una parte menor de la población. Es un modelo sesgado."
      ],
      "metadata": {
        "id": "ZbFlTiPmEV9M"
      }
    },
    {
      "cell_type": "code",
      "source": [
        "round(df.MUERTE.value_counts(normalize = True)*100, 2)"
      ],
      "metadata": {
        "id": "wVUluosJEpWz",
        "colab": {
          "base_uri": "https://localhost:8080/"
        },
        "outputId": "f043d6e8-f992-4665-881e-bfa81f2607d1"
      },
      "execution_count": null,
      "outputs": [
        {
          "output_type": "execute_result",
          "data": {
            "text/plain": [
              "0.0    86.28\n",
              "1.0    13.72\n",
              "Name: MUERTE, dtype: float64"
            ]
          },
          "metadata": {},
          "execution_count": 82
        }
      ]
    },
    {
      "cell_type": "code",
      "source": [
        "Dec_model.score(X_test,y_test)"
      ],
      "metadata": {
        "id": "YSmSMJo7BbWO",
        "colab": {
          "base_uri": "https://localhost:8080/"
        },
        "outputId": "ec7a69df-9c36-4c8d-922e-06e3ea09368f"
      },
      "execution_count": null,
      "outputs": [
        {
          "output_type": "execute_result",
          "data": {
            "text/plain": [
              "0.8798986833984777"
            ]
          },
          "metadata": {},
          "execution_count": 83
        }
      ]
    }
  ]
}